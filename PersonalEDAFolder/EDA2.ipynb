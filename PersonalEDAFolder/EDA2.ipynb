{
 "cells": [
  {
   "cell_type": "code",
   "execution_count": 1,
   "metadata": {
    "collapsed": true,
    "pycharm": {
     "name": "#%%\n"
    }
   },
   "outputs": [
    {
     "name": "stdout",
     "output_type": "stream",
     "text": [
      "pandas version: 1.2.4\n",
      "numpy version: 1.20.1\n",
      "seaborn version: 0.11.2\n"
     ]
    }
   ],
   "source": [
    "import os\n",
    "\n",
    "import scipy.stats as ss\n",
    "from dotenv import load_dotenv\n",
    "from sklearn.preprocessing import MinMaxScaler, StandardScaler\n",
    "import category_encoders as ce\n",
    "import pickle\n",
    "\n",
    "\n",
    "import numpy as np # linear algebra\n",
    "import pandas as pd # data processing, CSV file I/O (e.g. pd.read_csv)\n",
    "import seaborn as sns # nice visualisations\n",
    "import matplotlib.pyplot as plt # basic visualisation library\n",
    "import datetime as dt # library to opearate on dates\n",
    "\n",
    "from DataProcessing.extract_ICMs import gen_ICM_list\n",
    "from DataProcessing.split_train_validation_leave_timestamp_out import split_train_validation_multiple_intervals, \\\n",
    "    split_train_validation_multiple_intervals_Explicit_By_Repeat_Purchase\n",
    "from Data_cleaning.customers_cleaning import *\n",
    "from Data_manager.DatasetMapperManager import DatasetMapperManager\n",
    "from Data_manager.HMDatasetReader import HMDatasetReader\n",
    "\n",
    "print(\"pandas version: {}\".format(pd.__version__))\n",
    "print(\"numpy version: {}\".format(np.__version__))\n",
    "print(\"seaborn version: {}\".format(sns.__version__))\n",
    "\n",
    "\n",
    "from tqdm import tqdm\n",
    "\n",
    "import warnings\n",
    "warnings.filterwarnings('ignore')"
   ]
  },
  {
   "cell_type": "code",
   "execution_count": 2,
   "outputs": [
    {
     "ename": "ParserError",
     "evalue": "Error tokenizing data. C error: Calling read(nbytes) on source failed. Try engine='python'.",
     "output_type": "error",
     "traceback": [
      "\u001B[0;31m---------------------------------------------------------------------------\u001B[0m",
      "\u001B[0;31mParserError\u001B[0m                               Traceback (most recent call last)",
      "Input \u001B[0;32mIn [2]\u001B[0m, in \u001B[0;36m<cell line: 8>\u001B[0;34m()\u001B[0m\n\u001B[1;32m      6\u001B[0m df_articles\u001B[38;5;241m=\u001B[39mpd\u001B[38;5;241m.\u001B[39mread_csv(os\u001B[38;5;241m.\u001B[39mpath\u001B[38;5;241m.\u001B[39mjoin(path,dataset_dict[\u001B[38;5;124m\"\u001B[39m\u001B[38;5;124marticles\u001B[39m\u001B[38;5;124m\"\u001B[39m]))\n\u001B[1;32m      7\u001B[0m df_customers\u001B[38;5;241m=\u001B[39mpd\u001B[38;5;241m.\u001B[39mread_csv(os\u001B[38;5;241m.\u001B[39mpath\u001B[38;5;241m.\u001B[39mjoin(path,dataset_dict[\u001B[38;5;124m\"\u001B[39m\u001B[38;5;124mcustomers\u001B[39m\u001B[38;5;124m\"\u001B[39m]))\n\u001B[0;32m----> 8\u001B[0m df_transactions\u001B[38;5;241m=\u001B[39m\u001B[43mpd\u001B[49m\u001B[38;5;241;43m.\u001B[39;49m\u001B[43mread_csv\u001B[49m\u001B[43m(\u001B[49m\u001B[43mos\u001B[49m\u001B[38;5;241;43m.\u001B[39;49m\u001B[43mpath\u001B[49m\u001B[38;5;241;43m.\u001B[39;49m\u001B[43mjoin\u001B[49m\u001B[43m(\u001B[49m\u001B[43mpath\u001B[49m\u001B[43m,\u001B[49m\u001B[43mdataset_dict\u001B[49m\u001B[43m[\u001B[49m\u001B[38;5;124;43m\"\u001B[39;49m\u001B[38;5;124;43mtransactions\u001B[39;49m\u001B[38;5;124;43m\"\u001B[39;49m\u001B[43m]\u001B[49m\u001B[43m)\u001B[49m\u001B[43m)\u001B[49m\n",
      "File \u001B[0;32m~/Project_Folder/h-m-recsys-competition/venv/lib/python3.8/site-packages/pandas/io/parsers.py:610\u001B[0m, in \u001B[0;36mread_csv\u001B[0;34m(filepath_or_buffer, sep, delimiter, header, names, index_col, usecols, squeeze, prefix, mangle_dupe_cols, dtype, engine, converters, true_values, false_values, skipinitialspace, skiprows, skipfooter, nrows, na_values, keep_default_na, na_filter, verbose, skip_blank_lines, parse_dates, infer_datetime_format, keep_date_col, date_parser, dayfirst, cache_dates, iterator, chunksize, compression, thousands, decimal, lineterminator, quotechar, quoting, doublequote, escapechar, comment, encoding, dialect, error_bad_lines, warn_bad_lines, delim_whitespace, low_memory, memory_map, float_precision, storage_options)\u001B[0m\n\u001B[1;32m    605\u001B[0m kwds_defaults \u001B[38;5;241m=\u001B[39m _refine_defaults_read(\n\u001B[1;32m    606\u001B[0m     dialect, delimiter, delim_whitespace, engine, sep, defaults\u001B[38;5;241m=\u001B[39m{\u001B[38;5;124m\"\u001B[39m\u001B[38;5;124mdelimiter\u001B[39m\u001B[38;5;124m\"\u001B[39m: \u001B[38;5;124m\"\u001B[39m\u001B[38;5;124m,\u001B[39m\u001B[38;5;124m\"\u001B[39m}\n\u001B[1;32m    607\u001B[0m )\n\u001B[1;32m    608\u001B[0m kwds\u001B[38;5;241m.\u001B[39mupdate(kwds_defaults)\n\u001B[0;32m--> 610\u001B[0m \u001B[38;5;28;01mreturn\u001B[39;00m \u001B[43m_read\u001B[49m\u001B[43m(\u001B[49m\u001B[43mfilepath_or_buffer\u001B[49m\u001B[43m,\u001B[49m\u001B[43m \u001B[49m\u001B[43mkwds\u001B[49m\u001B[43m)\u001B[49m\n",
      "File \u001B[0;32m~/Project_Folder/h-m-recsys-competition/venv/lib/python3.8/site-packages/pandas/io/parsers.py:468\u001B[0m, in \u001B[0;36m_read\u001B[0;34m(filepath_or_buffer, kwds)\u001B[0m\n\u001B[1;32m    465\u001B[0m     \u001B[38;5;28;01mreturn\u001B[39;00m parser\n\u001B[1;32m    467\u001B[0m \u001B[38;5;28;01mwith\u001B[39;00m parser:\n\u001B[0;32m--> 468\u001B[0m     \u001B[38;5;28;01mreturn\u001B[39;00m \u001B[43mparser\u001B[49m\u001B[38;5;241;43m.\u001B[39;49m\u001B[43mread\u001B[49m\u001B[43m(\u001B[49m\u001B[43mnrows\u001B[49m\u001B[43m)\u001B[49m\n",
      "File \u001B[0;32m~/Project_Folder/h-m-recsys-competition/venv/lib/python3.8/site-packages/pandas/io/parsers.py:1057\u001B[0m, in \u001B[0;36mTextFileReader.read\u001B[0;34m(self, nrows)\u001B[0m\n\u001B[1;32m   1055\u001B[0m \u001B[38;5;28;01mdef\u001B[39;00m \u001B[38;5;21mread\u001B[39m(\u001B[38;5;28mself\u001B[39m, nrows\u001B[38;5;241m=\u001B[39m\u001B[38;5;28;01mNone\u001B[39;00m):\n\u001B[1;32m   1056\u001B[0m     nrows \u001B[38;5;241m=\u001B[39m validate_integer(\u001B[38;5;124m\"\u001B[39m\u001B[38;5;124mnrows\u001B[39m\u001B[38;5;124m\"\u001B[39m, nrows)\n\u001B[0;32m-> 1057\u001B[0m     index, columns, col_dict \u001B[38;5;241m=\u001B[39m \u001B[38;5;28;43mself\u001B[39;49m\u001B[38;5;241;43m.\u001B[39;49m\u001B[43m_engine\u001B[49m\u001B[38;5;241;43m.\u001B[39;49m\u001B[43mread\u001B[49m\u001B[43m(\u001B[49m\u001B[43mnrows\u001B[49m\u001B[43m)\u001B[49m\n\u001B[1;32m   1059\u001B[0m     \u001B[38;5;28;01mif\u001B[39;00m index \u001B[38;5;129;01mis\u001B[39;00m \u001B[38;5;28;01mNone\u001B[39;00m:\n\u001B[1;32m   1060\u001B[0m         \u001B[38;5;28;01mif\u001B[39;00m col_dict:\n\u001B[1;32m   1061\u001B[0m             \u001B[38;5;66;03m# Any column is actually fine:\u001B[39;00m\n",
      "File \u001B[0;32m~/Project_Folder/h-m-recsys-competition/venv/lib/python3.8/site-packages/pandas/io/parsers.py:2061\u001B[0m, in \u001B[0;36mCParserWrapper.read\u001B[0;34m(self, nrows)\u001B[0m\n\u001B[1;32m   2059\u001B[0m \u001B[38;5;28;01mdef\u001B[39;00m \u001B[38;5;21mread\u001B[39m(\u001B[38;5;28mself\u001B[39m, nrows\u001B[38;5;241m=\u001B[39m\u001B[38;5;28;01mNone\u001B[39;00m):\n\u001B[1;32m   2060\u001B[0m     \u001B[38;5;28;01mtry\u001B[39;00m:\n\u001B[0;32m-> 2061\u001B[0m         data \u001B[38;5;241m=\u001B[39m \u001B[38;5;28;43mself\u001B[39;49m\u001B[38;5;241;43m.\u001B[39;49m\u001B[43m_reader\u001B[49m\u001B[38;5;241;43m.\u001B[39;49m\u001B[43mread\u001B[49m\u001B[43m(\u001B[49m\u001B[43mnrows\u001B[49m\u001B[43m)\u001B[49m\n\u001B[1;32m   2062\u001B[0m     \u001B[38;5;28;01mexcept\u001B[39;00m \u001B[38;5;167;01mStopIteration\u001B[39;00m:\n\u001B[1;32m   2063\u001B[0m         \u001B[38;5;28;01mif\u001B[39;00m \u001B[38;5;28mself\u001B[39m\u001B[38;5;241m.\u001B[39m_first_chunk:\n",
      "File \u001B[0;32mpandas/_libs/parsers.pyx:756\u001B[0m, in \u001B[0;36mpandas._libs.parsers.TextReader.read\u001B[0;34m()\u001B[0m\n",
      "File \u001B[0;32mpandas/_libs/parsers.pyx:771\u001B[0m, in \u001B[0;36mpandas._libs.parsers.TextReader._read_low_memory\u001B[0;34m()\u001B[0m\n",
      "File \u001B[0;32mpandas/_libs/parsers.pyx:827\u001B[0m, in \u001B[0;36mpandas._libs.parsers.TextReader._read_rows\u001B[0;34m()\u001B[0m\n",
      "File \u001B[0;32mpandas/_libs/parsers.pyx:814\u001B[0m, in \u001B[0;36mpandas._libs.parsers.TextReader._tokenize_rows\u001B[0;34m()\u001B[0m\n",
      "File \u001B[0;32mpandas/_libs/parsers.pyx:1951\u001B[0m, in \u001B[0;36mpandas._libs.parsers.raise_parser_error\u001B[0;34m()\u001B[0m\n",
      "\u001B[0;31mParserError\u001B[0m: Error tokenizing data. C error: Calling read(nbytes) on source failed. Try engine='python'."
     ]
    }
   ],
   "source": [
    "dataset_dict={\"articles\":\"articles.csv\",\"customers\":\"customers.csv\",\"transactions\":\"transactions_train.csv\"}\n",
    "\n",
    "\n",
    "path = '../dataset'\n",
    "\n",
    "df_articles=pd.read_csv(os.path.join(path,dataset_dict[\"articles\"]))\n",
    "df_customers=pd.read_csv(os.path.join(path,dataset_dict[\"customers\"]))\n",
    "df_transactions=pd.read_csv(os.path.join(path,dataset_dict[\"transactions\"]))"
   ],
   "metadata": {
    "collapsed": false,
    "pycharm": {
     "name": "#%%\n"
    }
   }
  },
  {
   "cell_type": "code",
   "execution_count": 122,
   "outputs": [
    {
     "name": "stderr",
     "output_type": "stream",
     "text": [
      "Traceback (most recent call last):\n",
      "  File \"/Applications/PyCharm.app/Contents/plugins/python/helpers/pydev/_pydevd_bundle/pydevd_comm.py\", line 292, in _on_run\n",
      "    r = self.sock.recv(1024)\n",
      "ConnectionResetError: [Errno 54] Connection reset by peer\n"
     ]
    },
    {
     "name": "stdout",
     "output_type": "stream",
     "text": [
      "Preprocessing dataframe...\n",
      "ERROR! Session/line number was not unique in database. History logging moved to new session 336\n",
      "Processing interval 1...\n",
      "Processing interval 1...\n",
      "                                                     UserID     ItemID  Data  \\\n",
      "12325430  0000d6c053fc8f9389d4565051f12402d5774aa4a9d2e5...  758064002   1.0   \n",
      "12325431  0000d6c053fc8f9389d4565051f12402d5774aa4a9d2e5...  566140001   1.0   \n",
      "12325432  000172a9c322560c849754ffbdfdb2180d408aa7176b94...  670942008   1.0   \n",
      "12325433  000172a9c322560c849754ffbdfdb2180d408aa7176b94...  380609037   1.0   \n",
      "12325434  000172a9c322560c849754ffbdfdb2180d408aa7176b94...  554811021   1.0   \n",
      "\n",
      "              t_dat  \n",
      "12325430 2019-06-22  \n",
      "12325431 2019-06-22  \n",
      "12325432 2019-06-22  \n",
      "12325433 2019-06-22  \n",
      "12325434 2019-06-22  \n",
      "                                                     UserID     ItemID  Data  \\\n",
      "16889895  ffe8f09992a6e188390e34872208dd23ebb6425957cc64...  772829002   1.0   \n",
      "16889896  fff88e9edfb6987b82fad36c1270082bc101be633efd0a...  817869001   1.0   \n",
      "16889897  fff88e9edfb6987b82fad36c1270082bc101be633efd0a...  652730010   1.0   \n",
      "16889898  fffbe76d05cba1b9bdf14bf67e58e7b73d4c2e3418f13c...  715624036   1.0   \n",
      "16889899  fffbe76d05cba1b9bdf14bf67e58e7b73d4c2e3418f13c...  456163051   1.0   \n",
      "\n",
      "              t_dat  \n",
      "16889895 2019-09-22  \n",
      "16889896 2019-09-22  \n",
      "16889897 2019-09-22  \n",
      "16889898 2019-09-22  \n",
      "16889899 2019-09-22  \n",
      "                                                     UserID     ItemID  Data  \\\n",
      "16889901  0008804a45e7fbc8653ba8f5ce15880cb966ca220c52d2...  743722002   1.0   \n",
      "16889902  0008804a45e7fbc8653ba8f5ce15880cb966ca220c52d2...  768503001   1.0   \n",
      "16889903  0008804a45e7fbc8653ba8f5ce15880cb966ca220c52d2...  753061003   1.0   \n",
      "16889904  0008804a45e7fbc8653ba8f5ce15880cb966ca220c52d2...  748140001   1.0   \n",
      "16889905  0008804a45e7fbc8653ba8f5ce15880cb966ca220c52d2...  748140001   1.0   \n",
      "\n",
      "              t_dat  \n",
      "16889901 2019-09-23  \n",
      "16889902 2019-09-23  \n",
      "16889903 2019-09-23  \n",
      "16889904 2019-09-23  \n",
      "16889905 2019-09-23  \n",
      "                                                     UserID     ItemID  Data  \\\n",
      "17313319  ffeeb69582892b79205ec19f7ac0d9633a04369a4357f9...  652956002   1.0   \n",
      "17313320  ffeeb69582892b79205ec19f7ac0d9633a04369a4357f9...  372860001   1.0   \n",
      "17313321  ffeeb69582892b79205ec19f7ac0d9633a04369a4357f9...  695632001   1.0   \n",
      "17313322  fff2c0da0dae66718c16c03b8ba64e7c6bdfb00e87ceaf...  772773002   1.0   \n",
      "17313323  fff2c0da0dae66718c16c03b8ba64e7c6bdfb00e87ceaf...  772773002   1.0   \n",
      "\n",
      "              t_dat  \n",
      "17313319 2019-09-29  \n",
      "17313320 2019-09-29  \n",
      "17313321 2019-09-29  \n",
      "17313322 2019-09-29  \n",
      "17313323 2019-09-29  \n"
     ]
    },
    {
     "name": "stderr",
     "output_type": "stream",
     "text": [
      "\n",
      "KeyboardInterrupt\n",
      "\n"
     ]
    }
   ],
   "source": [
    "manager = DatasetMapperManager()\n",
    "timestamp_list_train = [(\"2019-06-22\", \"2019-09-23\")]\n",
    "timestamp_list_validation = [(\"2019-09-23\", \"2019-09-30\")]\n",
    "\n",
    "split_train_validation_multiple_intervals_Explicit_By_Repeat_Purchase(manager,df_transactions,timestamp_list_train,timestamp_list_validation)"
   ],
   "metadata": {
    "collapsed": false,
    "pycharm": {
     "name": "#%%\n"
    }
   }
  },
  {
   "cell_type": "code",
   "execution_count": 121,
   "outputs": [
    {
     "data": {
      "text/plain": "{'URM_train':                                                      UserID     ItemID  Data\n 12325430  0000d6c053fc8f9389d4565051f12402d5774aa4a9d2e5...  758064002   1.0\n 12325431  0000d6c053fc8f9389d4565051f12402d5774aa4a9d2e5...  566140001   1.0\n 12325432  000172a9c322560c849754ffbdfdb2180d408aa7176b94...  670942008   1.0\n 12325433  000172a9c322560c849754ffbdfdb2180d408aa7176b94...  380609037   1.0\n 12325434  000172a9c322560c849754ffbdfdb2180d408aa7176b94...  554811021   1.0\n ...                                                     ...        ...   ...\n 16889895  ffe8f09992a6e188390e34872208dd23ebb6425957cc64...  772829002   1.0\n 16889896  fff88e9edfb6987b82fad36c1270082bc101be633efd0a...  817869001   1.0\n 16889897  fff88e9edfb6987b82fad36c1270082bc101be633efd0a...  652730010   1.0\n 16889898  fffbe76d05cba1b9bdf14bf67e58e7b73d4c2e3418f13c...  715624036   1.0\n 16889899  fffbe76d05cba1b9bdf14bf67e58e7b73d4c2e3418f13c...  456163051   1.0\n \n [3971423 rows x 3 columns],\n 'URM_validation':                                                      UserID     ItemID  Data\n 16889901  0008804a45e7fbc8653ba8f5ce15880cb966ca220c52d2...  743722002   1.0\n 16889902  0008804a45e7fbc8653ba8f5ce15880cb966ca220c52d2...  768503001   1.0\n 16889903  0008804a45e7fbc8653ba8f5ce15880cb966ca220c52d2...  753061003   1.0\n 16889904  0008804a45e7fbc8653ba8f5ce15880cb966ca220c52d2...  748140001   1.0\n 16889906  0008804a45e7fbc8653ba8f5ce15880cb966ca220c52d2...  730135004   1.0\n ...                                                     ...        ...   ...\n 17313318  ffeeb69582892b79205ec19f7ac0d9633a04369a4357f9...  762856001   1.0\n 17313319  ffeeb69582892b79205ec19f7ac0d9633a04369a4357f9...  652956002   1.0\n 17313320  ffeeb69582892b79205ec19f7ac0d9633a04369a4357f9...  372860001   1.0\n 17313321  ffeeb69582892b79205ec19f7ac0d9633a04369a4357f9...  695632001   1.0\n 17313322  fff2c0da0dae66718c16c03b8ba64e7c6bdfb00e87ceaf...  772773002   1.0\n \n [371229 rows x 3 columns]}"
     },
     "execution_count": 121,
     "metadata": {},
     "output_type": "execute_result"
    }
   ],
   "source": [
    "manager.URM_DICT"
   ],
   "metadata": {
    "collapsed": false,
    "pycharm": {
     "name": "#%%\n"
    }
   }
  },
  {
   "cell_type": "code",
   "execution_count": 93,
   "outputs": [],
   "source": [
    "timestamp_df = df_transactions.copy()\n",
    "timestamp_column = 't_dat'\n",
    "\n",
    "timestamp_df[timestamp_column] = pd.to_datetime(timestamp_df[timestamp_column], format='%Y-%m-%d')"
   ],
   "metadata": {
    "collapsed": false,
    "pycharm": {
     "name": "#%%\n"
    }
   }
  },
  {
   "cell_type": "code",
   "execution_count": 94,
   "outputs": [],
   "source": [
    "timestamp_df.rename(columns={\"customer_id\": \"UserID\", \"article_id\": \"ItemID\"}, inplace=True)\n",
    "timestamp_df['ItemID'] = timestamp_df['ItemID'].astype(str)\n",
    "# timestamp_df['Data'] = 1.0\n"
   ],
   "metadata": {
    "collapsed": false,
    "pycharm": {
     "name": "#%%\n"
    }
   }
  },
  {
   "cell_type": "code",
   "execution_count": 95,
   "outputs": [],
   "source": [
    "timestamp_df = timestamp_df.drop_duplicates()\n"
   ],
   "metadata": {
    "collapsed": false,
    "pycharm": {
     "name": "#%%\n"
    }
   }
  },
  {
   "cell_type": "code",
   "execution_count": 96,
   "outputs": [
    {
     "data": {
      "text/plain": "              t_dat                                             UserID  \\\n0        2018-09-20  000058a12d5b43e67d225668fa1f8d618c13dc232df0ca...   \n1        2018-09-20  000058a12d5b43e67d225668fa1f8d618c13dc232df0ca...   \n2        2018-09-20  00007d2de826758b65a93dd24ce629ed66842531df6699...   \n3        2018-09-20  00007d2de826758b65a93dd24ce629ed66842531df6699...   \n4        2018-09-20  00007d2de826758b65a93dd24ce629ed66842531df6699...   \n...             ...                                                ...   \n31788319 2020-09-22  fff2282977442e327b45d8c89afde25617d00124d0f999...   \n31788320 2020-09-22  fff2282977442e327b45d8c89afde25617d00124d0f999...   \n31788321 2020-09-22  fff380805474b287b05cb2a7507b9a013482f7dd0bce0e...   \n31788322 2020-09-22  fff4d3a8b1f3b60af93e78c30a7cb4cf75edaf2590d3e5...   \n31788323 2020-09-22  fffef3b6b73545df065b521e19f64bf6fe93bfd450ab20...   \n\n             ItemID     price  sales_channel_id  \n0         663713001  0.050831                 2  \n1         541518023  0.030492                 2  \n2         505221004  0.015237                 2  \n3         685687003  0.016932                 2  \n4         685687004  0.016932                 2  \n...             ...       ...               ...  \n31788319  929511001  0.059305                 2  \n31788320  891322004  0.042356                 2  \n31788321  918325001  0.043203                 1  \n31788322  833459002  0.006763                 1  \n31788323  898573003  0.033881                 2  \n\n[28813419 rows x 5 columns]",
      "text/html": "<div>\n<style scoped>\n    .dataframe tbody tr th:only-of-type {\n        vertical-align: middle;\n    }\n\n    .dataframe tbody tr th {\n        vertical-align: top;\n    }\n\n    .dataframe thead th {\n        text-align: right;\n    }\n</style>\n<table border=\"1\" class=\"dataframe\">\n  <thead>\n    <tr style=\"text-align: right;\">\n      <th></th>\n      <th>t_dat</th>\n      <th>UserID</th>\n      <th>ItemID</th>\n      <th>price</th>\n      <th>sales_channel_id</th>\n    </tr>\n  </thead>\n  <tbody>\n    <tr>\n      <th>0</th>\n      <td>2018-09-20</td>\n      <td>000058a12d5b43e67d225668fa1f8d618c13dc232df0ca...</td>\n      <td>663713001</td>\n      <td>0.050831</td>\n      <td>2</td>\n    </tr>\n    <tr>\n      <th>1</th>\n      <td>2018-09-20</td>\n      <td>000058a12d5b43e67d225668fa1f8d618c13dc232df0ca...</td>\n      <td>541518023</td>\n      <td>0.030492</td>\n      <td>2</td>\n    </tr>\n    <tr>\n      <th>2</th>\n      <td>2018-09-20</td>\n      <td>00007d2de826758b65a93dd24ce629ed66842531df6699...</td>\n      <td>505221004</td>\n      <td>0.015237</td>\n      <td>2</td>\n    </tr>\n    <tr>\n      <th>3</th>\n      <td>2018-09-20</td>\n      <td>00007d2de826758b65a93dd24ce629ed66842531df6699...</td>\n      <td>685687003</td>\n      <td>0.016932</td>\n      <td>2</td>\n    </tr>\n    <tr>\n      <th>4</th>\n      <td>2018-09-20</td>\n      <td>00007d2de826758b65a93dd24ce629ed66842531df6699...</td>\n      <td>685687004</td>\n      <td>0.016932</td>\n      <td>2</td>\n    </tr>\n    <tr>\n      <th>...</th>\n      <td>...</td>\n      <td>...</td>\n      <td>...</td>\n      <td>...</td>\n      <td>...</td>\n    </tr>\n    <tr>\n      <th>31788319</th>\n      <td>2020-09-22</td>\n      <td>fff2282977442e327b45d8c89afde25617d00124d0f999...</td>\n      <td>929511001</td>\n      <td>0.059305</td>\n      <td>2</td>\n    </tr>\n    <tr>\n      <th>31788320</th>\n      <td>2020-09-22</td>\n      <td>fff2282977442e327b45d8c89afde25617d00124d0f999...</td>\n      <td>891322004</td>\n      <td>0.042356</td>\n      <td>2</td>\n    </tr>\n    <tr>\n      <th>31788321</th>\n      <td>2020-09-22</td>\n      <td>fff380805474b287b05cb2a7507b9a013482f7dd0bce0e...</td>\n      <td>918325001</td>\n      <td>0.043203</td>\n      <td>1</td>\n    </tr>\n    <tr>\n      <th>31788322</th>\n      <td>2020-09-22</td>\n      <td>fff4d3a8b1f3b60af93e78c30a7cb4cf75edaf2590d3e5...</td>\n      <td>833459002</td>\n      <td>0.006763</td>\n      <td>1</td>\n    </tr>\n    <tr>\n      <th>31788323</th>\n      <td>2020-09-22</td>\n      <td>fffef3b6b73545df065b521e19f64bf6fe93bfd450ab20...</td>\n      <td>898573003</td>\n      <td>0.033881</td>\n      <td>2</td>\n    </tr>\n  </tbody>\n</table>\n<p>28813419 rows × 5 columns</p>\n</div>"
     },
     "execution_count": 96,
     "metadata": {},
     "output_type": "execute_result"
    }
   ],
   "source": [
    "timestamp_df"
   ],
   "metadata": {
    "collapsed": false,
    "pycharm": {
     "name": "#%%\n"
    }
   }
  },
  {
   "cell_type": "code",
   "execution_count": 97,
   "outputs": [],
   "source": [
    "timestamp_df = timestamp_df[[timestamp_column, 'UserID', 'ItemID']]\n",
    "\n",
    "timestamp_df_with_timestamp = timestamp_df.copy()\n",
    "\n",
    "timestamp_df = timestamp_df.groupby(['UserID', 'ItemID']).size().reset_index(name='Data')\n",
    "\n"
   ],
   "metadata": {
    "collapsed": false,
    "pycharm": {
     "name": "#%%\n"
    }
   }
  },
  {
   "cell_type": "code",
   "execution_count": 101,
   "outputs": [],
   "source": [
    "timestamp_df['Data'] = timestamp_df['Data'].apply(lambda x: 20 if x >= 20 else x)\n"
   ],
   "metadata": {
    "collapsed": false,
    "pycharm": {
     "name": "#%%\n"
    }
   }
  },
  {
   "cell_type": "code",
   "execution_count": 99,
   "outputs": [
    {
     "data": {
      "text/plain": "1     25967821\n2      1208890\n3       105606\n4        16708\n5         4359\n6         1524\n7          682\n8          308\n9          195\n10         130\n11          69\n12          42\n13          36\n14          16\n15          14\n20          14\n16          11\n18           7\n19           5\n17           2\nName: new, dtype: int64"
     },
     "execution_count": 99,
     "metadata": {},
     "output_type": "execute_result"
    }
   ],
   "source": [
    "timestamp_df['new'].value_counts()\n"
   ],
   "metadata": {
    "collapsed": false,
    "pycharm": {
     "name": "#%%\n"
    }
   }
  },
  {
   "cell_type": "code",
   "execution_count": 102,
   "outputs": [
    {
     "data": {
      "text/plain": "1     25967821\n2      1208890\n3       105606\n4        16708\n5         4359\n6         1524\n7          682\n8          308\n9          195\n10         130\n11          69\n12          42\n13          36\n14          16\n15          14\n20          14\n16          11\n18           7\n19           5\n17           2\nName: Data, dtype: int64"
     },
     "execution_count": 102,
     "metadata": {},
     "output_type": "execute_result"
    }
   ],
   "source": [
    "timestamp_df['Data'].value_counts()\n",
    "\n"
   ],
   "metadata": {
    "collapsed": false,
    "pycharm": {
     "name": "#%%\n"
    }
   }
  },
  {
   "cell_type": "code",
   "execution_count": 109,
   "outputs": [],
   "source": [
    "max = timestamp_df['new'].max()\n",
    "timestamp_df['New'] = timestamp_df['new'].apply(lambda x: x/max)\n"
   ],
   "metadata": {
    "collapsed": false,
    "pycharm": {
     "name": "#%%\n"
    }
   }
  },
  {
   "cell_type": "code",
   "execution_count": 115,
   "outputs": [
    {
     "data": {
      "text/plain": "                                                     UserID     ItemID  Data  \\\n1188237   0b19646eedcc9544fac9ab9dc12a5b4efc923913316f4a...  847180001    20   \n4930502   2e0d3c6971620e348c3ca50868af6289333d382bf9f24a...  156231001    20   \n5469460   330c9c34b6d79e31802be102e360a57c0ae61b15e79128...  228257004    19   \n6686329   3eb3636e346ba6487cb0e86dc0bd5ff0ea1d231bab17df...  228257001    20   \n7478464   462f48e30609f8e2fd13f1dc577a437f5233252bae40e6...  156231001    20   \n8448192   4f503f96f0585292eb2535c89cf7392007e70f62968460...  120129001    20   \n9592768   59ed41a78b9cd5ae4d4afa5632dbeb8deb7c412385d1c2...  156231001    19   \n12209178  725e94ded9d679b79c5719052dce66098171b9c202f17d...  228257001    20   \n15071537  8d2c33a1b060ce16add06f3742447115e5aaea20e847c1...  668537001    20   \n15582085  91f1cc035b5d3e7f54f7c765bb82754129db9eadab0cd5...  399223001    19   \n15583680  91f3ab5944411eb3f6f79e93ab430f3d4ff92e5a5d4475...  728162001    20   \n16803789  9d50687e366b49577c136952613632b9f157cb9051cb71...  772032001    20   \n17473735  a3813d07c74e6b3dbee979bb3209d87c1dec87ad26038f...  581298001    20   \n17974100  a83c53a12ae9e4a1d8a2a32f376cadd45600f22977a904...  123173001    19   \n18406925  ac509cee4a8253e1797944e2f4478a002605f4d6187286...  123173001    19   \n19381099  b57f471aa67ad7ae6413c7c3745028c6b8adba4f28feee...  228257002    20   \n19381100  b57f471aa67ad7ae6413c7c3745028c6b8adba4f28feee...  228257003    20   \n19935346  babbfda5640393e2509b3e0bc9428c249cfb6a1f4e4cfd...  189616001    20   \n26738773  faae3c6a14d68e6dda3b31850a0e46e512652583406d64...  158340001    20   \n\n          new   New  \n1188237    20  1.00  \n4930502    20  1.00  \n5469460    19  0.95  \n6686329    20  1.00  \n7478464    20  1.00  \n8448192    20  1.00  \n9592768    19  0.95  \n12209178   20  1.00  \n15071537   20  1.00  \n15582085   19  0.95  \n15583680   20  1.00  \n16803789   20  1.00  \n17473735   20  1.00  \n17974100   19  0.95  \n18406925   19  0.95  \n19381099   20  1.00  \n19381100   20  1.00  \n19935346   20  1.00  \n26738773   20  1.00  ",
      "text/html": "<div>\n<style scoped>\n    .dataframe tbody tr th:only-of-type {\n        vertical-align: middle;\n    }\n\n    .dataframe tbody tr th {\n        vertical-align: top;\n    }\n\n    .dataframe thead th {\n        text-align: right;\n    }\n</style>\n<table border=\"1\" class=\"dataframe\">\n  <thead>\n    <tr style=\"text-align: right;\">\n      <th></th>\n      <th>UserID</th>\n      <th>ItemID</th>\n      <th>Data</th>\n      <th>new</th>\n      <th>New</th>\n    </tr>\n  </thead>\n  <tbody>\n    <tr>\n      <th>1188237</th>\n      <td>0b19646eedcc9544fac9ab9dc12a5b4efc923913316f4a...</td>\n      <td>847180001</td>\n      <td>20</td>\n      <td>20</td>\n      <td>1.00</td>\n    </tr>\n    <tr>\n      <th>4930502</th>\n      <td>2e0d3c6971620e348c3ca50868af6289333d382bf9f24a...</td>\n      <td>156231001</td>\n      <td>20</td>\n      <td>20</td>\n      <td>1.00</td>\n    </tr>\n    <tr>\n      <th>5469460</th>\n      <td>330c9c34b6d79e31802be102e360a57c0ae61b15e79128...</td>\n      <td>228257004</td>\n      <td>19</td>\n      <td>19</td>\n      <td>0.95</td>\n    </tr>\n    <tr>\n      <th>6686329</th>\n      <td>3eb3636e346ba6487cb0e86dc0bd5ff0ea1d231bab17df...</td>\n      <td>228257001</td>\n      <td>20</td>\n      <td>20</td>\n      <td>1.00</td>\n    </tr>\n    <tr>\n      <th>7478464</th>\n      <td>462f48e30609f8e2fd13f1dc577a437f5233252bae40e6...</td>\n      <td>156231001</td>\n      <td>20</td>\n      <td>20</td>\n      <td>1.00</td>\n    </tr>\n    <tr>\n      <th>8448192</th>\n      <td>4f503f96f0585292eb2535c89cf7392007e70f62968460...</td>\n      <td>120129001</td>\n      <td>20</td>\n      <td>20</td>\n      <td>1.00</td>\n    </tr>\n    <tr>\n      <th>9592768</th>\n      <td>59ed41a78b9cd5ae4d4afa5632dbeb8deb7c412385d1c2...</td>\n      <td>156231001</td>\n      <td>19</td>\n      <td>19</td>\n      <td>0.95</td>\n    </tr>\n    <tr>\n      <th>12209178</th>\n      <td>725e94ded9d679b79c5719052dce66098171b9c202f17d...</td>\n      <td>228257001</td>\n      <td>20</td>\n      <td>20</td>\n      <td>1.00</td>\n    </tr>\n    <tr>\n      <th>15071537</th>\n      <td>8d2c33a1b060ce16add06f3742447115e5aaea20e847c1...</td>\n      <td>668537001</td>\n      <td>20</td>\n      <td>20</td>\n      <td>1.00</td>\n    </tr>\n    <tr>\n      <th>15582085</th>\n      <td>91f1cc035b5d3e7f54f7c765bb82754129db9eadab0cd5...</td>\n      <td>399223001</td>\n      <td>19</td>\n      <td>19</td>\n      <td>0.95</td>\n    </tr>\n    <tr>\n      <th>15583680</th>\n      <td>91f3ab5944411eb3f6f79e93ab430f3d4ff92e5a5d4475...</td>\n      <td>728162001</td>\n      <td>20</td>\n      <td>20</td>\n      <td>1.00</td>\n    </tr>\n    <tr>\n      <th>16803789</th>\n      <td>9d50687e366b49577c136952613632b9f157cb9051cb71...</td>\n      <td>772032001</td>\n      <td>20</td>\n      <td>20</td>\n      <td>1.00</td>\n    </tr>\n    <tr>\n      <th>17473735</th>\n      <td>a3813d07c74e6b3dbee979bb3209d87c1dec87ad26038f...</td>\n      <td>581298001</td>\n      <td>20</td>\n      <td>20</td>\n      <td>1.00</td>\n    </tr>\n    <tr>\n      <th>17974100</th>\n      <td>a83c53a12ae9e4a1d8a2a32f376cadd45600f22977a904...</td>\n      <td>123173001</td>\n      <td>19</td>\n      <td>19</td>\n      <td>0.95</td>\n    </tr>\n    <tr>\n      <th>18406925</th>\n      <td>ac509cee4a8253e1797944e2f4478a002605f4d6187286...</td>\n      <td>123173001</td>\n      <td>19</td>\n      <td>19</td>\n      <td>0.95</td>\n    </tr>\n    <tr>\n      <th>19381099</th>\n      <td>b57f471aa67ad7ae6413c7c3745028c6b8adba4f28feee...</td>\n      <td>228257002</td>\n      <td>20</td>\n      <td>20</td>\n      <td>1.00</td>\n    </tr>\n    <tr>\n      <th>19381100</th>\n      <td>b57f471aa67ad7ae6413c7c3745028c6b8adba4f28feee...</td>\n      <td>228257003</td>\n      <td>20</td>\n      <td>20</td>\n      <td>1.00</td>\n    </tr>\n    <tr>\n      <th>19935346</th>\n      <td>babbfda5640393e2509b3e0bc9428c249cfb6a1f4e4cfd...</td>\n      <td>189616001</td>\n      <td>20</td>\n      <td>20</td>\n      <td>1.00</td>\n    </tr>\n    <tr>\n      <th>26738773</th>\n      <td>faae3c6a14d68e6dda3b31850a0e46e512652583406d64...</td>\n      <td>158340001</td>\n      <td>20</td>\n      <td>20</td>\n      <td>1.00</td>\n    </tr>\n  </tbody>\n</table>\n</div>"
     },
     "execution_count": 115,
     "metadata": {},
     "output_type": "execute_result"
    }
   ],
   "source": [
    "\n",
    "\n",
    "\n",
    "timestamp_df[timestamp_df['Data'] > 18]"
   ],
   "metadata": {
    "collapsed": false,
    "pycharm": {
     "name": "#%%\n"
    }
   }
  },
  {
   "cell_type": "code",
   "execution_count": 81,
   "outputs": [],
   "source": [
    "timestamp_df = pd.merge(left=timestamp_df_with_timestamp,right=timestamp_df,how='left',on=['UserID','ItemID'])\n"
   ],
   "metadata": {
    "collapsed": false,
    "pycharm": {
     "name": "#%%\n"
    }
   }
  },
  {
   "cell_type": "code",
   "execution_count": 82,
   "outputs": [
    {
     "data": {
      "text/plain": "              t_dat                                             UserID  \\\n0        2018-09-20  000058a12d5b43e67d225668fa1f8d618c13dc232df0ca...   \n1        2018-09-20  000058a12d5b43e67d225668fa1f8d618c13dc232df0ca...   \n2        2018-09-20  00007d2de826758b65a93dd24ce629ed66842531df6699...   \n3        2018-09-20  00007d2de826758b65a93dd24ce629ed66842531df6699...   \n4        2018-09-20  00007d2de826758b65a93dd24ce629ed66842531df6699...   \n...             ...                                                ...   \n28813414 2020-09-22  fff2282977442e327b45d8c89afde25617d00124d0f999...   \n28813415 2020-09-22  fff2282977442e327b45d8c89afde25617d00124d0f999...   \n28813416 2020-09-22  fff380805474b287b05cb2a7507b9a013482f7dd0bce0e...   \n28813417 2020-09-22  fff4d3a8b1f3b60af93e78c30a7cb4cf75edaf2590d3e5...   \n28813418 2020-09-22  fffef3b6b73545df065b521e19f64bf6fe93bfd450ab20...   \n\n             ItemID  Data  \n0         663713001     2  \n1         541518023     1  \n2         505221004     1  \n3         685687003     1  \n4         685687004     1  \n...             ...   ...  \n28813414  929511001     1  \n28813415  891322004     3  \n28813416  918325001     1  \n28813417  833459002     1  \n28813418  898573003     1  \n\n[28813419 rows x 4 columns]",
      "text/html": "<div>\n<style scoped>\n    .dataframe tbody tr th:only-of-type {\n        vertical-align: middle;\n    }\n\n    .dataframe tbody tr th {\n        vertical-align: top;\n    }\n\n    .dataframe thead th {\n        text-align: right;\n    }\n</style>\n<table border=\"1\" class=\"dataframe\">\n  <thead>\n    <tr style=\"text-align: right;\">\n      <th></th>\n      <th>t_dat</th>\n      <th>UserID</th>\n      <th>ItemID</th>\n      <th>Data</th>\n    </tr>\n  </thead>\n  <tbody>\n    <tr>\n      <th>0</th>\n      <td>2018-09-20</td>\n      <td>000058a12d5b43e67d225668fa1f8d618c13dc232df0ca...</td>\n      <td>663713001</td>\n      <td>2</td>\n    </tr>\n    <tr>\n      <th>1</th>\n      <td>2018-09-20</td>\n      <td>000058a12d5b43e67d225668fa1f8d618c13dc232df0ca...</td>\n      <td>541518023</td>\n      <td>1</td>\n    </tr>\n    <tr>\n      <th>2</th>\n      <td>2018-09-20</td>\n      <td>00007d2de826758b65a93dd24ce629ed66842531df6699...</td>\n      <td>505221004</td>\n      <td>1</td>\n    </tr>\n    <tr>\n      <th>3</th>\n      <td>2018-09-20</td>\n      <td>00007d2de826758b65a93dd24ce629ed66842531df6699...</td>\n      <td>685687003</td>\n      <td>1</td>\n    </tr>\n    <tr>\n      <th>4</th>\n      <td>2018-09-20</td>\n      <td>00007d2de826758b65a93dd24ce629ed66842531df6699...</td>\n      <td>685687004</td>\n      <td>1</td>\n    </tr>\n    <tr>\n      <th>...</th>\n      <td>...</td>\n      <td>...</td>\n      <td>...</td>\n      <td>...</td>\n    </tr>\n    <tr>\n      <th>28813414</th>\n      <td>2020-09-22</td>\n      <td>fff2282977442e327b45d8c89afde25617d00124d0f999...</td>\n      <td>929511001</td>\n      <td>1</td>\n    </tr>\n    <tr>\n      <th>28813415</th>\n      <td>2020-09-22</td>\n      <td>fff2282977442e327b45d8c89afde25617d00124d0f999...</td>\n      <td>891322004</td>\n      <td>3</td>\n    </tr>\n    <tr>\n      <th>28813416</th>\n      <td>2020-09-22</td>\n      <td>fff380805474b287b05cb2a7507b9a013482f7dd0bce0e...</td>\n      <td>918325001</td>\n      <td>1</td>\n    </tr>\n    <tr>\n      <th>28813417</th>\n      <td>2020-09-22</td>\n      <td>fff4d3a8b1f3b60af93e78c30a7cb4cf75edaf2590d3e5...</td>\n      <td>833459002</td>\n      <td>1</td>\n    </tr>\n    <tr>\n      <th>28813418</th>\n      <td>2020-09-22</td>\n      <td>fffef3b6b73545df065b521e19f64bf6fe93bfd450ab20...</td>\n      <td>898573003</td>\n      <td>1</td>\n    </tr>\n  </tbody>\n</table>\n<p>28813419 rows × 4 columns</p>\n</div>"
     },
     "execution_count": 82,
     "metadata": {},
     "output_type": "execute_result"
    }
   ],
   "source": [
    "timestamp_df"
   ],
   "metadata": {
    "collapsed": false,
    "pycharm": {
     "name": "#%%\n"
    }
   }
  },
  {
   "cell_type": "code",
   "execution_count": 106,
   "outputs": [
    {
     "ename": "AttributeError",
     "evalue": "'int' object has no attribute 'max'",
     "output_type": "error",
     "traceback": [
      "\u001B[0;31m---------------------------------------------------------------------------\u001B[0m",
      "\u001B[0;31mAttributeError\u001B[0m                            Traceback (most recent call last)",
      "Input \u001B[0;32mIn [106]\u001B[0m, in \u001B[0;36m<cell line: 1>\u001B[0;34m()\u001B[0m\n\u001B[0;32m----> 1\u001B[0m timestamp_df[\u001B[38;5;124m'\u001B[39m\u001B[38;5;124mNew1\u001B[39m\u001B[38;5;124m'\u001B[39m] \u001B[38;5;241m=\u001B[39m \u001B[43mtimestamp_df\u001B[49m\u001B[43m[\u001B[49m\u001B[38;5;124;43m'\u001B[39;49m\u001B[38;5;124;43mnew\u001B[39;49m\u001B[38;5;124;43m'\u001B[39;49m\u001B[43m]\u001B[49m\u001B[38;5;241;43m.\u001B[39;49m\u001B[43mapply\u001B[49m\u001B[43m(\u001B[49m\u001B[38;5;28;43;01mlambda\u001B[39;49;00m\u001B[43m \u001B[49m\u001B[43mx\u001B[49m\u001B[43m:\u001B[49m\u001B[43m \u001B[49m\u001B[43mx\u001B[49m\u001B[38;5;241;43m/\u001B[39;49m\u001B[43mx\u001B[49m\u001B[38;5;241;43m.\u001B[39;49m\u001B[43mmax\u001B[49m\u001B[43m(\u001B[49m\u001B[43m)\u001B[49m\u001B[43m)\u001B[49m\n",
      "File \u001B[0;32m~/Project_Folder/h-m-recsys-competition/venv/lib/python3.8/site-packages/pandas/core/series.py:4138\u001B[0m, in \u001B[0;36mSeries.apply\u001B[0;34m(self, func, convert_dtype, args, **kwds)\u001B[0m\n\u001B[1;32m   4136\u001B[0m     \u001B[38;5;28;01melse\u001B[39;00m:\n\u001B[1;32m   4137\u001B[0m         values \u001B[38;5;241m=\u001B[39m \u001B[38;5;28mself\u001B[39m\u001B[38;5;241m.\u001B[39mastype(\u001B[38;5;28mobject\u001B[39m)\u001B[38;5;241m.\u001B[39m_values\n\u001B[0;32m-> 4138\u001B[0m         mapped \u001B[38;5;241m=\u001B[39m \u001B[43mlib\u001B[49m\u001B[38;5;241;43m.\u001B[39;49m\u001B[43mmap_infer\u001B[49m\u001B[43m(\u001B[49m\u001B[43mvalues\u001B[49m\u001B[43m,\u001B[49m\u001B[43m \u001B[49m\u001B[43mf\u001B[49m\u001B[43m,\u001B[49m\u001B[43m \u001B[49m\u001B[43mconvert\u001B[49m\u001B[38;5;241;43m=\u001B[39;49m\u001B[43mconvert_dtype\u001B[49m\u001B[43m)\u001B[49m\n\u001B[1;32m   4140\u001B[0m \u001B[38;5;28;01mif\u001B[39;00m \u001B[38;5;28mlen\u001B[39m(mapped) \u001B[38;5;129;01mand\u001B[39;00m \u001B[38;5;28misinstance\u001B[39m(mapped[\u001B[38;5;241m0\u001B[39m], Series):\n\u001B[1;32m   4141\u001B[0m     \u001B[38;5;66;03m# GH 25959 use pd.array instead of tolist\u001B[39;00m\n\u001B[1;32m   4142\u001B[0m     \u001B[38;5;66;03m# so extension arrays can be used\u001B[39;00m\n\u001B[1;32m   4143\u001B[0m     \u001B[38;5;28;01mreturn\u001B[39;00m \u001B[38;5;28mself\u001B[39m\u001B[38;5;241m.\u001B[39m_constructor_expanddim(pd_array(mapped), index\u001B[38;5;241m=\u001B[39m\u001B[38;5;28mself\u001B[39m\u001B[38;5;241m.\u001B[39mindex)\n",
      "File \u001B[0;32mpandas/_libs/lib.pyx:2467\u001B[0m, in \u001B[0;36mpandas._libs.lib.map_infer\u001B[0;34m()\u001B[0m\n",
      "Input \u001B[0;32mIn [106]\u001B[0m, in \u001B[0;36m<lambda>\u001B[0;34m(x)\u001B[0m\n\u001B[0;32m----> 1\u001B[0m timestamp_df[\u001B[38;5;124m'\u001B[39m\u001B[38;5;124mNew1\u001B[39m\u001B[38;5;124m'\u001B[39m] \u001B[38;5;241m=\u001B[39m timestamp_df[\u001B[38;5;124m'\u001B[39m\u001B[38;5;124mnew\u001B[39m\u001B[38;5;124m'\u001B[39m]\u001B[38;5;241m.\u001B[39mapply(\u001B[38;5;28;01mlambda\u001B[39;00m x: x\u001B[38;5;241m/\u001B[39m\u001B[43mx\u001B[49m\u001B[38;5;241;43m.\u001B[39;49m\u001B[43mmax\u001B[49m())\n",
      "\u001B[0;31mAttributeError\u001B[0m: 'int' object has no attribute 'max'"
     ]
    }
   ],
   "source": [],
   "metadata": {
    "collapsed": false,
    "pycharm": {
     "name": "#%%\n"
    }
   }
  },
  {
   "cell_type": "code",
   "execution_count": 83,
   "outputs": [
    {
     "data": {
      "text/plain": "1     25967821\n2      2417780\n3       316818\n4        66832\n5        21795\n6         9144\n7         4774\n8         2464\n9         1755\n10        1300\n11         759\n12         504\n13         468\n14         224\n15         210\n16         176\n18         126\n19          95\n24          72\n22          66\n23          46\n20          40\n37          37\n17          34\n30          30\n28          28\n21          21\nName: Data, dtype: int64"
     },
     "execution_count": 83,
     "metadata": {},
     "output_type": "execute_result"
    }
   ],
   "source": [
    "timestamp_df['Data'].value_counts()\n"
   ],
   "metadata": {
    "collapsed": false,
    "pycharm": {
     "name": "#%%\n"
    }
   }
  },
  {
   "cell_type": "code",
   "execution_count": null,
   "outputs": [],
   "source": [],
   "metadata": {
    "collapsed": false,
    "pycharm": {
     "name": "#%%\n"
    }
   }
  },
  {
   "cell_type": "code",
   "execution_count": 73,
   "outputs": [
    {
     "data": {
      "text/plain": "<Figure size 720x360 with 1 Axes>",
      "image/png": "[encoded data removed]"
     },
     "metadata": {
      "needs_background": "light"
     },
     "output_type": "display_data"
    }
   ],
   "source": [],
   "metadata": {
    "collapsed": false,
    "pycharm": {
     "name": "#%%\n"
    }
   }
  },
  {
   "cell_type": "code",
   "execution_count": null,
   "outputs": [],
   "source": [],
   "metadata": {
    "collapsed": false,
    "pycharm": {
     "name": "#%%\n"
    }
   }
  },
  {
   "cell_type": "code",
   "execution_count": null,
   "outputs": [],
   "source": [],
   "metadata": {
    "collapsed": false,
    "pycharm": {
     "name": "#%%\n"
    }
   }
  },
  {
   "cell_type": "code",
   "execution_count": null,
   "outputs": [],
   "source": [],
   "metadata": {
    "collapsed": false,
    "pycharm": {
     "name": "#%%\n"
    }
   }
  },
  {
   "cell_type": "code",
   "execution_count": 25,
   "outputs": [],
   "source": [
    "timestamp_df.rename(columns={\"customer_id\": \"UserID\", \"article_id\": \"ItemID\"}, inplace=True)\n",
    "timestamp_df['ItemID'] = timestamp_df['ItemID'].astype(str)\n",
    "# timestamp_df['Data'] = 1.0\n",
    "\n",
    "timestamp_df = timestamp_df[[timestamp_column, 'UserID', 'ItemID']]"
   ],
   "metadata": {
    "collapsed": false,
    "pycharm": {
     "name": "#%%\n"
    }
   }
  },
  {
   "cell_type": "code",
   "execution_count": 26,
   "outputs": [],
   "source": [
    "timestamp_df.drop(timestamp_column, inplace=True, axis=1)"
   ],
   "metadata": {
    "collapsed": false,
    "pycharm": {
     "name": "#%%\n"
    }
   }
  },
  {
   "cell_type": "code",
   "execution_count": 27,
   "outputs": [
    {
     "data": {
      "text/plain": "                                                     UserID     ItemID\n0         000058a12d5b43e67d225668fa1f8d618c13dc232df0ca...  663713001\n1         000058a12d5b43e67d225668fa1f8d618c13dc232df0ca...  541518023\n2         00007d2de826758b65a93dd24ce629ed66842531df6699...  505221004\n3         00007d2de826758b65a93dd24ce629ed66842531df6699...  685687003\n4         00007d2de826758b65a93dd24ce629ed66842531df6699...  685687004\n...                                                     ...        ...\n31788319  fff2282977442e327b45d8c89afde25617d00124d0f999...  929511001\n31788320  fff2282977442e327b45d8c89afde25617d00124d0f999...  891322004\n31788321  fff380805474b287b05cb2a7507b9a013482f7dd0bce0e...  918325001\n31788322  fff4d3a8b1f3b60af93e78c30a7cb4cf75edaf2590d3e5...  833459002\n31788323  fffef3b6b73545df065b521e19f64bf6fe93bfd450ab20...  898573003\n\n[28813419 rows x 2 columns]",
      "text/html": "<div>\n<style scoped>\n    .dataframe tbody tr th:only-of-type {\n        vertical-align: middle;\n    }\n\n    .dataframe tbody tr th {\n        vertical-align: top;\n    }\n\n    .dataframe thead th {\n        text-align: right;\n    }\n</style>\n<table border=\"1\" class=\"dataframe\">\n  <thead>\n    <tr style=\"text-align: right;\">\n      <th></th>\n      <th>UserID</th>\n      <th>ItemID</th>\n    </tr>\n  </thead>\n  <tbody>\n    <tr>\n      <th>0</th>\n      <td>000058a12d5b43e67d225668fa1f8d618c13dc232df0ca...</td>\n      <td>663713001</td>\n    </tr>\n    <tr>\n      <th>1</th>\n      <td>000058a12d5b43e67d225668fa1f8d618c13dc232df0ca...</td>\n      <td>541518023</td>\n    </tr>\n    <tr>\n      <th>2</th>\n      <td>00007d2de826758b65a93dd24ce629ed66842531df6699...</td>\n      <td>505221004</td>\n    </tr>\n    <tr>\n      <th>3</th>\n      <td>00007d2de826758b65a93dd24ce629ed66842531df6699...</td>\n      <td>685687003</td>\n    </tr>\n    <tr>\n      <th>4</th>\n      <td>00007d2de826758b65a93dd24ce629ed66842531df6699...</td>\n      <td>685687004</td>\n    </tr>\n    <tr>\n      <th>...</th>\n      <td>...</td>\n      <td>...</td>\n    </tr>\n    <tr>\n      <th>31788319</th>\n      <td>fff2282977442e327b45d8c89afde25617d00124d0f999...</td>\n      <td>929511001</td>\n    </tr>\n    <tr>\n      <th>31788320</th>\n      <td>fff2282977442e327b45d8c89afde25617d00124d0f999...</td>\n      <td>891322004</td>\n    </tr>\n    <tr>\n      <th>31788321</th>\n      <td>fff380805474b287b05cb2a7507b9a013482f7dd0bce0e...</td>\n      <td>918325001</td>\n    </tr>\n    <tr>\n      <th>31788322</th>\n      <td>fff4d3a8b1f3b60af93e78c30a7cb4cf75edaf2590d3e5...</td>\n      <td>833459002</td>\n    </tr>\n    <tr>\n      <th>31788323</th>\n      <td>fffef3b6b73545df065b521e19f64bf6fe93bfd450ab20...</td>\n      <td>898573003</td>\n    </tr>\n  </tbody>\n</table>\n<p>28813419 rows × 2 columns</p>\n</div>"
     },
     "execution_count": 27,
     "metadata": {},
     "output_type": "execute_result"
    }
   ],
   "source": [
    "timestamp_df"
   ],
   "metadata": {
    "collapsed": false,
    "pycharm": {
     "name": "#%%\n"
    }
   }
  },
  {
   "cell_type": "code",
   "execution_count": null,
   "outputs": [],
   "source": [],
   "metadata": {
    "collapsed": false,
    "pycharm": {
     "name": "#%%\n"
    }
   }
  },
  {
   "cell_type": "code",
   "execution_count": null,
   "outputs": [],
   "source": [],
   "metadata": {
    "collapsed": false,
    "pycharm": {
     "name": "#%%\n"
    }
   }
  },
  {
   "cell_type": "code",
   "execution_count": 48,
   "outputs": [
    {
     "data": {
      "text/plain": "        t_dat                                        customer_id  article_id  \\\n0  2018-09-20  000058a12d5b43e67d225668fa1f8d618c13dc232df0ca...   663713001   \n1  2018-09-20  000058a12d5b43e67d225668fa1f8d618c13dc232df0ca...   541518023   \n2  2018-09-20  00007d2de826758b65a93dd24ce629ed66842531df6699...   505221004   \n3  2018-09-20  00007d2de826758b65a93dd24ce629ed66842531df6699...   685687003   \n4  2018-09-20  00007d2de826758b65a93dd24ce629ed66842531df6699...   685687004   \n5  2018-09-20  00007d2de826758b65a93dd24ce629ed66842531df6699...   685687001   \n6  2018-09-20  00007d2de826758b65a93dd24ce629ed66842531df6699...   505221001   \n7  2018-09-20  00083cda041544b2fbb0e0d2905ad17da7cf1007526fb4...   688873012   \n8  2018-09-20  00083cda041544b2fbb0e0d2905ad17da7cf1007526fb4...   501323011   \n9  2018-09-20  00083cda041544b2fbb0e0d2905ad17da7cf1007526fb4...   598859003   \n\n      price  sales_channel_id  \n0  0.050831                 2  \n1  0.030492                 2  \n2  0.015237                 2  \n3  0.016932                 2  \n4  0.016932                 2  \n5  0.016932                 2  \n6  0.020322                 2  \n7  0.030492                 1  \n8  0.053373                 1  \n9  0.045746                 2  ",
      "text/html": "<div>\n<style scoped>\n    .dataframe tbody tr th:only-of-type {\n        vertical-align: middle;\n    }\n\n    .dataframe tbody tr th {\n        vertical-align: top;\n    }\n\n    .dataframe thead th {\n        text-align: right;\n    }\n</style>\n<table border=\"1\" class=\"dataframe\">\n  <thead>\n    <tr style=\"text-align: right;\">\n      <th></th>\n      <th>t_dat</th>\n      <th>customer_id</th>\n      <th>article_id</th>\n      <th>price</th>\n      <th>sales_channel_id</th>\n    </tr>\n  </thead>\n  <tbody>\n    <tr>\n      <th>0</th>\n      <td>2018-09-20</td>\n      <td>000058a12d5b43e67d225668fa1f8d618c13dc232df0ca...</td>\n      <td>663713001</td>\n      <td>0.050831</td>\n      <td>2</td>\n    </tr>\n    <tr>\n      <th>1</th>\n      <td>2018-09-20</td>\n      <td>000058a12d5b43e67d225668fa1f8d618c13dc232df0ca...</td>\n      <td>541518023</td>\n      <td>0.030492</td>\n      <td>2</td>\n    </tr>\n    <tr>\n      <th>2</th>\n      <td>2018-09-20</td>\n      <td>00007d2de826758b65a93dd24ce629ed66842531df6699...</td>\n      <td>505221004</td>\n      <td>0.015237</td>\n      <td>2</td>\n    </tr>\n    <tr>\n      <th>3</th>\n      <td>2018-09-20</td>\n      <td>00007d2de826758b65a93dd24ce629ed66842531df6699...</td>\n      <td>685687003</td>\n      <td>0.016932</td>\n      <td>2</td>\n    </tr>\n    <tr>\n      <th>4</th>\n      <td>2018-09-20</td>\n      <td>00007d2de826758b65a93dd24ce629ed66842531df6699...</td>\n      <td>685687004</td>\n      <td>0.016932</td>\n      <td>2</td>\n    </tr>\n    <tr>\n      <th>5</th>\n      <td>2018-09-20</td>\n      <td>00007d2de826758b65a93dd24ce629ed66842531df6699...</td>\n      <td>685687001</td>\n      <td>0.016932</td>\n      <td>2</td>\n    </tr>\n    <tr>\n      <th>6</th>\n      <td>2018-09-20</td>\n      <td>00007d2de826758b65a93dd24ce629ed66842531df6699...</td>\n      <td>505221001</td>\n      <td>0.020322</td>\n      <td>2</td>\n    </tr>\n    <tr>\n      <th>7</th>\n      <td>2018-09-20</td>\n      <td>00083cda041544b2fbb0e0d2905ad17da7cf1007526fb4...</td>\n      <td>688873012</td>\n      <td>0.030492</td>\n      <td>1</td>\n    </tr>\n    <tr>\n      <th>8</th>\n      <td>2018-09-20</td>\n      <td>00083cda041544b2fbb0e0d2905ad17da7cf1007526fb4...</td>\n      <td>501323011</td>\n      <td>0.053373</td>\n      <td>1</td>\n    </tr>\n    <tr>\n      <th>9</th>\n      <td>2018-09-20</td>\n      <td>00083cda041544b2fbb0e0d2905ad17da7cf1007526fb4...</td>\n      <td>598859003</td>\n      <td>0.045746</td>\n      <td>2</td>\n    </tr>\n  </tbody>\n</table>\n</div>"
     },
     "execution_count": 48,
     "metadata": {},
     "output_type": "execute_result"
    }
   ],
   "source": [
    "df_transactions.head(10)"
   ],
   "metadata": {
    "collapsed": false,
    "pycharm": {
     "name": "#%%\n"
    }
   }
  },
  {
   "cell_type": "code",
   "execution_count": 4,
   "outputs": [
    {
     "data": {
      "text/plain": "t_dat                   734\ncustomer_id         1362281\narticle_id           104547\nprice                  9857\nsales_channel_id          2\ndtype: int64"
     },
     "execution_count": 4,
     "metadata": {},
     "output_type": "execute_result"
    }
   ],
   "source": [
    "df_transactions.nunique()"
   ],
   "metadata": {
    "collapsed": false,
    "pycharm": {
     "name": "#%%\n"
    }
   }
  },
  {
   "cell_type": "code",
   "execution_count": 14,
   "outputs": [
    {
     "data": {
      "text/plain": "                                                               t_dat  price  \\\ncustomer_id                                        article_id                 \n00000dbacae5abe5e23885899a1fa44253a17956c6d1c3d... 176209023       1      1   \n                                                   568601006       2      2   \n                                                   568601043       1      1   \n                                                   607642008       1      1   \n                                                   625548001       1      1   \n...                                                              ...    ...   \nffffd7744cebcf3aca44ae7049d2a94b87074c3d4ffe38b... 821395003       1      1   \n                                                   840360003       1      1   \n                                                   866755002       2      2   \n                                                   882810001       1      1   \nffffd9ac14e89946416d80e791d064701994755c3ab686a... 806050001       1      1   \n\n                                                               sales_channel_id  \ncustomer_id                                        article_id                    \n00000dbacae5abe5e23885899a1fa44253a17956c6d1c3d... 176209023                  1  \n                                                   568601006                  2  \n                                                   568601043                  1  \n                                                   607642008                  1  \n                                                   625548001                  1  \n...                                                                         ...  \nffffd7744cebcf3aca44ae7049d2a94b87074c3d4ffe38b... 821395003                  1  \n                                                   840360003                  1  \n                                                   866755002                  2  \n                                                   882810001                  1  \nffffd9ac14e89946416d80e791d064701994755c3ab686a... 806050001                  1  \n\n[27306439 rows x 3 columns]",
      "text/html": "<div>\n<style scoped>\n    .dataframe tbody tr th:only-of-type {\n        vertical-align: middle;\n    }\n\n    .dataframe tbody tr th {\n        vertical-align: top;\n    }\n\n    .dataframe thead th {\n        text-align: right;\n    }\n</style>\n<table border=\"1\" class=\"dataframe\">\n  <thead>\n    <tr style=\"text-align: right;\">\n      <th></th>\n      <th></th>\n      <th>t_dat</th>\n      <th>price</th>\n      <th>sales_channel_id</th>\n    </tr>\n    <tr>\n      <th>customer_id</th>\n      <th>article_id</th>\n      <th></th>\n      <th></th>\n      <th></th>\n    </tr>\n  </thead>\n  <tbody>\n    <tr>\n      <th rowspan=\"5\" valign=\"top\">00000dbacae5abe5e23885899a1fa44253a17956c6d1c3d25f88aa139fdfc657</th>\n      <th>176209023</th>\n      <td>1</td>\n      <td>1</td>\n      <td>1</td>\n    </tr>\n    <tr>\n      <th>568601006</th>\n      <td>2</td>\n      <td>2</td>\n      <td>2</td>\n    </tr>\n    <tr>\n      <th>568601043</th>\n      <td>1</td>\n      <td>1</td>\n      <td>1</td>\n    </tr>\n    <tr>\n      <th>607642008</th>\n      <td>1</td>\n      <td>1</td>\n      <td>1</td>\n    </tr>\n    <tr>\n      <th>625548001</th>\n      <td>1</td>\n      <td>1</td>\n      <td>1</td>\n    </tr>\n    <tr>\n      <th>...</th>\n      <th>...</th>\n      <td>...</td>\n      <td>...</td>\n      <td>...</td>\n    </tr>\n    <tr>\n      <th rowspan=\"4\" valign=\"top\">ffffd7744cebcf3aca44ae7049d2a94b87074c3d4ffe38b2236865d949d4df6a</th>\n      <th>821395003</th>\n      <td>1</td>\n      <td>1</td>\n      <td>1</td>\n    </tr>\n    <tr>\n      <th>840360003</th>\n      <td>1</td>\n      <td>1</td>\n      <td>1</td>\n    </tr>\n    <tr>\n      <th>866755002</th>\n      <td>2</td>\n      <td>2</td>\n      <td>2</td>\n    </tr>\n    <tr>\n      <th>882810001</th>\n      <td>1</td>\n      <td>1</td>\n      <td>1</td>\n    </tr>\n    <tr>\n      <th>ffffd9ac14e89946416d80e791d064701994755c3ab686a1eaf3458c36f52241</th>\n      <th>806050001</th>\n      <td>1</td>\n      <td>1</td>\n      <td>1</td>\n    </tr>\n  </tbody>\n</table>\n<p>27306439 rows × 3 columns</p>\n</div>"
     },
     "execution_count": 14,
     "metadata": {},
     "output_type": "execute_result"
    }
   ],
   "source": [
    "df_transactions.groupby(['customer_id','article_id'])\n"
   ],
   "metadata": {
    "collapsed": false,
    "pycharm": {
     "name": "#%%\n"
    }
   }
  },
  {
   "cell_type": "code",
   "execution_count": null,
   "outputs": [],
   "source": [
    "df_transactions.customer_id.nunique()"
   ],
   "metadata": {
    "collapsed": false,
    "pycharm": {
     "name": "#%%\n"
    }
   }
  },
  {
   "cell_type": "code",
   "execution_count": 3,
   "outputs": [
    {
     "data": {
      "text/plain": "               t_dat                                        customer_id  \\\n0         2018-09-20  000058a12d5b43e67d225668fa1f8d618c13dc232df0ca...   \n1         2018-09-20  000058a12d5b43e67d225668fa1f8d618c13dc232df0ca...   \n2         2018-09-20  00007d2de826758b65a93dd24ce629ed66842531df6699...   \n3         2018-09-20  00007d2de826758b65a93dd24ce629ed66842531df6699...   \n4         2018-09-20  00007d2de826758b65a93dd24ce629ed66842531df6699...   \n...              ...                                                ...   \n31788319  2020-09-22  fff2282977442e327b45d8c89afde25617d00124d0f999...   \n31788320  2020-09-22  fff2282977442e327b45d8c89afde25617d00124d0f999...   \n31788321  2020-09-22  fff380805474b287b05cb2a7507b9a013482f7dd0bce0e...   \n31788322  2020-09-22  fff4d3a8b1f3b60af93e78c30a7cb4cf75edaf2590d3e5...   \n31788323  2020-09-22  fffef3b6b73545df065b521e19f64bf6fe93bfd450ab20...   \n\n          article_id     price  sales_channel_id  \n0          663713001  0.050831                 2  \n1          541518023  0.030492                 2  \n2          505221004  0.015237                 2  \n3          685687003  0.016932                 2  \n4          685687004  0.016932                 2  \n...              ...       ...               ...  \n31788319   929511001  0.059305                 2  \n31788320   891322004  0.042356                 2  \n31788321   918325001  0.043203                 1  \n31788322   833459002  0.006763                 1  \n31788323   898573003  0.033881                 2  \n\n[31788324 rows x 5 columns]",
      "text/html": "<div>\n<style scoped>\n    .dataframe tbody tr th:only-of-type {\n        vertical-align: middle;\n    }\n\n    .dataframe tbody tr th {\n        vertical-align: top;\n    }\n\n    .dataframe thead th {\n        text-align: right;\n    }\n</style>\n<table border=\"1\" class=\"dataframe\">\n  <thead>\n    <tr style=\"text-align: right;\">\n      <th></th>\n      <th>t_dat</th>\n      <th>customer_id</th>\n      <th>article_id</th>\n      <th>price</th>\n      <th>sales_channel_id</th>\n    </tr>\n  </thead>\n  <tbody>\n    <tr>\n      <th>0</th>\n      <td>2018-09-20</td>\n      <td>000058a12d5b43e67d225668fa1f8d618c13dc232df0ca...</td>\n      <td>663713001</td>\n      <td>0.050831</td>\n      <td>2</td>\n    </tr>\n    <tr>\n      <th>1</th>\n      <td>2018-09-20</td>\n      <td>000058a12d5b43e67d225668fa1f8d618c13dc232df0ca...</td>\n      <td>541518023</td>\n      <td>0.030492</td>\n      <td>2</td>\n    </tr>\n    <tr>\n      <th>2</th>\n      <td>2018-09-20</td>\n      <td>00007d2de826758b65a93dd24ce629ed66842531df6699...</td>\n      <td>505221004</td>\n      <td>0.015237</td>\n      <td>2</td>\n    </tr>\n    <tr>\n      <th>3</th>\n      <td>2018-09-20</td>\n      <td>00007d2de826758b65a93dd24ce629ed66842531df6699...</td>\n      <td>685687003</td>\n      <td>0.016932</td>\n      <td>2</td>\n    </tr>\n    <tr>\n      <th>4</th>\n      <td>2018-09-20</td>\n      <td>00007d2de826758b65a93dd24ce629ed66842531df6699...</td>\n      <td>685687004</td>\n      <td>0.016932</td>\n      <td>2</td>\n    </tr>\n    <tr>\n      <th>...</th>\n      <td>...</td>\n      <td>...</td>\n      <td>...</td>\n      <td>...</td>\n      <td>...</td>\n    </tr>\n    <tr>\n      <th>31788319</th>\n      <td>2020-09-22</td>\n      <td>fff2282977442e327b45d8c89afde25617d00124d0f999...</td>\n      <td>929511001</td>\n      <td>0.059305</td>\n      <td>2</td>\n    </tr>\n    <tr>\n      <th>31788320</th>\n      <td>2020-09-22</td>\n      <td>fff2282977442e327b45d8c89afde25617d00124d0f999...</td>\n      <td>891322004</td>\n      <td>0.042356</td>\n      <td>2</td>\n    </tr>\n    <tr>\n      <th>31788321</th>\n      <td>2020-09-22</td>\n      <td>fff380805474b287b05cb2a7507b9a013482f7dd0bce0e...</td>\n      <td>918325001</td>\n      <td>0.043203</td>\n      <td>1</td>\n    </tr>\n    <tr>\n      <th>31788322</th>\n      <td>2020-09-22</td>\n      <td>fff4d3a8b1f3b60af93e78c30a7cb4cf75edaf2590d3e5...</td>\n      <td>833459002</td>\n      <td>0.006763</td>\n      <td>1</td>\n    </tr>\n    <tr>\n      <th>31788323</th>\n      <td>2020-09-22</td>\n      <td>fffef3b6b73545df065b521e19f64bf6fe93bfd450ab20...</td>\n      <td>898573003</td>\n      <td>0.033881</td>\n      <td>2</td>\n    </tr>\n  </tbody>\n</table>\n<p>31788324 rows × 5 columns</p>\n</div>"
     },
     "execution_count": 3,
     "metadata": {},
     "output_type": "execute_result"
    }
   ],
   "source": [
    "df_transactions"
   ],
   "metadata": {
    "collapsed": false,
    "pycharm": {
     "name": "#%%\n"
    }
   }
  },
  {
   "cell_type": "code",
   "execution_count": 4,
   "outputs": [
    {
     "data": {
      "text/plain": "customer_id               1371980\nFN                              1\nActive                          1\nclub_member_status              3\nfashion_news_frequency          4\nage                            84\npostal_code                352899\ndtype: int64"
     },
     "execution_count": 4,
     "metadata": {},
     "output_type": "execute_result"
    }
   ],
   "source": [
    "df_customers.nunique()\n"
   ],
   "metadata": {
    "collapsed": false,
    "pycharm": {
     "name": "#%%\n"
    }
   }
  },
  {
   "cell_type": "code",
   "execution_count": null,
   "outputs": [],
   "source": [
    "df_transactions.groupby('price').size().reset_index(name='counts')\n"
   ],
   "metadata": {
    "collapsed": false,
    "pycharm": {
     "name": "#%%\n"
    }
   }
  },
  {
   "cell_type": "code",
   "execution_count": null,
   "outputs": [],
   "source": [
    "from sklearn.cluster import KMeans\n",
    "kmeans = KMeans(n_clusters=10, random_state=0).fit(df_transactions.groupby('price').size().reset_index(name='counts')\n",
    ")"
   ],
   "metadata": {
    "collapsed": false,
    "pycharm": {
     "name": "#%%\n"
    }
   }
  },
  {
   "cell_type": "code",
   "execution_count": null,
   "outputs": [],
   "source": [
    "kmeans"
   ],
   "metadata": {
    "collapsed": false,
    "pycharm": {
     "name": "#%%\n"
    }
   }
  },
  {
   "cell_type": "code",
   "execution_count": 7,
   "outputs": [
    {
     "data": {
      "text/plain": "array([0, 0, 0, ..., 0, 0, 0], dtype=int32)"
     },
     "execution_count": 7,
     "metadata": {},
     "output_type": "execute_result"
    }
   ],
   "source": [
    "kmeans.labels_"
   ],
   "metadata": {
    "collapsed": false,
    "pycharm": {
     "name": "#%%\n"
    }
   }
  },
  {
   "cell_type": "code",
   "execution_count": 8,
   "outputs": [
    {
     "data": {
      "text/plain": "array([[9.81745412e-02, 1.38481438e+03],\n       [2.71016949e-02, 2.01674133e+06]])"
     },
     "execution_count": 8,
     "metadata": {},
     "output_type": "execute_result"
    }
   ],
   "source": [
    "kmeans.cluster_centers_"
   ],
   "metadata": {
    "collapsed": false,
    "pycharm": {
     "name": "#%%\n"
    }
   }
  },
  {
   "cell_type": "code",
   "execution_count": 19,
   "outputs": [],
   "source": [
    "kmeans = KMeans(n_clusters=2, random_state=0).fit_predict()"
   ],
   "metadata": {
    "collapsed": false,
    "pycharm": {
     "name": "#%%\n"
    }
   }
  },
  {
   "cell_type": "code",
   "execution_count": 34,
   "outputs": [
    {
     "data": {
      "text/plain": "         price  counts\n0     0.000017       1\n1     0.000034       3\n2     0.000051       2\n3     0.000102       3\n4     0.000119       4\n...        ...     ...\n9852  0.503288       2\n9853  0.503508       1\n9854  0.506780     144\n9855  0.532373       1\n9856  0.591525       8\n\n[9857 rows x 2 columns]",
      "text/html": "<div>\n<style scoped>\n    .dataframe tbody tr th:only-of-type {\n        vertical-align: middle;\n    }\n\n    .dataframe tbody tr th {\n        vertical-align: top;\n    }\n\n    .dataframe thead th {\n        text-align: right;\n    }\n</style>\n<table border=\"1\" class=\"dataframe\">\n  <thead>\n    <tr style=\"text-align: right;\">\n      <th></th>\n      <th>price</th>\n      <th>counts</th>\n    </tr>\n  </thead>\n  <tbody>\n    <tr>\n      <th>0</th>\n      <td>0.000017</td>\n      <td>1</td>\n    </tr>\n    <tr>\n      <th>1</th>\n      <td>0.000034</td>\n      <td>3</td>\n    </tr>\n    <tr>\n      <th>2</th>\n      <td>0.000051</td>\n      <td>2</td>\n    </tr>\n    <tr>\n      <th>3</th>\n      <td>0.000102</td>\n      <td>3</td>\n    </tr>\n    <tr>\n      <th>4</th>\n      <td>0.000119</td>\n      <td>4</td>\n    </tr>\n    <tr>\n      <th>...</th>\n      <td>...</td>\n      <td>...</td>\n    </tr>\n    <tr>\n      <th>9852</th>\n      <td>0.503288</td>\n      <td>2</td>\n    </tr>\n    <tr>\n      <th>9853</th>\n      <td>0.503508</td>\n      <td>1</td>\n    </tr>\n    <tr>\n      <th>9854</th>\n      <td>0.506780</td>\n      <td>144</td>\n    </tr>\n    <tr>\n      <th>9855</th>\n      <td>0.532373</td>\n      <td>1</td>\n    </tr>\n    <tr>\n      <th>9856</th>\n      <td>0.591525</td>\n      <td>8</td>\n    </tr>\n  </tbody>\n</table>\n<p>9857 rows × 2 columns</p>\n</div>"
     },
     "execution_count": 34,
     "metadata": {},
     "output_type": "execute_result"
    }
   ],
   "source": [
    "df_transactions.groupby(['price']).size().reset_index(name='counts')"
   ],
   "metadata": {
    "collapsed": false,
    "pycharm": {
     "name": "#%%\n"
    }
   }
  },
  {
   "cell_type": "code",
   "execution_count": 24,
   "outputs": [
    {
     "data": {
      "text/plain": "         price   counts\n0     0.016932  3416921\n1     0.033881  3406538\n2     0.025407  3266926\n3     0.013542  1497769\n4     0.050831  1494130\n...        ...      ...\n9852  0.071441        1\n9853  0.108932        1\n9854  0.108983        1\n9855  0.109000        1\n9856  0.000017        1\n\n[9857 rows x 2 columns]",
      "text/html": "<div>\n<style scoped>\n    .dataframe tbody tr th:only-of-type {\n        vertical-align: middle;\n    }\n\n    .dataframe tbody tr th {\n        vertical-align: top;\n    }\n\n    .dataframe thead th {\n        text-align: right;\n    }\n</style>\n<table border=\"1\" class=\"dataframe\">\n  <thead>\n    <tr style=\"text-align: right;\">\n      <th></th>\n      <th>price</th>\n      <th>counts</th>\n    </tr>\n  </thead>\n  <tbody>\n    <tr>\n      <th>0</th>\n      <td>0.016932</td>\n      <td>3416921</td>\n    </tr>\n    <tr>\n      <th>1</th>\n      <td>0.033881</td>\n      <td>3406538</td>\n    </tr>\n    <tr>\n      <th>2</th>\n      <td>0.025407</td>\n      <td>3266926</td>\n    </tr>\n    <tr>\n      <th>3</th>\n      <td>0.013542</td>\n      <td>1497769</td>\n    </tr>\n    <tr>\n      <th>4</th>\n      <td>0.050831</td>\n      <td>1494130</td>\n    </tr>\n    <tr>\n      <th>...</th>\n      <td>...</td>\n      <td>...</td>\n    </tr>\n    <tr>\n      <th>9852</th>\n      <td>0.071441</td>\n      <td>1</td>\n    </tr>\n    <tr>\n      <th>9853</th>\n      <td>0.108932</td>\n      <td>1</td>\n    </tr>\n    <tr>\n      <th>9854</th>\n      <td>0.108983</td>\n      <td>1</td>\n    </tr>\n    <tr>\n      <th>9855</th>\n      <td>0.109000</td>\n      <td>1</td>\n    </tr>\n    <tr>\n      <th>9856</th>\n      <td>0.000017</td>\n      <td>1</td>\n    </tr>\n  </tbody>\n</table>\n<p>9857 rows × 2 columns</p>\n</div>"
     },
     "execution_count": 24,
     "metadata": {},
     "output_type": "execute_result"
    }
   ],
   "source": [
    "df_transactions.groupby(['price']).size().sort_values(ascending=False).reset_index(name='counts')"
   ],
   "metadata": {
    "collapsed": false,
    "pycharm": {
     "name": "#%%\n"
    }
   }
  },
  {
   "cell_type": "code",
   "execution_count": 45,
   "outputs": [
    {
     "ename": "KeyboardInterrupt",
     "evalue": "",
     "output_type": "error",
     "traceback": [
      "\u001B[0;31m---------------------------------------------------------------------------\u001B[0m",
      "\u001B[0;31mKeyboardInterrupt\u001B[0m                         Traceback (most recent call last)",
      "Input \u001B[0;32mIn [45]\u001B[0m, in \u001B[0;36m<cell line: 2>\u001B[0;34m()\u001B[0m\n\u001B[1;32m      1\u001B[0m fig, ax \u001B[38;5;241m=\u001B[39m plt\u001B[38;5;241m.\u001B[39msubplots(figsize\u001B[38;5;241m=\u001B[39m(\u001B[38;5;241m10\u001B[39m,\u001B[38;5;241m5\u001B[39m))\n\u001B[0;32m----> 2\u001B[0m ax \u001B[38;5;241m=\u001B[39m \u001B[43msns\u001B[49m\u001B[38;5;241;43m.\u001B[39;49m\u001B[43mhistplot\u001B[49m\u001B[43m(\u001B[49m\u001B[43mdata\u001B[49m\u001B[38;5;241;43m=\u001B[39;49m\u001B[43mdf_transactions\u001B[49m\u001B[38;5;241;43m.\u001B[39;49m\u001B[43mgroupby\u001B[49m\u001B[43m(\u001B[49m\u001B[43m[\u001B[49m\u001B[38;5;124;43m'\u001B[39;49m\u001B[38;5;124;43mprice\u001B[39;49m\u001B[38;5;124;43m'\u001B[39;49m\u001B[43m]\u001B[49m\u001B[43m)\u001B[49m\u001B[38;5;241;43m.\u001B[39;49m\u001B[43msize\u001B[49m\u001B[43m(\u001B[49m\u001B[43m)\u001B[49m\u001B[38;5;241;43m.\u001B[39;49m\u001B[43msort_values\u001B[49m\u001B[43m(\u001B[49m\u001B[43mascending\u001B[49m\u001B[38;5;241;43m=\u001B[39;49m\u001B[38;5;28;43;01mFalse\u001B[39;49;00m\u001B[43m)\u001B[49m\u001B[38;5;241;43m.\u001B[39;49m\u001B[43mreset_index\u001B[49m\u001B[43m(\u001B[49m\u001B[43mname\u001B[49m\u001B[38;5;241;43m=\u001B[39;49m\u001B[38;5;124;43m'\u001B[39;49m\u001B[38;5;124;43mcounts\u001B[39;49m\u001B[38;5;124;43m'\u001B[39;49m\u001B[43m)\u001B[49m\u001B[43m,\u001B[49m\u001B[43m \u001B[49m\u001B[43mkde\u001B[49m\u001B[38;5;241;43m=\u001B[39;49m\u001B[38;5;28;43;01mTrue\u001B[39;49;00m\u001B[43m)\u001B[49m\n\u001B[1;32m      3\u001B[0m ax\u001B[38;5;241m.\u001B[39mset_xlabel(\u001B[38;5;124m'\u001B[39m\u001B[38;5;124mDistribution of the price\u001B[39m\u001B[38;5;124m'\u001B[39m)\n\u001B[1;32m      4\u001B[0m \u001B[38;5;28;01mfor\u001B[39;00m loc \u001B[38;5;129;01min\u001B[39;00m [\u001B[38;5;124m'\u001B[39m\u001B[38;5;124mbottom\u001B[39m\u001B[38;5;124m'\u001B[39m, \u001B[38;5;124m'\u001B[39m\u001B[38;5;124mleft\u001B[39m\u001B[38;5;124m'\u001B[39m]:\n",
      "File \u001B[0;32m~/Project_Folder/h-m-recsys-competition/venv/lib/python3.8/site-packages/seaborn/distributions.py:1462\u001B[0m, in \u001B[0;36mhistplot\u001B[0;34m(data, x, y, hue, weights, stat, bins, binwidth, binrange, discrete, cumulative, common_bins, common_norm, multiple, element, fill, shrink, kde, kde_kws, line_kws, thresh, pthresh, pmax, cbar, cbar_ax, cbar_kws, palette, hue_order, hue_norm, color, log_scale, legend, ax, **kwargs)\u001B[0m\n\u001B[1;32m   1451\u001B[0m estimate_kws \u001B[38;5;241m=\u001B[39m \u001B[38;5;28mdict\u001B[39m(\n\u001B[1;32m   1452\u001B[0m     stat\u001B[38;5;241m=\u001B[39mstat,\n\u001B[1;32m   1453\u001B[0m     bins\u001B[38;5;241m=\u001B[39mbins,\n\u001B[0;32m   (...)\u001B[0m\n\u001B[1;32m   1457\u001B[0m     cumulative\u001B[38;5;241m=\u001B[39mcumulative,\n\u001B[1;32m   1458\u001B[0m )\n\u001B[1;32m   1460\u001B[0m \u001B[38;5;28;01mif\u001B[39;00m p\u001B[38;5;241m.\u001B[39munivariate:\n\u001B[0;32m-> 1462\u001B[0m     \u001B[43mp\u001B[49m\u001B[38;5;241;43m.\u001B[39;49m\u001B[43mplot_univariate_histogram\u001B[49m\u001B[43m(\u001B[49m\n\u001B[1;32m   1463\u001B[0m \u001B[43m        \u001B[49m\u001B[43mmultiple\u001B[49m\u001B[38;5;241;43m=\u001B[39;49m\u001B[43mmultiple\u001B[49m\u001B[43m,\u001B[49m\n\u001B[1;32m   1464\u001B[0m \u001B[43m        \u001B[49m\u001B[43melement\u001B[49m\u001B[38;5;241;43m=\u001B[39;49m\u001B[43melement\u001B[49m\u001B[43m,\u001B[49m\n\u001B[1;32m   1465\u001B[0m \u001B[43m        \u001B[49m\u001B[43mfill\u001B[49m\u001B[38;5;241;43m=\u001B[39;49m\u001B[43mfill\u001B[49m\u001B[43m,\u001B[49m\n\u001B[1;32m   1466\u001B[0m \u001B[43m        \u001B[49m\u001B[43mshrink\u001B[49m\u001B[38;5;241;43m=\u001B[39;49m\u001B[43mshrink\u001B[49m\u001B[43m,\u001B[49m\n\u001B[1;32m   1467\u001B[0m \u001B[43m        \u001B[49m\u001B[43mcommon_norm\u001B[49m\u001B[38;5;241;43m=\u001B[39;49m\u001B[43mcommon_norm\u001B[49m\u001B[43m,\u001B[49m\n\u001B[1;32m   1468\u001B[0m \u001B[43m        \u001B[49m\u001B[43mcommon_bins\u001B[49m\u001B[38;5;241;43m=\u001B[39;49m\u001B[43mcommon_bins\u001B[49m\u001B[43m,\u001B[49m\n\u001B[1;32m   1469\u001B[0m \u001B[43m        \u001B[49m\u001B[43mkde\u001B[49m\u001B[38;5;241;43m=\u001B[39;49m\u001B[43mkde\u001B[49m\u001B[43m,\u001B[49m\n\u001B[1;32m   1470\u001B[0m \u001B[43m        \u001B[49m\u001B[43mkde_kws\u001B[49m\u001B[38;5;241;43m=\u001B[39;49m\u001B[43mkde_kws\u001B[49m\u001B[43m,\u001B[49m\n\u001B[1;32m   1471\u001B[0m \u001B[43m        \u001B[49m\u001B[43mcolor\u001B[49m\u001B[38;5;241;43m=\u001B[39;49m\u001B[43mcolor\u001B[49m\u001B[43m,\u001B[49m\n\u001B[1;32m   1472\u001B[0m \u001B[43m        \u001B[49m\u001B[43mlegend\u001B[49m\u001B[38;5;241;43m=\u001B[39;49m\u001B[43mlegend\u001B[49m\u001B[43m,\u001B[49m\n\u001B[1;32m   1473\u001B[0m \u001B[43m        \u001B[49m\u001B[43mestimate_kws\u001B[49m\u001B[38;5;241;43m=\u001B[39;49m\u001B[43mestimate_kws\u001B[49m\u001B[43m,\u001B[49m\n\u001B[1;32m   1474\u001B[0m \u001B[43m        \u001B[49m\u001B[43mline_kws\u001B[49m\u001B[38;5;241;43m=\u001B[39;49m\u001B[43mline_kws\u001B[49m\u001B[43m,\u001B[49m\n\u001B[1;32m   1475\u001B[0m \u001B[43m        \u001B[49m\u001B[38;5;241;43m*\u001B[39;49m\u001B[38;5;241;43m*\u001B[39;49m\u001B[43mkwargs\u001B[49m\u001B[43m,\u001B[49m\n\u001B[1;32m   1476\u001B[0m \u001B[43m    \u001B[49m\u001B[43m)\u001B[49m\n\u001B[1;32m   1478\u001B[0m \u001B[38;5;28;01melse\u001B[39;00m:\n\u001B[1;32m   1480\u001B[0m     p\u001B[38;5;241m.\u001B[39mplot_bivariate_histogram(\n\u001B[1;32m   1481\u001B[0m         common_bins\u001B[38;5;241m=\u001B[39mcommon_bins,\n\u001B[1;32m   1482\u001B[0m         common_norm\u001B[38;5;241m=\u001B[39mcommon_norm,\n\u001B[0;32m   (...)\u001B[0m\n\u001B[1;32m   1492\u001B[0m         \u001B[38;5;241m*\u001B[39m\u001B[38;5;241m*\u001B[39mkwargs,\n\u001B[1;32m   1493\u001B[0m     )\n",
      "File \u001B[0;32m~/Project_Folder/h-m-recsys-competition/venv/lib/python3.8/site-packages/seaborn/distributions.py:565\u001B[0m, in \u001B[0;36m_DistributionPlotter.plot_univariate_histogram\u001B[0;34m(self, multiple, element, fill, common_norm, common_bins, shrink, kde, kde_kws, color, legend, line_kws, estimate_kws, **plot_kws)\u001B[0m\n\u001B[1;32m    560\u001B[0m \u001B[38;5;28;01mif\u001B[39;00m element \u001B[38;5;241m==\u001B[39m \u001B[38;5;124m\"\u001B[39m\u001B[38;5;124mbars\u001B[39m\u001B[38;5;124m\"\u001B[39m:\n\u001B[1;32m    561\u001B[0m \n\u001B[1;32m    562\u001B[0m     \u001B[38;5;66;03m# Use matplotlib bar plotting\u001B[39;00m\n\u001B[1;32m    564\u001B[0m     plot_func \u001B[38;5;241m=\u001B[39m ax\u001B[38;5;241m.\u001B[39mbar \u001B[38;5;28;01mif\u001B[39;00m \u001B[38;5;28mself\u001B[39m\u001B[38;5;241m.\u001B[39mdata_variable \u001B[38;5;241m==\u001B[39m \u001B[38;5;124m\"\u001B[39m\u001B[38;5;124mx\u001B[39m\u001B[38;5;124m\"\u001B[39m \u001B[38;5;28;01melse\u001B[39;00m ax\u001B[38;5;241m.\u001B[39mbarh\n\u001B[0;32m--> 565\u001B[0m     artists \u001B[38;5;241m=\u001B[39m \u001B[43mplot_func\u001B[49m\u001B[43m(\u001B[49m\n\u001B[1;32m    566\u001B[0m \u001B[43m        \u001B[49m\u001B[43mhist\u001B[49m\u001B[43m[\u001B[49m\u001B[38;5;124;43m\"\u001B[39;49m\u001B[38;5;124;43medges\u001B[39;49m\u001B[38;5;124;43m\"\u001B[39;49m\u001B[43m]\u001B[49m\u001B[43m,\u001B[49m\n\u001B[1;32m    567\u001B[0m \u001B[43m        \u001B[49m\u001B[43mhist\u001B[49m\u001B[43m[\u001B[49m\u001B[38;5;124;43m\"\u001B[39;49m\u001B[38;5;124;43mheights\u001B[39;49m\u001B[38;5;124;43m\"\u001B[39;49m\u001B[43m]\u001B[49m\u001B[43m \u001B[49m\u001B[38;5;241;43m-\u001B[39;49m\u001B[43m \u001B[49m\u001B[43mbottom\u001B[49m\u001B[43m,\u001B[49m\n\u001B[1;32m    568\u001B[0m \u001B[43m        \u001B[49m\u001B[43mhist\u001B[49m\u001B[43m[\u001B[49m\u001B[38;5;124;43m\"\u001B[39;49m\u001B[38;5;124;43mwidths\u001B[39;49m\u001B[38;5;124;43m\"\u001B[39;49m\u001B[43m]\u001B[49m\u001B[43m,\u001B[49m\n\u001B[1;32m    569\u001B[0m \u001B[43m        \u001B[49m\u001B[43mbottom\u001B[49m\u001B[43m,\u001B[49m\n\u001B[1;32m    570\u001B[0m \u001B[43m        \u001B[49m\u001B[43malign\u001B[49m\u001B[38;5;241;43m=\u001B[39;49m\u001B[38;5;124;43m\"\u001B[39;49m\u001B[38;5;124;43medge\u001B[39;49m\u001B[38;5;124;43m\"\u001B[39;49m\u001B[43m,\u001B[49m\n\u001B[1;32m    571\u001B[0m \u001B[43m        \u001B[49m\u001B[38;5;241;43m*\u001B[39;49m\u001B[38;5;241;43m*\u001B[39;49m\u001B[43martist_kws\u001B[49m\u001B[43m,\u001B[49m\n\u001B[1;32m    572\u001B[0m \u001B[43m    \u001B[49m\u001B[43m)\u001B[49m\n\u001B[1;32m    573\u001B[0m     \u001B[38;5;28;01mfor\u001B[39;00m bar \u001B[38;5;129;01min\u001B[39;00m artists:\n\u001B[1;32m    574\u001B[0m         \u001B[38;5;28;01mif\u001B[39;00m \u001B[38;5;28mself\u001B[39m\u001B[38;5;241m.\u001B[39mdata_variable \u001B[38;5;241m==\u001B[39m \u001B[38;5;124m\"\u001B[39m\u001B[38;5;124mx\u001B[39m\u001B[38;5;124m\"\u001B[39m:\n",
      "File \u001B[0;32m~/Project_Folder/h-m-recsys-competition/venv/lib/python3.8/site-packages/matplotlib/__init__.py:1412\u001B[0m, in \u001B[0;36m_preprocess_data.<locals>.inner\u001B[0;34m(ax, data, *args, **kwargs)\u001B[0m\n\u001B[1;32m   1409\u001B[0m \u001B[38;5;129m@functools\u001B[39m\u001B[38;5;241m.\u001B[39mwraps(func)\n\u001B[1;32m   1410\u001B[0m \u001B[38;5;28;01mdef\u001B[39;00m \u001B[38;5;21minner\u001B[39m(ax, \u001B[38;5;241m*\u001B[39margs, data\u001B[38;5;241m=\u001B[39m\u001B[38;5;28;01mNone\u001B[39;00m, \u001B[38;5;241m*\u001B[39m\u001B[38;5;241m*\u001B[39mkwargs):\n\u001B[1;32m   1411\u001B[0m     \u001B[38;5;28;01mif\u001B[39;00m data \u001B[38;5;129;01mis\u001B[39;00m \u001B[38;5;28;01mNone\u001B[39;00m:\n\u001B[0;32m-> 1412\u001B[0m         \u001B[38;5;28;01mreturn\u001B[39;00m \u001B[43mfunc\u001B[49m\u001B[43m(\u001B[49m\u001B[43max\u001B[49m\u001B[43m,\u001B[49m\u001B[43m \u001B[49m\u001B[38;5;241;43m*\u001B[39;49m\u001B[38;5;28;43mmap\u001B[39;49m\u001B[43m(\u001B[49m\u001B[43msanitize_sequence\u001B[49m\u001B[43m,\u001B[49m\u001B[43m \u001B[49m\u001B[43margs\u001B[49m\u001B[43m)\u001B[49m\u001B[43m,\u001B[49m\u001B[43m \u001B[49m\u001B[38;5;241;43m*\u001B[39;49m\u001B[38;5;241;43m*\u001B[39;49m\u001B[43mkwargs\u001B[49m\u001B[43m)\u001B[49m\n\u001B[1;32m   1414\u001B[0m     bound \u001B[38;5;241m=\u001B[39m new_sig\u001B[38;5;241m.\u001B[39mbind(ax, \u001B[38;5;241m*\u001B[39margs, \u001B[38;5;241m*\u001B[39m\u001B[38;5;241m*\u001B[39mkwargs)\n\u001B[1;32m   1415\u001B[0m     auto_label \u001B[38;5;241m=\u001B[39m (bound\u001B[38;5;241m.\u001B[39marguments\u001B[38;5;241m.\u001B[39mget(label_namer)\n\u001B[1;32m   1416\u001B[0m                   \u001B[38;5;129;01mor\u001B[39;00m bound\u001B[38;5;241m.\u001B[39mkwargs\u001B[38;5;241m.\u001B[39mget(label_namer))\n",
      "File \u001B[0;32m~/Project_Folder/h-m-recsys-competition/venv/lib/python3.8/site-packages/matplotlib/axes/_axes.py:2409\u001B[0m, in \u001B[0;36mAxes.bar\u001B[0;34m(self, x, height, width, bottom, align, **kwargs)\u001B[0m\n\u001B[1;32m   2407\u001B[0m     \u001B[38;5;28;01melif\u001B[39;00m orientation \u001B[38;5;241m==\u001B[39m \u001B[38;5;124m'\u001B[39m\u001B[38;5;124mhorizontal\u001B[39m\u001B[38;5;124m'\u001B[39m:\n\u001B[1;32m   2408\u001B[0m         r\u001B[38;5;241m.\u001B[39msticky_edges\u001B[38;5;241m.\u001B[39mx\u001B[38;5;241m.\u001B[39mappend(l)\n\u001B[0;32m-> 2409\u001B[0m     \u001B[38;5;28;43mself\u001B[39;49m\u001B[38;5;241;43m.\u001B[39;49m\u001B[43madd_patch\u001B[49m\u001B[43m(\u001B[49m\u001B[43mr\u001B[49m\u001B[43m)\u001B[49m\n\u001B[1;32m   2410\u001B[0m     patches\u001B[38;5;241m.\u001B[39mappend(r)\n\u001B[1;32m   2412\u001B[0m \u001B[38;5;28;01mif\u001B[39;00m xerr \u001B[38;5;129;01mis\u001B[39;00m \u001B[38;5;129;01mnot\u001B[39;00m \u001B[38;5;28;01mNone\u001B[39;00m \u001B[38;5;129;01mor\u001B[39;00m yerr \u001B[38;5;129;01mis\u001B[39;00m \u001B[38;5;129;01mnot\u001B[39;00m \u001B[38;5;28;01mNone\u001B[39;00m:\n",
      "File \u001B[0;32m~/Project_Folder/h-m-recsys-competition/venv/lib/python3.8/site-packages/matplotlib/axes/_base.py:2358\u001B[0m, in \u001B[0;36m_AxesBase.add_patch\u001B[0;34m(self, p)\u001B[0m\n\u001B[1;32m   2356\u001B[0m \u001B[38;5;28;01mif\u001B[39;00m p\u001B[38;5;241m.\u001B[39mget_clip_path() \u001B[38;5;129;01mis\u001B[39;00m \u001B[38;5;28;01mNone\u001B[39;00m:\n\u001B[1;32m   2357\u001B[0m     p\u001B[38;5;241m.\u001B[39mset_clip_path(\u001B[38;5;28mself\u001B[39m\u001B[38;5;241m.\u001B[39mpatch)\n\u001B[0;32m-> 2358\u001B[0m \u001B[38;5;28;43mself\u001B[39;49m\u001B[38;5;241;43m.\u001B[39;49m\u001B[43m_update_patch_limits\u001B[49m\u001B[43m(\u001B[49m\u001B[43mp\u001B[49m\u001B[43m)\u001B[49m\n\u001B[1;32m   2359\u001B[0m \u001B[38;5;28mself\u001B[39m\u001B[38;5;241m.\u001B[39m_children\u001B[38;5;241m.\u001B[39mappend(p)\n\u001B[1;32m   2360\u001B[0m p\u001B[38;5;241m.\u001B[39m_remove_method \u001B[38;5;241m=\u001B[39m \u001B[38;5;28mself\u001B[39m\u001B[38;5;241m.\u001B[39m_children\u001B[38;5;241m.\u001B[39mremove\n",
      "File \u001B[0;32m~/Project_Folder/h-m-recsys-competition/venv/lib/python3.8/site-packages/matplotlib/axes/_base.py:2382\u001B[0m, in \u001B[0;36m_AxesBase._update_patch_limits\u001B[0;34m(self, patch)\u001B[0m\n\u001B[1;32m   2380\u001B[0m     \u001B[38;5;28;01mreturn\u001B[39;00m\n\u001B[1;32m   2381\u001B[0m patch_trf \u001B[38;5;241m=\u001B[39m patch\u001B[38;5;241m.\u001B[39mget_transform()\n\u001B[0;32m-> 2382\u001B[0m updatex, updatey \u001B[38;5;241m=\u001B[39m \u001B[43mpatch_trf\u001B[49m\u001B[38;5;241;43m.\u001B[39;49m\u001B[43mcontains_branch_seperately\u001B[49m\u001B[43m(\u001B[49m\u001B[38;5;28;43mself\u001B[39;49m\u001B[38;5;241;43m.\u001B[39;49m\u001B[43mtransData\u001B[49m\u001B[43m)\u001B[49m\n\u001B[1;32m   2383\u001B[0m \u001B[38;5;28;01mif\u001B[39;00m \u001B[38;5;129;01mnot\u001B[39;00m (updatex \u001B[38;5;129;01mor\u001B[39;00m updatey):\n\u001B[1;32m   2384\u001B[0m     \u001B[38;5;28;01mreturn\u001B[39;00m\n",
      "File \u001B[0;32m~/Project_Folder/h-m-recsys-competition/venv/lib/python3.8/site-packages/matplotlib/transforms.py:1424\u001B[0m, in \u001B[0;36mTransform.contains_branch_seperately\u001B[0;34m(self, other_transform)\u001B[0m\n\u001B[1;32m   1420\u001B[0m     \u001B[38;5;28;01mraise\u001B[39;00m \u001B[38;5;167;01mValueError\u001B[39;00m(\u001B[38;5;124m'\u001B[39m\u001B[38;5;124mcontains_branch_seperately only supports \u001B[39m\u001B[38;5;124m'\u001B[39m\n\u001B[1;32m   1421\u001B[0m                      \u001B[38;5;124m'\u001B[39m\u001B[38;5;124mtransforms with 2 output dimensions\u001B[39m\u001B[38;5;124m'\u001B[39m)\n\u001B[1;32m   1422\u001B[0m \u001B[38;5;66;03m# for a non-blended transform each separate dimension is the same, so\u001B[39;00m\n\u001B[1;32m   1423\u001B[0m \u001B[38;5;66;03m# just return the appropriate shape.\u001B[39;00m\n\u001B[0;32m-> 1424\u001B[0m \u001B[38;5;28;01mreturn\u001B[39;00m [\u001B[38;5;28;43mself\u001B[39;49m\u001B[38;5;241;43m.\u001B[39;49m\u001B[43mcontains_branch\u001B[49m\u001B[43m(\u001B[49m\u001B[43mother_transform\u001B[49m\u001B[43m)\u001B[49m] \u001B[38;5;241m*\u001B[39m \u001B[38;5;241m2\u001B[39m\n",
      "File \u001B[0;32m~/Project_Folder/h-m-recsys-competition/venv/lib/python3.8/site-packages/matplotlib/transforms.py:1403\u001B[0m, in \u001B[0;36mTransform.contains_branch\u001B[0;34m(self, other)\u001B[0m\n\u001B[1;32m   1400\u001B[0m     \u001B[38;5;28;01mreturn\u001B[39;00m \u001B[38;5;28;01mFalse\u001B[39;00m\n\u001B[1;32m   1402\u001B[0m \u001B[38;5;66;03m# check that a subtree is equal to other (starting from self)\u001B[39;00m\n\u001B[0;32m-> 1403\u001B[0m \u001B[38;5;28;01mfor\u001B[39;00m _, sub_tree \u001B[38;5;129;01min\u001B[39;00m \u001B[38;5;28mself\u001B[39m\u001B[38;5;241m.\u001B[39m_iter_break_from_left_to_right():\n\u001B[1;32m   1404\u001B[0m     \u001B[38;5;28;01mif\u001B[39;00m sub_tree \u001B[38;5;241m==\u001B[39m other:\n\u001B[1;32m   1405\u001B[0m         \u001B[38;5;28;01mreturn\u001B[39;00m \u001B[38;5;28;01mTrue\u001B[39;00m\n",
      "File \u001B[0;32m~/Project_Folder/h-m-recsys-competition/venv/lib/python3.8/site-packages/matplotlib/transforms.py:2403\u001B[0m, in \u001B[0;36mCompositeGenericTransform._iter_break_from_left_to_right\u001B[0;34m(self)\u001B[0m\n\u001B[1;32m   2402\u001B[0m \u001B[38;5;28;01mdef\u001B[39;00m \u001B[38;5;21m_iter_break_from_left_to_right\u001B[39m(\u001B[38;5;28mself\u001B[39m):\n\u001B[0;32m-> 2403\u001B[0m     \u001B[38;5;28;01mfor\u001B[39;00m left, right \u001B[38;5;129;01min\u001B[39;00m \u001B[38;5;28mself\u001B[39m\u001B[38;5;241m.\u001B[39m_a\u001B[38;5;241m.\u001B[39m_iter_break_from_left_to_right():\n\u001B[1;32m   2404\u001B[0m         \u001B[38;5;28;01myield\u001B[39;00m left, right \u001B[38;5;241m+\u001B[39m \u001B[38;5;28mself\u001B[39m\u001B[38;5;241m.\u001B[39m_b\n\u001B[1;32m   2405\u001B[0m     \u001B[38;5;28;01mfor\u001B[39;00m left, right \u001B[38;5;129;01min\u001B[39;00m \u001B[38;5;28mself\u001B[39m\u001B[38;5;241m.\u001B[39m_b\u001B[38;5;241m.\u001B[39m_iter_break_from_left_to_right():\n",
      "File \u001B[0;32m~/Project_Folder/h-m-recsys-competition/venv/lib/python3.8/site-packages/matplotlib/transforms.py:2404\u001B[0m, in \u001B[0;36mCompositeGenericTransform._iter_break_from_left_to_right\u001B[0;34m(self)\u001B[0m\n\u001B[1;32m   2402\u001B[0m \u001B[38;5;28;01mdef\u001B[39;00m \u001B[38;5;21m_iter_break_from_left_to_right\u001B[39m(\u001B[38;5;28mself\u001B[39m):\n\u001B[1;32m   2403\u001B[0m     \u001B[38;5;28;01mfor\u001B[39;00m left, right \u001B[38;5;129;01min\u001B[39;00m \u001B[38;5;28mself\u001B[39m\u001B[38;5;241m.\u001B[39m_a\u001B[38;5;241m.\u001B[39m_iter_break_from_left_to_right():\n\u001B[0;32m-> 2404\u001B[0m         \u001B[38;5;28;01myield\u001B[39;00m left, \u001B[43mright\u001B[49m\u001B[43m \u001B[49m\u001B[38;5;241;43m+\u001B[39;49m\u001B[43m \u001B[49m\u001B[38;5;28;43mself\u001B[39;49m\u001B[38;5;241;43m.\u001B[39;49m\u001B[43m_b\u001B[49m\n\u001B[1;32m   2405\u001B[0m     \u001B[38;5;28;01mfor\u001B[39;00m left, right \u001B[38;5;129;01min\u001B[39;00m \u001B[38;5;28mself\u001B[39m\u001B[38;5;241m.\u001B[39m_b\u001B[38;5;241m.\u001B[39m_iter_break_from_left_to_right():\n\u001B[1;32m   2406\u001B[0m         \u001B[38;5;28;01myield\u001B[39;00m \u001B[38;5;28mself\u001B[39m\u001B[38;5;241m.\u001B[39m_a \u001B[38;5;241m+\u001B[39m left, right\n",
      "File \u001B[0;32m~/Project_Folder/h-m-recsys-competition/venv/lib/python3.8/site-packages/matplotlib/transforms.py:1355\u001B[0m, in \u001B[0;36mTransform.__add__\u001B[0;34m(self, other)\u001B[0m\n\u001B[1;32m   1348\u001B[0m \u001B[38;5;28;01mdef\u001B[39;00m \u001B[38;5;21m__add__\u001B[39m(\u001B[38;5;28mself\u001B[39m, other):\n\u001B[1;32m   1349\u001B[0m     \u001B[38;5;124;03m\"\"\"\u001B[39;00m\n\u001B[1;32m   1350\u001B[0m \u001B[38;5;124;03m    Compose two transforms together so that *self* is followed by *other*.\u001B[39;00m\n\u001B[1;32m   1351\u001B[0m \n\u001B[1;32m   1352\u001B[0m \u001B[38;5;124;03m    ``A + B`` returns a transform ``C`` so that\u001B[39;00m\n\u001B[1;32m   1353\u001B[0m \u001B[38;5;124;03m    ``C.transform(x) == B.transform(A.transform(x))``.\u001B[39;00m\n\u001B[1;32m   1354\u001B[0m \u001B[38;5;124;03m    \"\"\"\u001B[39;00m\n\u001B[0;32m-> 1355\u001B[0m     \u001B[38;5;28;01mreturn\u001B[39;00m (\u001B[43mcomposite_transform_factory\u001B[49m\u001B[43m(\u001B[49m\u001B[38;5;28;43mself\u001B[39;49m\u001B[43m,\u001B[49m\u001B[43m \u001B[49m\u001B[43mother\u001B[49m\u001B[43m)\u001B[49m\n\u001B[1;32m   1356\u001B[0m             \u001B[38;5;28;01mif\u001B[39;00m \u001B[38;5;28misinstance\u001B[39m(other, Transform) \u001B[38;5;28;01melse\u001B[39;00m\n\u001B[1;32m   1357\u001B[0m             \u001B[38;5;28mNotImplemented\u001B[39m)\n",
      "File \u001B[0;32m~/Project_Folder/h-m-recsys-competition/venv/lib/python3.8/site-packages/matplotlib/transforms.py:2532\u001B[0m, in \u001B[0;36mcomposite_transform_factory\u001B[0;34m(a, b)\u001B[0m\n\u001B[1;32m   2530\u001B[0m \u001B[38;5;28;01melif\u001B[39;00m \u001B[38;5;28misinstance\u001B[39m(a, Affine2D) \u001B[38;5;129;01mand\u001B[39;00m \u001B[38;5;28misinstance\u001B[39m(b, Affine2D):\n\u001B[1;32m   2531\u001B[0m     \u001B[38;5;28;01mreturn\u001B[39;00m CompositeAffine2D(a, b)\n\u001B[0;32m-> 2532\u001B[0m \u001B[38;5;28;01mreturn\u001B[39;00m \u001B[43mCompositeGenericTransform\u001B[49m\u001B[43m(\u001B[49m\u001B[43ma\u001B[49m\u001B[43m,\u001B[49m\u001B[43m \u001B[49m\u001B[43mb\u001B[49m\u001B[43m)\u001B[49m\n",
      "File \u001B[0;32m~/Project_Folder/h-m-recsys-competition/venv/lib/python3.8/site-packages/matplotlib/transforms.py:2369\u001B[0m, in \u001B[0;36mCompositeGenericTransform.__init__\u001B[0;34m(self, a, b, **kwargs)\u001B[0m\n\u001B[1;32m   2367\u001B[0m \u001B[38;5;28mself\u001B[39m\u001B[38;5;241m.\u001B[39m_a \u001B[38;5;241m=\u001B[39m a\n\u001B[1;32m   2368\u001B[0m \u001B[38;5;28mself\u001B[39m\u001B[38;5;241m.\u001B[39m_b \u001B[38;5;241m=\u001B[39m b\n\u001B[0;32m-> 2369\u001B[0m \u001B[38;5;28;43mself\u001B[39;49m\u001B[38;5;241;43m.\u001B[39;49m\u001B[43mset_children\u001B[49m(a, b)\n",
      "\u001B[0;31mKeyboardInterrupt\u001B[0m: "
     ]
    },
    {
     "name": "stdout",
     "output_type": "stream",
     "text": [
      "Error in callback <function flush_figures at 0x7fd73d0bfca0> (for post_execute):\n"
     ]
    },
    {
     "name": "stderr",
     "output_type": "stream",
     "text": [
      "\n",
      "KeyboardInterrupt\n",
      "\n"
     ]
    }
   ],
   "source": [
    "fig, ax = plt.subplots(figsize=(10,5))\n",
    "ax = sns.histplot(data=df_transactions.groupby(['price']).size().sort_values(ascending=False).reset_index(name='counts'), x='price',kde=True)\n",
    "ax.set_xlabel('Distribution of the price')\n",
    "for loc in ['bottom', 'left']:\n",
    "    ax.spines[loc].set_visible(True)\n",
    "    ax.spines[loc].set_linewidth(2)\n",
    "    ax.spines[loc].set_color('black')\n",
    "plt.show()\n"
   ],
   "metadata": {
    "collapsed": false,
    "pycharm": {
     "name": "#%%\n"
    }
   }
  },
  {
   "cell_type": "code",
   "execution_count": 32,
   "outputs": [
    {
     "data": {
      "text/plain": "<Figure size 360x360 with 1 Axes>",
      "image/png": "[encoded data removed]"
     },
     "metadata": {
      "needs_background": "light"
     },
     "output_type": "display_data"
    }
   ],
   "source": [
    "ax = sns.relplot(data=df_transactions.groupby(['price']).size().sort_values(ascending=False).reset_index(name='counts'), x='price', y=\"counts\")\n",
    "plt.show()"
   ],
   "metadata": {
    "collapsed": false,
    "pycharm": {
     "name": "#%%\n"
    }
   }
  },
  {
   "cell_type": "code",
   "execution_count": 51,
   "outputs": [
    {
     "ename": "UndefinedVariableError",
     "evalue": "name 'period' is not defined",
     "output_type": "error",
     "traceback": [
      "\u001B[0;31m---------------------------------------------------------------------------\u001B[0m",
      "\u001B[0;31mKeyError\u001B[0m                                  Traceback (most recent call last)",
      "File \u001B[0;32m~/Project_Folder/h-m-recsys-competition/venv/lib/python3.8/site-packages/pandas/core/computation/scope.py:201\u001B[0m, in \u001B[0;36mScope.resolve\u001B[0;34m(self, key, is_local)\u001B[0m\n\u001B[1;32m    200\u001B[0m \u001B[38;5;28;01mif\u001B[39;00m \u001B[38;5;28mself\u001B[39m\u001B[38;5;241m.\u001B[39mhas_resolvers:\n\u001B[0;32m--> 201\u001B[0m     \u001B[38;5;28;01mreturn\u001B[39;00m \u001B[38;5;28;43mself\u001B[39;49m\u001B[38;5;241;43m.\u001B[39;49m\u001B[43mresolvers\u001B[49m\u001B[43m[\u001B[49m\u001B[43mkey\u001B[49m\u001B[43m]\u001B[49m\n\u001B[1;32m    203\u001B[0m \u001B[38;5;66;03m# if we're here that means that we have no locals and we also have\u001B[39;00m\n\u001B[1;32m    204\u001B[0m \u001B[38;5;66;03m# no resolvers\u001B[39;00m\n",
      "File \u001B[0;32m/Library/Frameworks/Python.framework/Versions/3.8/lib/python3.8/collections/__init__.py:891\u001B[0m, in \u001B[0;36mChainMap.__getitem__\u001B[0;34m(self, key)\u001B[0m\n\u001B[1;32m    890\u001B[0m         \u001B[38;5;28;01mpass\u001B[39;00m\n\u001B[0;32m--> 891\u001B[0m \u001B[38;5;28;01mreturn\u001B[39;00m \u001B[38;5;28;43mself\u001B[39;49m\u001B[38;5;241;43m.\u001B[39;49m\u001B[38;5;21;43m__missing__\u001B[39;49m\u001B[43m(\u001B[49m\u001B[43mkey\u001B[49m\u001B[43m)\u001B[49m\n",
      "File \u001B[0;32m/Library/Frameworks/Python.framework/Versions/3.8/lib/python3.8/collections/__init__.py:883\u001B[0m, in \u001B[0;36mChainMap.__missing__\u001B[0;34m(self, key)\u001B[0m\n\u001B[1;32m    882\u001B[0m \u001B[38;5;28;01mdef\u001B[39;00m \u001B[38;5;21m__missing__\u001B[39m(\u001B[38;5;28mself\u001B[39m, key):\n\u001B[0;32m--> 883\u001B[0m     \u001B[38;5;28;01mraise\u001B[39;00m \u001B[38;5;167;01mKeyError\u001B[39;00m(key)\n",
      "\u001B[0;31mKeyError\u001B[0m: 'period'",
      "\nDuring handling of the above exception, another exception occurred:\n",
      "\u001B[0;31mKeyError\u001B[0m                                  Traceback (most recent call last)",
      "File \u001B[0;32m~/Project_Folder/h-m-recsys-competition/venv/lib/python3.8/site-packages/pandas/core/computation/scope.py:212\u001B[0m, in \u001B[0;36mScope.resolve\u001B[0;34m(self, key, is_local)\u001B[0m\n\u001B[1;32m    208\u001B[0m \u001B[38;5;28;01mtry\u001B[39;00m:\n\u001B[1;32m    209\u001B[0m     \u001B[38;5;66;03m# last ditch effort we look in temporaries\u001B[39;00m\n\u001B[1;32m    210\u001B[0m     \u001B[38;5;66;03m# these are created when parsing indexing expressions\u001B[39;00m\n\u001B[1;32m    211\u001B[0m     \u001B[38;5;66;03m# e.g., df[df > 0]\u001B[39;00m\n\u001B[0;32m--> 212\u001B[0m     \u001B[38;5;28;01mreturn\u001B[39;00m \u001B[38;5;28;43mself\u001B[39;49m\u001B[38;5;241;43m.\u001B[39;49m\u001B[43mtemps\u001B[49m\u001B[43m[\u001B[49m\u001B[43mkey\u001B[49m\u001B[43m]\u001B[49m\n\u001B[1;32m    213\u001B[0m \u001B[38;5;28;01mexcept\u001B[39;00m \u001B[38;5;167;01mKeyError\u001B[39;00m \u001B[38;5;28;01mas\u001B[39;00m err:\n\u001B[1;32m    214\u001B[0m     \u001B[38;5;66;03m# runtime import because ops imports from scope\u001B[39;00m\n",
      "\u001B[0;31mKeyError\u001B[0m: 'period'",
      "\nThe above exception was the direct cause of the following exception:\n",
      "\u001B[0;31mUndefinedVariableError\u001B[0m                    Traceback (most recent call last)",
      "Input \u001B[0;32mIn [51]\u001B[0m, in \u001B[0;36m<cell line: 3>\u001B[0;34m()\u001B[0m\n\u001B[1;32m      1\u001B[0m plt\u001B[38;5;241m.\u001B[39mfigure(figsize\u001B[38;5;241m=\u001B[39m(\u001B[38;5;241m16\u001B[39m, \u001B[38;5;241m6\u001B[39m))\n\u001B[1;32m      2\u001B[0m plt\u001B[38;5;241m.\u001B[39msubplot(\u001B[38;5;241m1\u001B[39m, \u001B[38;5;241m2\u001B[39m, \u001B[38;5;241m1\u001B[39m)\n\u001B[0;32m----> 3\u001B[0m sns\u001B[38;5;241m.\u001B[39mhistplot(x\u001B[38;5;241m=\u001B[39m\u001B[38;5;124m\"\u001B[39m\u001B[38;5;124mearliest\u001B[39m\u001B[38;5;124m\"\u001B[39m, hue\u001B[38;5;241m=\u001B[39m\u001B[38;5;124m\"\u001B[39m\u001B[38;5;124mindex_group_name\u001B[39m\u001B[38;5;124m\"\u001B[39m, multiple\u001B[38;5;241m=\u001B[39m\u001B[38;5;124m\"\u001B[39m\u001B[38;5;124mstack\u001B[39m\u001B[38;5;124m\"\u001B[39m, data\u001B[38;5;241m=\u001B[39m\u001B[43mdf_articles\u001B[49m\u001B[38;5;241;43m.\u001B[39;49m\u001B[43mquery\u001B[49m\u001B[43m(\u001B[49m\u001B[38;5;124;43m\"\u001B[39;49m\u001B[38;5;124;43mperiod != 0\u001B[39;49m\u001B[38;5;124;43m\"\u001B[39;49m\u001B[43m)\u001B[49m)\n\u001B[1;32m      4\u001B[0m plt\u001B[38;5;241m.\u001B[39msubplot(\u001B[38;5;241m1\u001B[39m, \u001B[38;5;241m2\u001B[39m, \u001B[38;5;241m2\u001B[39m)\n\u001B[1;32m      5\u001B[0m sns\u001B[38;5;241m.\u001B[39mhistplot(x\u001B[38;5;241m=\u001B[39m\u001B[38;5;124m\"\u001B[39m\u001B[38;5;124mlatest\u001B[39m\u001B[38;5;124m\"\u001B[39m, hue\u001B[38;5;241m=\u001B[39m\u001B[38;5;124m\"\u001B[39m\u001B[38;5;124mindex_group_name\u001B[39m\u001B[38;5;124m\"\u001B[39m, multiple\u001B[38;5;241m=\u001B[39m\u001B[38;5;124m\"\u001B[39m\u001B[38;5;124mstack\u001B[39m\u001B[38;5;124m\"\u001B[39m, data\u001B[38;5;241m=\u001B[39mdf_articles\u001B[38;5;241m.\u001B[39mquery(\u001B[38;5;124m\"\u001B[39m\u001B[38;5;124mperiod != 0\u001B[39m\u001B[38;5;124m\"\u001B[39m))\n",
      "File \u001B[0;32m~/Project_Folder/h-m-recsys-competition/venv/lib/python3.8/site-packages/pandas/core/frame.py:3469\u001B[0m, in \u001B[0;36mDataFrame.query\u001B[0;34m(self, expr, inplace, **kwargs)\u001B[0m\n\u001B[1;32m   3467\u001B[0m kwargs[\u001B[38;5;124m\"\u001B[39m\u001B[38;5;124mlevel\u001B[39m\u001B[38;5;124m\"\u001B[39m] \u001B[38;5;241m=\u001B[39m kwargs\u001B[38;5;241m.\u001B[39mpop(\u001B[38;5;124m\"\u001B[39m\u001B[38;5;124mlevel\u001B[39m\u001B[38;5;124m\"\u001B[39m, \u001B[38;5;241m0\u001B[39m) \u001B[38;5;241m+\u001B[39m \u001B[38;5;241m1\u001B[39m\n\u001B[1;32m   3468\u001B[0m kwargs[\u001B[38;5;124m\"\u001B[39m\u001B[38;5;124mtarget\u001B[39m\u001B[38;5;124m\"\u001B[39m] \u001B[38;5;241m=\u001B[39m \u001B[38;5;28;01mNone\u001B[39;00m\n\u001B[0;32m-> 3469\u001B[0m res \u001B[38;5;241m=\u001B[39m \u001B[38;5;28;43mself\u001B[39;49m\u001B[38;5;241;43m.\u001B[39;49m\u001B[43meval\u001B[49m\u001B[43m(\u001B[49m\u001B[43mexpr\u001B[49m\u001B[43m,\u001B[49m\u001B[43m \u001B[49m\u001B[38;5;241;43m*\u001B[39;49m\u001B[38;5;241;43m*\u001B[39;49m\u001B[43mkwargs\u001B[49m\u001B[43m)\u001B[49m\n\u001B[1;32m   3471\u001B[0m \u001B[38;5;28;01mtry\u001B[39;00m:\n\u001B[1;32m   3472\u001B[0m     result \u001B[38;5;241m=\u001B[39m \u001B[38;5;28mself\u001B[39m\u001B[38;5;241m.\u001B[39mloc[res]\n",
      "File \u001B[0;32m~/Project_Folder/h-m-recsys-competition/venv/lib/python3.8/site-packages/pandas/core/frame.py:3599\u001B[0m, in \u001B[0;36mDataFrame.eval\u001B[0;34m(self, expr, inplace, **kwargs)\u001B[0m\n\u001B[1;32m   3596\u001B[0m     kwargs[\u001B[38;5;124m\"\u001B[39m\u001B[38;5;124mtarget\u001B[39m\u001B[38;5;124m\"\u001B[39m] \u001B[38;5;241m=\u001B[39m \u001B[38;5;28mself\u001B[39m\n\u001B[1;32m   3597\u001B[0m kwargs[\u001B[38;5;124m\"\u001B[39m\u001B[38;5;124mresolvers\u001B[39m\u001B[38;5;124m\"\u001B[39m] \u001B[38;5;241m=\u001B[39m kwargs\u001B[38;5;241m.\u001B[39mget(\u001B[38;5;124m\"\u001B[39m\u001B[38;5;124mresolvers\u001B[39m\u001B[38;5;124m\"\u001B[39m, ()) \u001B[38;5;241m+\u001B[39m \u001B[38;5;28mtuple\u001B[39m(resolvers)\n\u001B[0;32m-> 3599\u001B[0m \u001B[38;5;28;01mreturn\u001B[39;00m \u001B[43m_eval\u001B[49m\u001B[43m(\u001B[49m\u001B[43mexpr\u001B[49m\u001B[43m,\u001B[49m\u001B[43m \u001B[49m\u001B[43minplace\u001B[49m\u001B[38;5;241;43m=\u001B[39;49m\u001B[43minplace\u001B[49m\u001B[43m,\u001B[49m\u001B[43m \u001B[49m\u001B[38;5;241;43m*\u001B[39;49m\u001B[38;5;241;43m*\u001B[39;49m\u001B[43mkwargs\u001B[49m\u001B[43m)\u001B[49m\n",
      "File \u001B[0;32m~/Project_Folder/h-m-recsys-competition/venv/lib/python3.8/site-packages/pandas/core/computation/eval.py:342\u001B[0m, in \u001B[0;36meval\u001B[0;34m(expr, parser, engine, truediv, local_dict, global_dict, resolvers, level, target, inplace)\u001B[0m\n\u001B[1;32m    333\u001B[0m \u001B[38;5;66;03m# get our (possibly passed-in) scope\u001B[39;00m\n\u001B[1;32m    334\u001B[0m env \u001B[38;5;241m=\u001B[39m ensure_scope(\n\u001B[1;32m    335\u001B[0m     level \u001B[38;5;241m+\u001B[39m \u001B[38;5;241m1\u001B[39m,\n\u001B[1;32m    336\u001B[0m     global_dict\u001B[38;5;241m=\u001B[39mglobal_dict,\n\u001B[0;32m   (...)\u001B[0m\n\u001B[1;32m    339\u001B[0m     target\u001B[38;5;241m=\u001B[39mtarget,\n\u001B[1;32m    340\u001B[0m )\n\u001B[0;32m--> 342\u001B[0m parsed_expr \u001B[38;5;241m=\u001B[39m \u001B[43mExpr\u001B[49m\u001B[43m(\u001B[49m\u001B[43mexpr\u001B[49m\u001B[43m,\u001B[49m\u001B[43m \u001B[49m\u001B[43mengine\u001B[49m\u001B[38;5;241;43m=\u001B[39;49m\u001B[43mengine\u001B[49m\u001B[43m,\u001B[49m\u001B[43m \u001B[49m\u001B[43mparser\u001B[49m\u001B[38;5;241;43m=\u001B[39;49m\u001B[43mparser\u001B[49m\u001B[43m,\u001B[49m\u001B[43m \u001B[49m\u001B[43menv\u001B[49m\u001B[38;5;241;43m=\u001B[39;49m\u001B[43menv\u001B[49m\u001B[43m)\u001B[49m\n\u001B[1;32m    344\u001B[0m \u001B[38;5;66;03m# construct the engine and evaluate the parsed expression\u001B[39;00m\n\u001B[1;32m    345\u001B[0m eng \u001B[38;5;241m=\u001B[39m ENGINES[engine]\n",
      "File \u001B[0;32m~/Project_Folder/h-m-recsys-competition/venv/lib/python3.8/site-packages/pandas/core/computation/expr.py:798\u001B[0m, in \u001B[0;36mExpr.__init__\u001B[0;34m(self, expr, engine, parser, env, level)\u001B[0m\n\u001B[1;32m    796\u001B[0m \u001B[38;5;28mself\u001B[39m\u001B[38;5;241m.\u001B[39mparser \u001B[38;5;241m=\u001B[39m parser\n\u001B[1;32m    797\u001B[0m \u001B[38;5;28mself\u001B[39m\u001B[38;5;241m.\u001B[39m_visitor \u001B[38;5;241m=\u001B[39m PARSERS[parser](\u001B[38;5;28mself\u001B[39m\u001B[38;5;241m.\u001B[39menv, \u001B[38;5;28mself\u001B[39m\u001B[38;5;241m.\u001B[39mengine, \u001B[38;5;28mself\u001B[39m\u001B[38;5;241m.\u001B[39mparser)\n\u001B[0;32m--> 798\u001B[0m \u001B[38;5;28mself\u001B[39m\u001B[38;5;241m.\u001B[39mterms \u001B[38;5;241m=\u001B[39m \u001B[38;5;28;43mself\u001B[39;49m\u001B[38;5;241;43m.\u001B[39;49m\u001B[43mparse\u001B[49m\u001B[43m(\u001B[49m\u001B[43m)\u001B[49m\n",
      "File \u001B[0;32m~/Project_Folder/h-m-recsys-competition/venv/lib/python3.8/site-packages/pandas/core/computation/expr.py:817\u001B[0m, in \u001B[0;36mExpr.parse\u001B[0;34m(self)\u001B[0m\n\u001B[1;32m    813\u001B[0m \u001B[38;5;28;01mdef\u001B[39;00m \u001B[38;5;21mparse\u001B[39m(\u001B[38;5;28mself\u001B[39m):\n\u001B[1;32m    814\u001B[0m     \u001B[38;5;124;03m\"\"\"\u001B[39;00m\n\u001B[1;32m    815\u001B[0m \u001B[38;5;124;03m    Parse an expression.\u001B[39;00m\n\u001B[1;32m    816\u001B[0m \u001B[38;5;124;03m    \"\"\"\u001B[39;00m\n\u001B[0;32m--> 817\u001B[0m     \u001B[38;5;28;01mreturn\u001B[39;00m \u001B[38;5;28;43mself\u001B[39;49m\u001B[38;5;241;43m.\u001B[39;49m\u001B[43m_visitor\u001B[49m\u001B[38;5;241;43m.\u001B[39;49m\u001B[43mvisit\u001B[49m\u001B[43m(\u001B[49m\u001B[38;5;28;43mself\u001B[39;49m\u001B[38;5;241;43m.\u001B[39;49m\u001B[43mexpr\u001B[49m\u001B[43m)\u001B[49m\n",
      "File \u001B[0;32m~/Project_Folder/h-m-recsys-competition/venv/lib/python3.8/site-packages/pandas/core/computation/expr.py:401\u001B[0m, in \u001B[0;36mBaseExprVisitor.visit\u001B[0;34m(self, node, **kwargs)\u001B[0m\n\u001B[1;32m    399\u001B[0m method \u001B[38;5;241m=\u001B[39m \u001B[38;5;124m\"\u001B[39m\u001B[38;5;124mvisit_\u001B[39m\u001B[38;5;124m\"\u001B[39m \u001B[38;5;241m+\u001B[39m \u001B[38;5;28mtype\u001B[39m(node)\u001B[38;5;241m.\u001B[39m\u001B[38;5;18m__name__\u001B[39m\n\u001B[1;32m    400\u001B[0m visitor \u001B[38;5;241m=\u001B[39m \u001B[38;5;28mgetattr\u001B[39m(\u001B[38;5;28mself\u001B[39m, method)\n\u001B[0;32m--> 401\u001B[0m \u001B[38;5;28;01mreturn\u001B[39;00m \u001B[43mvisitor\u001B[49m\u001B[43m(\u001B[49m\u001B[43mnode\u001B[49m\u001B[43m,\u001B[49m\u001B[43m \u001B[49m\u001B[38;5;241;43m*\u001B[39;49m\u001B[38;5;241;43m*\u001B[39;49m\u001B[43mkwargs\u001B[49m\u001B[43m)\u001B[49m\n",
      "File \u001B[0;32m~/Project_Folder/h-m-recsys-competition/venv/lib/python3.8/site-packages/pandas/core/computation/expr.py:407\u001B[0m, in \u001B[0;36mBaseExprVisitor.visit_Module\u001B[0;34m(self, node, **kwargs)\u001B[0m\n\u001B[1;32m    405\u001B[0m     \u001B[38;5;28;01mraise\u001B[39;00m \u001B[38;5;167;01mSyntaxError\u001B[39;00m(\u001B[38;5;124m\"\u001B[39m\u001B[38;5;124monly a single expression is allowed\u001B[39m\u001B[38;5;124m\"\u001B[39m)\n\u001B[1;32m    406\u001B[0m expr \u001B[38;5;241m=\u001B[39m node\u001B[38;5;241m.\u001B[39mbody[\u001B[38;5;241m0\u001B[39m]\n\u001B[0;32m--> 407\u001B[0m \u001B[38;5;28;01mreturn\u001B[39;00m \u001B[38;5;28;43mself\u001B[39;49m\u001B[38;5;241;43m.\u001B[39;49m\u001B[43mvisit\u001B[49m\u001B[43m(\u001B[49m\u001B[43mexpr\u001B[49m\u001B[43m,\u001B[49m\u001B[43m \u001B[49m\u001B[38;5;241;43m*\u001B[39;49m\u001B[38;5;241;43m*\u001B[39;49m\u001B[43mkwargs\u001B[49m\u001B[43m)\u001B[49m\n",
      "File \u001B[0;32m~/Project_Folder/h-m-recsys-competition/venv/lib/python3.8/site-packages/pandas/core/computation/expr.py:401\u001B[0m, in \u001B[0;36mBaseExprVisitor.visit\u001B[0;34m(self, node, **kwargs)\u001B[0m\n\u001B[1;32m    399\u001B[0m method \u001B[38;5;241m=\u001B[39m \u001B[38;5;124m\"\u001B[39m\u001B[38;5;124mvisit_\u001B[39m\u001B[38;5;124m\"\u001B[39m \u001B[38;5;241m+\u001B[39m \u001B[38;5;28mtype\u001B[39m(node)\u001B[38;5;241m.\u001B[39m\u001B[38;5;18m__name__\u001B[39m\n\u001B[1;32m    400\u001B[0m visitor \u001B[38;5;241m=\u001B[39m \u001B[38;5;28mgetattr\u001B[39m(\u001B[38;5;28mself\u001B[39m, method)\n\u001B[0;32m--> 401\u001B[0m \u001B[38;5;28;01mreturn\u001B[39;00m \u001B[43mvisitor\u001B[49m\u001B[43m(\u001B[49m\u001B[43mnode\u001B[49m\u001B[43m,\u001B[49m\u001B[43m \u001B[49m\u001B[38;5;241;43m*\u001B[39;49m\u001B[38;5;241;43m*\u001B[39;49m\u001B[43mkwargs\u001B[49m\u001B[43m)\u001B[49m\n",
      "File \u001B[0;32m~/Project_Folder/h-m-recsys-competition/venv/lib/python3.8/site-packages/pandas/core/computation/expr.py:410\u001B[0m, in \u001B[0;36mBaseExprVisitor.visit_Expr\u001B[0;34m(self, node, **kwargs)\u001B[0m\n\u001B[1;32m    409\u001B[0m \u001B[38;5;28;01mdef\u001B[39;00m \u001B[38;5;21mvisit_Expr\u001B[39m(\u001B[38;5;28mself\u001B[39m, node, \u001B[38;5;241m*\u001B[39m\u001B[38;5;241m*\u001B[39mkwargs):\n\u001B[0;32m--> 410\u001B[0m     \u001B[38;5;28;01mreturn\u001B[39;00m \u001B[38;5;28;43mself\u001B[39;49m\u001B[38;5;241;43m.\u001B[39;49m\u001B[43mvisit\u001B[49m\u001B[43m(\u001B[49m\u001B[43mnode\u001B[49m\u001B[38;5;241;43m.\u001B[39;49m\u001B[43mvalue\u001B[49m\u001B[43m,\u001B[49m\u001B[43m \u001B[49m\u001B[38;5;241;43m*\u001B[39;49m\u001B[38;5;241;43m*\u001B[39;49m\u001B[43mkwargs\u001B[49m\u001B[43m)\u001B[49m\n",
      "File \u001B[0;32m~/Project_Folder/h-m-recsys-competition/venv/lib/python3.8/site-packages/pandas/core/computation/expr.py:401\u001B[0m, in \u001B[0;36mBaseExprVisitor.visit\u001B[0;34m(self, node, **kwargs)\u001B[0m\n\u001B[1;32m    399\u001B[0m method \u001B[38;5;241m=\u001B[39m \u001B[38;5;124m\"\u001B[39m\u001B[38;5;124mvisit_\u001B[39m\u001B[38;5;124m\"\u001B[39m \u001B[38;5;241m+\u001B[39m \u001B[38;5;28mtype\u001B[39m(node)\u001B[38;5;241m.\u001B[39m\u001B[38;5;18m__name__\u001B[39m\n\u001B[1;32m    400\u001B[0m visitor \u001B[38;5;241m=\u001B[39m \u001B[38;5;28mgetattr\u001B[39m(\u001B[38;5;28mself\u001B[39m, method)\n\u001B[0;32m--> 401\u001B[0m \u001B[38;5;28;01mreturn\u001B[39;00m \u001B[43mvisitor\u001B[49m\u001B[43m(\u001B[49m\u001B[43mnode\u001B[49m\u001B[43m,\u001B[49m\u001B[43m \u001B[49m\u001B[38;5;241;43m*\u001B[39;49m\u001B[38;5;241;43m*\u001B[39;49m\u001B[43mkwargs\u001B[49m\u001B[43m)\u001B[49m\n",
      "File \u001B[0;32m~/Project_Folder/h-m-recsys-competition/venv/lib/python3.8/site-packages/pandas/core/computation/expr.py:710\u001B[0m, in \u001B[0;36mBaseExprVisitor.visit_Compare\u001B[0;34m(self, node, **kwargs)\u001B[0m\n\u001B[1;32m    708\u001B[0m     op \u001B[38;5;241m=\u001B[39m \u001B[38;5;28mself\u001B[39m\u001B[38;5;241m.\u001B[39mtranslate_In(ops[\u001B[38;5;241m0\u001B[39m])\n\u001B[1;32m    709\u001B[0m     binop \u001B[38;5;241m=\u001B[39m ast\u001B[38;5;241m.\u001B[39mBinOp(op\u001B[38;5;241m=\u001B[39mop, left\u001B[38;5;241m=\u001B[39mnode\u001B[38;5;241m.\u001B[39mleft, right\u001B[38;5;241m=\u001B[39mcomps[\u001B[38;5;241m0\u001B[39m])\n\u001B[0;32m--> 710\u001B[0m     \u001B[38;5;28;01mreturn\u001B[39;00m \u001B[38;5;28;43mself\u001B[39;49m\u001B[38;5;241;43m.\u001B[39;49m\u001B[43mvisit\u001B[49m\u001B[43m(\u001B[49m\u001B[43mbinop\u001B[49m\u001B[43m)\u001B[49m\n\u001B[1;32m    712\u001B[0m \u001B[38;5;66;03m# recursive case: we have a chained comparison, a CMP b CMP c, etc.\u001B[39;00m\n\u001B[1;32m    713\u001B[0m left \u001B[38;5;241m=\u001B[39m node\u001B[38;5;241m.\u001B[39mleft\n",
      "File \u001B[0;32m~/Project_Folder/h-m-recsys-competition/venv/lib/python3.8/site-packages/pandas/core/computation/expr.py:401\u001B[0m, in \u001B[0;36mBaseExprVisitor.visit\u001B[0;34m(self, node, **kwargs)\u001B[0m\n\u001B[1;32m    399\u001B[0m method \u001B[38;5;241m=\u001B[39m \u001B[38;5;124m\"\u001B[39m\u001B[38;5;124mvisit_\u001B[39m\u001B[38;5;124m\"\u001B[39m \u001B[38;5;241m+\u001B[39m \u001B[38;5;28mtype\u001B[39m(node)\u001B[38;5;241m.\u001B[39m\u001B[38;5;18m__name__\u001B[39m\n\u001B[1;32m    400\u001B[0m visitor \u001B[38;5;241m=\u001B[39m \u001B[38;5;28mgetattr\u001B[39m(\u001B[38;5;28mself\u001B[39m, method)\n\u001B[0;32m--> 401\u001B[0m \u001B[38;5;28;01mreturn\u001B[39;00m \u001B[43mvisitor\u001B[49m\u001B[43m(\u001B[49m\u001B[43mnode\u001B[49m\u001B[43m,\u001B[49m\u001B[43m \u001B[49m\u001B[38;5;241;43m*\u001B[39;49m\u001B[38;5;241;43m*\u001B[39;49m\u001B[43mkwargs\u001B[49m\u001B[43m)\u001B[49m\n",
      "File \u001B[0;32m~/Project_Folder/h-m-recsys-competition/venv/lib/python3.8/site-packages/pandas/core/computation/expr.py:522\u001B[0m, in \u001B[0;36mBaseExprVisitor.visit_BinOp\u001B[0;34m(self, node, **kwargs)\u001B[0m\n\u001B[1;32m    521\u001B[0m \u001B[38;5;28;01mdef\u001B[39;00m \u001B[38;5;21mvisit_BinOp\u001B[39m(\u001B[38;5;28mself\u001B[39m, node, \u001B[38;5;241m*\u001B[39m\u001B[38;5;241m*\u001B[39mkwargs):\n\u001B[0;32m--> 522\u001B[0m     op, op_class, left, right \u001B[38;5;241m=\u001B[39m \u001B[38;5;28;43mself\u001B[39;49m\u001B[38;5;241;43m.\u001B[39;49m\u001B[43m_maybe_transform_eq_ne\u001B[49m\u001B[43m(\u001B[49m\u001B[43mnode\u001B[49m\u001B[43m)\u001B[49m\n\u001B[1;32m    523\u001B[0m     left, right \u001B[38;5;241m=\u001B[39m \u001B[38;5;28mself\u001B[39m\u001B[38;5;241m.\u001B[39m_maybe_downcast_constants(left, right)\n\u001B[1;32m    524\u001B[0m     \u001B[38;5;28;01mreturn\u001B[39;00m \u001B[38;5;28mself\u001B[39m\u001B[38;5;241m.\u001B[39m_maybe_evaluate_binop(op, op_class, left, right)\n",
      "File \u001B[0;32m~/Project_Folder/h-m-recsys-competition/venv/lib/python3.8/site-packages/pandas/core/computation/expr.py:442\u001B[0m, in \u001B[0;36mBaseExprVisitor._maybe_transform_eq_ne\u001B[0;34m(self, node, left, right)\u001B[0m\n\u001B[1;32m    440\u001B[0m \u001B[38;5;28;01mdef\u001B[39;00m \u001B[38;5;21m_maybe_transform_eq_ne\u001B[39m(\u001B[38;5;28mself\u001B[39m, node, left\u001B[38;5;241m=\u001B[39m\u001B[38;5;28;01mNone\u001B[39;00m, right\u001B[38;5;241m=\u001B[39m\u001B[38;5;28;01mNone\u001B[39;00m):\n\u001B[1;32m    441\u001B[0m     \u001B[38;5;28;01mif\u001B[39;00m left \u001B[38;5;129;01mis\u001B[39;00m \u001B[38;5;28;01mNone\u001B[39;00m:\n\u001B[0;32m--> 442\u001B[0m         left \u001B[38;5;241m=\u001B[39m \u001B[38;5;28;43mself\u001B[39;49m\u001B[38;5;241;43m.\u001B[39;49m\u001B[43mvisit\u001B[49m\u001B[43m(\u001B[49m\u001B[43mnode\u001B[49m\u001B[38;5;241;43m.\u001B[39;49m\u001B[43mleft\u001B[49m\u001B[43m,\u001B[49m\u001B[43m \u001B[49m\u001B[43mside\u001B[49m\u001B[38;5;241;43m=\u001B[39;49m\u001B[38;5;124;43m\"\u001B[39;49m\u001B[38;5;124;43mleft\u001B[39;49m\u001B[38;5;124;43m\"\u001B[39;49m\u001B[43m)\u001B[49m\n\u001B[1;32m    443\u001B[0m     \u001B[38;5;28;01mif\u001B[39;00m right \u001B[38;5;129;01mis\u001B[39;00m \u001B[38;5;28;01mNone\u001B[39;00m:\n\u001B[1;32m    444\u001B[0m         right \u001B[38;5;241m=\u001B[39m \u001B[38;5;28mself\u001B[39m\u001B[38;5;241m.\u001B[39mvisit(node\u001B[38;5;241m.\u001B[39mright, side\u001B[38;5;241m=\u001B[39m\u001B[38;5;124m\"\u001B[39m\u001B[38;5;124mright\u001B[39m\u001B[38;5;124m\"\u001B[39m)\n",
      "File \u001B[0;32m~/Project_Folder/h-m-recsys-competition/venv/lib/python3.8/site-packages/pandas/core/computation/expr.py:401\u001B[0m, in \u001B[0;36mBaseExprVisitor.visit\u001B[0;34m(self, node, **kwargs)\u001B[0m\n\u001B[1;32m    399\u001B[0m method \u001B[38;5;241m=\u001B[39m \u001B[38;5;124m\"\u001B[39m\u001B[38;5;124mvisit_\u001B[39m\u001B[38;5;124m\"\u001B[39m \u001B[38;5;241m+\u001B[39m \u001B[38;5;28mtype\u001B[39m(node)\u001B[38;5;241m.\u001B[39m\u001B[38;5;18m__name__\u001B[39m\n\u001B[1;32m    400\u001B[0m visitor \u001B[38;5;241m=\u001B[39m \u001B[38;5;28mgetattr\u001B[39m(\u001B[38;5;28mself\u001B[39m, method)\n\u001B[0;32m--> 401\u001B[0m \u001B[38;5;28;01mreturn\u001B[39;00m \u001B[43mvisitor\u001B[49m\u001B[43m(\u001B[49m\u001B[43mnode\u001B[49m\u001B[43m,\u001B[49m\u001B[43m \u001B[49m\u001B[38;5;241;43m*\u001B[39;49m\u001B[38;5;241;43m*\u001B[39;49m\u001B[43mkwargs\u001B[49m\u001B[43m)\u001B[49m\n",
      "File \u001B[0;32m~/Project_Folder/h-m-recsys-competition/venv/lib/python3.8/site-packages/pandas/core/computation/expr.py:535\u001B[0m, in \u001B[0;36mBaseExprVisitor.visit_Name\u001B[0;34m(self, node, **kwargs)\u001B[0m\n\u001B[1;32m    534\u001B[0m \u001B[38;5;28;01mdef\u001B[39;00m \u001B[38;5;21mvisit_Name\u001B[39m(\u001B[38;5;28mself\u001B[39m, node, \u001B[38;5;241m*\u001B[39m\u001B[38;5;241m*\u001B[39mkwargs):\n\u001B[0;32m--> 535\u001B[0m     \u001B[38;5;28;01mreturn\u001B[39;00m \u001B[38;5;28;43mself\u001B[39;49m\u001B[38;5;241;43m.\u001B[39;49m\u001B[43mterm_type\u001B[49m\u001B[43m(\u001B[49m\u001B[43mnode\u001B[49m\u001B[38;5;241;43m.\u001B[39;49m\u001B[43mid\u001B[49m\u001B[43m,\u001B[49m\u001B[43m \u001B[49m\u001B[38;5;28;43mself\u001B[39;49m\u001B[38;5;241;43m.\u001B[39;49m\u001B[43menv\u001B[49m\u001B[43m,\u001B[49m\u001B[43m \u001B[49m\u001B[38;5;241;43m*\u001B[39;49m\u001B[38;5;241;43m*\u001B[39;49m\u001B[43mkwargs\u001B[49m\u001B[43m)\u001B[49m\n",
      "File \u001B[0;32m~/Project_Folder/h-m-recsys-competition/venv/lib/python3.8/site-packages/pandas/core/computation/ops.py:86\u001B[0m, in \u001B[0;36mTerm.__init__\u001B[0;34m(self, name, env, side, encoding)\u001B[0m\n\u001B[1;32m     84\u001B[0m tname \u001B[38;5;241m=\u001B[39m \u001B[38;5;28mstr\u001B[39m(name)\n\u001B[1;32m     85\u001B[0m \u001B[38;5;28mself\u001B[39m\u001B[38;5;241m.\u001B[39mis_local \u001B[38;5;241m=\u001B[39m tname\u001B[38;5;241m.\u001B[39mstartswith(LOCAL_TAG) \u001B[38;5;129;01mor\u001B[39;00m tname \u001B[38;5;129;01min\u001B[39;00m DEFAULT_GLOBALS\n\u001B[0;32m---> 86\u001B[0m \u001B[38;5;28mself\u001B[39m\u001B[38;5;241m.\u001B[39m_value \u001B[38;5;241m=\u001B[39m \u001B[38;5;28;43mself\u001B[39;49m\u001B[38;5;241;43m.\u001B[39;49m\u001B[43m_resolve_name\u001B[49m\u001B[43m(\u001B[49m\u001B[43m)\u001B[49m\n\u001B[1;32m     87\u001B[0m \u001B[38;5;28mself\u001B[39m\u001B[38;5;241m.\u001B[39mencoding \u001B[38;5;241m=\u001B[39m encoding\n",
      "File \u001B[0;32m~/Project_Folder/h-m-recsys-competition/venv/lib/python3.8/site-packages/pandas/core/computation/ops.py:103\u001B[0m, in \u001B[0;36mTerm._resolve_name\u001B[0;34m(self)\u001B[0m\n\u001B[1;32m    102\u001B[0m \u001B[38;5;28;01mdef\u001B[39;00m \u001B[38;5;21m_resolve_name\u001B[39m(\u001B[38;5;28mself\u001B[39m):\n\u001B[0;32m--> 103\u001B[0m     res \u001B[38;5;241m=\u001B[39m \u001B[38;5;28;43mself\u001B[39;49m\u001B[38;5;241;43m.\u001B[39;49m\u001B[43menv\u001B[49m\u001B[38;5;241;43m.\u001B[39;49m\u001B[43mresolve\u001B[49m\u001B[43m(\u001B[49m\u001B[38;5;28;43mself\u001B[39;49m\u001B[38;5;241;43m.\u001B[39;49m\u001B[43mlocal_name\u001B[49m\u001B[43m,\u001B[49m\u001B[43m \u001B[49m\u001B[43mis_local\u001B[49m\u001B[38;5;241;43m=\u001B[39;49m\u001B[38;5;28;43mself\u001B[39;49m\u001B[38;5;241;43m.\u001B[39;49m\u001B[43mis_local\u001B[49m\u001B[43m)\u001B[49m\n\u001B[1;32m    104\u001B[0m     \u001B[38;5;28mself\u001B[39m\u001B[38;5;241m.\u001B[39mupdate(res)\n\u001B[1;32m    106\u001B[0m     \u001B[38;5;28;01mif\u001B[39;00m \u001B[38;5;28mhasattr\u001B[39m(res, \u001B[38;5;124m\"\u001B[39m\u001B[38;5;124mndim\u001B[39m\u001B[38;5;124m\"\u001B[39m) \u001B[38;5;129;01mand\u001B[39;00m res\u001B[38;5;241m.\u001B[39mndim \u001B[38;5;241m>\u001B[39m \u001B[38;5;241m2\u001B[39m:\n",
      "File \u001B[0;32m~/Project_Folder/h-m-recsys-competition/venv/lib/python3.8/site-packages/pandas/core/computation/scope.py:217\u001B[0m, in \u001B[0;36mScope.resolve\u001B[0;34m(self, key, is_local)\u001B[0m\n\u001B[1;32m    213\u001B[0m \u001B[38;5;28;01mexcept\u001B[39;00m \u001B[38;5;167;01mKeyError\u001B[39;00m \u001B[38;5;28;01mas\u001B[39;00m err:\n\u001B[1;32m    214\u001B[0m     \u001B[38;5;66;03m# runtime import because ops imports from scope\u001B[39;00m\n\u001B[1;32m    215\u001B[0m     \u001B[38;5;28;01mfrom\u001B[39;00m \u001B[38;5;21;01mpandas\u001B[39;00m\u001B[38;5;21;01m.\u001B[39;00m\u001B[38;5;21;01mcore\u001B[39;00m\u001B[38;5;21;01m.\u001B[39;00m\u001B[38;5;21;01mcomputation\u001B[39;00m\u001B[38;5;21;01m.\u001B[39;00m\u001B[38;5;21;01mops\u001B[39;00m \u001B[38;5;28;01mimport\u001B[39;00m UndefinedVariableError\n\u001B[0;32m--> 217\u001B[0m     \u001B[38;5;28;01mraise\u001B[39;00m UndefinedVariableError(key, is_local) \u001B[38;5;28;01mfrom\u001B[39;00m \u001B[38;5;21;01merr\u001B[39;00m\n",
      "\u001B[0;31mUndefinedVariableError\u001B[0m: name 'period' is not defined"
     ]
    },
    {
     "data": {
      "text/plain": "<Figure size 1152x432 with 1 Axes>",
      "image/png": "[encoded data removed]"
     },
     "metadata": {
      "needs_background": "light"
     },
     "output_type": "display_data"
    }
   ],
   "source": [
    "plt.figure(figsize=(16, 6))\n",
    "plt.subplot(1, 2, 1)\n",
    "sns.histplot(x=\"earliest\", hue=\"index_group_name\", multiple=\"stack\", data=df_articles.query(\"period != 0\"))\n",
    "plt.subplot(1, 2, 2)\n",
    "sns.histplot(x=\"latest\", hue=\"index_group_name\", multiple=\"stack\", data=df_articles.query(\"period != 0\"))\n"
   ],
   "metadata": {
    "collapsed": false,
    "pycharm": {
     "name": "#%%\n"
    }
   }
  },
  {
   "cell_type": "code",
   "execution_count": 60,
   "outputs": [
    {
     "data": {
      "text/plain": "               t_dat                                        customer_id  \\\n0         2018-09-20  000058a12d5b43e67d225668fa1f8d618c13dc232df0ca...   \n1         2018-09-20  000058a12d5b43e67d225668fa1f8d618c13dc232df0ca...   \n2         2018-09-20  00007d2de826758b65a93dd24ce629ed66842531df6699...   \n3         2018-09-20  00007d2de826758b65a93dd24ce629ed66842531df6699...   \n4         2018-09-20  00007d2de826758b65a93dd24ce629ed66842531df6699...   \n...              ...                                                ...   \n31788319  2020-09-22  fff2282977442e327b45d8c89afde25617d00124d0f999...   \n31788320  2020-09-22  fff2282977442e327b45d8c89afde25617d00124d0f999...   \n31788321  2020-09-22  fff380805474b287b05cb2a7507b9a013482f7dd0bce0e...   \n31788322  2020-09-22  fff4d3a8b1f3b60af93e78c30a7cb4cf75edaf2590d3e5...   \n31788323  2020-09-22  fffef3b6b73545df065b521e19f64bf6fe93bfd450ab20...   \n\n          article_id     price  sales_channel_id  \n0          663713001  0.050831                 2  \n1          541518023  0.030492                 2  \n2          505221004  0.015237                 2  \n3          685687003  0.016932                 2  \n4          685687004  0.016932                 2  \n...              ...       ...               ...  \n31788319   929511001  0.059305                 2  \n31788320   891322004  0.042356                 2  \n31788321   918325001  0.043203                 1  \n31788322   833459002  0.006763                 1  \n31788323   898573003  0.033881                 2  \n\n[31788324 rows x 5 columns]",
      "text/html": "<div>\n<style scoped>\n    .dataframe tbody tr th:only-of-type {\n        vertical-align: middle;\n    }\n\n    .dataframe tbody tr th {\n        vertical-align: top;\n    }\n\n    .dataframe thead th {\n        text-align: right;\n    }\n</style>\n<table border=\"1\" class=\"dataframe\">\n  <thead>\n    <tr style=\"text-align: right;\">\n      <th></th>\n      <th>t_dat</th>\n      <th>customer_id</th>\n      <th>article_id</th>\n      <th>price</th>\n      <th>sales_channel_id</th>\n    </tr>\n  </thead>\n  <tbody>\n    <tr>\n      <th>0</th>\n      <td>2018-09-20</td>\n      <td>000058a12d5b43e67d225668fa1f8d618c13dc232df0ca...</td>\n      <td>663713001</td>\n      <td>0.050831</td>\n      <td>2</td>\n    </tr>\n    <tr>\n      <th>1</th>\n      <td>2018-09-20</td>\n      <td>000058a12d5b43e67d225668fa1f8d618c13dc232df0ca...</td>\n      <td>541518023</td>\n      <td>0.030492</td>\n      <td>2</td>\n    </tr>\n    <tr>\n      <th>2</th>\n      <td>2018-09-20</td>\n      <td>00007d2de826758b65a93dd24ce629ed66842531df6699...</td>\n      <td>505221004</td>\n      <td>0.015237</td>\n      <td>2</td>\n    </tr>\n    <tr>\n      <th>3</th>\n      <td>2018-09-20</td>\n      <td>00007d2de826758b65a93dd24ce629ed66842531df6699...</td>\n      <td>685687003</td>\n      <td>0.016932</td>\n      <td>2</td>\n    </tr>\n    <tr>\n      <th>4</th>\n      <td>2018-09-20</td>\n      <td>00007d2de826758b65a93dd24ce629ed66842531df6699...</td>\n      <td>685687004</td>\n      <td>0.016932</td>\n      <td>2</td>\n    </tr>\n    <tr>\n      <th>...</th>\n      <td>...</td>\n      <td>...</td>\n      <td>...</td>\n      <td>...</td>\n      <td>...</td>\n    </tr>\n    <tr>\n      <th>31788319</th>\n      <td>2020-09-22</td>\n      <td>fff2282977442e327b45d8c89afde25617d00124d0f999...</td>\n      <td>929511001</td>\n      <td>0.059305</td>\n      <td>2</td>\n    </tr>\n    <tr>\n      <th>31788320</th>\n      <td>2020-09-22</td>\n      <td>fff2282977442e327b45d8c89afde25617d00124d0f999...</td>\n      <td>891322004</td>\n      <td>0.042356</td>\n      <td>2</td>\n    </tr>\n    <tr>\n      <th>31788321</th>\n      <td>2020-09-22</td>\n      <td>fff380805474b287b05cb2a7507b9a013482f7dd0bce0e...</td>\n      <td>918325001</td>\n      <td>0.043203</td>\n      <td>1</td>\n    </tr>\n    <tr>\n      <th>31788322</th>\n      <td>2020-09-22</td>\n      <td>fff4d3a8b1f3b60af93e78c30a7cb4cf75edaf2590d3e5...</td>\n      <td>833459002</td>\n      <td>0.006763</td>\n      <td>1</td>\n    </tr>\n    <tr>\n      <th>31788323</th>\n      <td>2020-09-22</td>\n      <td>fffef3b6b73545df065b521e19f64bf6fe93bfd450ab20...</td>\n      <td>898573003</td>\n      <td>0.033881</td>\n      <td>2</td>\n    </tr>\n  </tbody>\n</table>\n<p>31788324 rows × 5 columns</p>\n</div>"
     },
     "execution_count": 60,
     "metadata": {},
     "output_type": "execute_result"
    }
   ],
   "source": [
    "df_transactions"
   ],
   "metadata": {
    "collapsed": false,
    "pycharm": {
     "name": "#%%\n"
    }
   }
  },
  {
   "cell_type": "code",
   "execution_count": 69,
   "outputs": [
    {
     "data": {
      "text/plain": "0.007559725388479116"
     },
     "execution_count": 69,
     "metadata": {},
     "output_type": "execute_result"
    }
   ],
   "source": [
    "df_transactions['2020-09-16' <= df_transactions['t_dat']].size / df_transactions.size\n"
   ],
   "metadata": {
    "collapsed": false,
    "pycharm": {
     "name": "#%%\n"
    }
   }
  },
  {
   "cell_type": "code",
   "execution_count": 78,
   "outputs": [
    {
     "data": {
      "text/plain": "0.013320110868380478"
     },
     "execution_count": 78,
     "metadata": {},
     "output_type": "execute_result"
    }
   ],
   "source": [
    "df_transactions[('2019-09-23' <= df_transactions['t_dat']) & (df_transactions['t_dat'] <= '2019-09-29')].size / df_transactions.size"
   ],
   "metadata": {
    "collapsed": false,
    "pycharm": {
     "name": "#%%\n"
    }
   }
  },
  {
   "cell_type": "code",
   "execution_count": 79,
   "outputs": [
    {
     "data": {
      "text/plain": "0.013940841926740145"
     },
     "execution_count": 79,
     "metadata": {},
     "output_type": "execute_result"
    }
   ],
   "source": [
    "df_transactions[('2018-09-23' <= df_transactions['t_dat']) & (df_transactions['t_dat'] <= '2018-09-29')].size / df_transactions.size\n"
   ],
   "metadata": {
    "collapsed": false,
    "pycharm": {
     "name": "#%%\n"
    }
   }
  },
  {
   "cell_type": "code",
   "execution_count": 3,
   "outputs": [
    {
     "data": {
      "text/plain": "               t_dat                                        customer_id  \\\n0         2018-09-20  000058a12d5b43e67d225668fa1f8d618c13dc232df0ca...   \n1         2018-09-20  000058a12d5b43e67d225668fa1f8d618c13dc232df0ca...   \n2         2018-09-20  00007d2de826758b65a93dd24ce629ed66842531df6699...   \n3         2018-09-20  00007d2de826758b65a93dd24ce629ed66842531df6699...   \n4         2018-09-20  00007d2de826758b65a93dd24ce629ed66842531df6699...   \n...              ...                                                ...   \n31788319  2020-09-22  fff2282977442e327b45d8c89afde25617d00124d0f999...   \n31788320  2020-09-22  fff2282977442e327b45d8c89afde25617d00124d0f999...   \n31788321  2020-09-22  fff380805474b287b05cb2a7507b9a013482f7dd0bce0e...   \n31788322  2020-09-22  fff4d3a8b1f3b60af93e78c30a7cb4cf75edaf2590d3e5...   \n31788323  2020-09-22  fffef3b6b73545df065b521e19f64bf6fe93bfd450ab20...   \n\n          article_id     price  sales_channel_id  \n0          663713001  0.050831                 2  \n1          541518023  0.030492                 2  \n2          505221004  0.015237                 2  \n3          685687003  0.016932                 2  \n4          685687004  0.016932                 2  \n...              ...       ...               ...  \n31788319   929511001  0.059305                 2  \n31788320   891322004  0.042356                 2  \n31788321   918325001  0.043203                 1  \n31788322   833459002  0.006763                 1  \n31788323   898573003  0.033881                 2  \n\n[31788324 rows x 5 columns]",
      "text/html": "<div>\n<style scoped>\n    .dataframe tbody tr th:only-of-type {\n        vertical-align: middle;\n    }\n\n    .dataframe tbody tr th {\n        vertical-align: top;\n    }\n\n    .dataframe thead th {\n        text-align: right;\n    }\n</style>\n<table border=\"1\" class=\"dataframe\">\n  <thead>\n    <tr style=\"text-align: right;\">\n      <th></th>\n      <th>t_dat</th>\n      <th>customer_id</th>\n      <th>article_id</th>\n      <th>price</th>\n      <th>sales_channel_id</th>\n    </tr>\n  </thead>\n  <tbody>\n    <tr>\n      <th>0</th>\n      <td>2018-09-20</td>\n      <td>000058a12d5b43e67d225668fa1f8d618c13dc232df0ca...</td>\n      <td>663713001</td>\n      <td>0.050831</td>\n      <td>2</td>\n    </tr>\n    <tr>\n      <th>1</th>\n      <td>2018-09-20</td>\n      <td>000058a12d5b43e67d225668fa1f8d618c13dc232df0ca...</td>\n      <td>541518023</td>\n      <td>0.030492</td>\n      <td>2</td>\n    </tr>\n    <tr>\n      <th>2</th>\n      <td>2018-09-20</td>\n      <td>00007d2de826758b65a93dd24ce629ed66842531df6699...</td>\n      <td>505221004</td>\n      <td>0.015237</td>\n      <td>2</td>\n    </tr>\n    <tr>\n      <th>3</th>\n      <td>2018-09-20</td>\n      <td>00007d2de826758b65a93dd24ce629ed66842531df6699...</td>\n      <td>685687003</td>\n      <td>0.016932</td>\n      <td>2</td>\n    </tr>\n    <tr>\n      <th>4</th>\n      <td>2018-09-20</td>\n      <td>00007d2de826758b65a93dd24ce629ed66842531df6699...</td>\n      <td>685687004</td>\n      <td>0.016932</td>\n      <td>2</td>\n    </tr>\n    <tr>\n      <th>...</th>\n      <td>...</td>\n      <td>...</td>\n      <td>...</td>\n      <td>...</td>\n      <td>...</td>\n    </tr>\n    <tr>\n      <th>31788319</th>\n      <td>2020-09-22</td>\n      <td>fff2282977442e327b45d8c89afde25617d00124d0f999...</td>\n      <td>929511001</td>\n      <td>0.059305</td>\n      <td>2</td>\n    </tr>\n    <tr>\n      <th>31788320</th>\n      <td>2020-09-22</td>\n      <td>fff2282977442e327b45d8c89afde25617d00124d0f999...</td>\n      <td>891322004</td>\n      <td>0.042356</td>\n      <td>2</td>\n    </tr>\n    <tr>\n      <th>31788321</th>\n      <td>2020-09-22</td>\n      <td>fff380805474b287b05cb2a7507b9a013482f7dd0bce0e...</td>\n      <td>918325001</td>\n      <td>0.043203</td>\n      <td>1</td>\n    </tr>\n    <tr>\n      <th>31788322</th>\n      <td>2020-09-22</td>\n      <td>fff4d3a8b1f3b60af93e78c30a7cb4cf75edaf2590d3e5...</td>\n      <td>833459002</td>\n      <td>0.006763</td>\n      <td>1</td>\n    </tr>\n    <tr>\n      <th>31788323</th>\n      <td>2020-09-22</td>\n      <td>fffef3b6b73545df065b521e19f64bf6fe93bfd450ab20...</td>\n      <td>898573003</td>\n      <td>0.033881</td>\n      <td>2</td>\n    </tr>\n  </tbody>\n</table>\n<p>31788324 rows × 5 columns</p>\n</div>"
     },
     "execution_count": 3,
     "metadata": {},
     "output_type": "execute_result"
    }
   ],
   "source": [
    "df_transactions\n"
   ],
   "metadata": {
    "collapsed": false,
    "pycharm": {
     "name": "#%%\n"
    }
   }
  },
  {
   "cell_type": "code",
   "execution_count": 25,
   "outputs": [
    {
     "data": {
      "text/plain": "                                                customer_id  article_id\n16889901  0008804a45e7fbc8653ba8f5ce15880cb966ca220c52d2...   743722002\n16889902  0008804a45e7fbc8653ba8f5ce15880cb966ca220c52d2...   768503001\n16889903  0008804a45e7fbc8653ba8f5ce15880cb966ca220c52d2...   753061003\n16889904  0008804a45e7fbc8653ba8f5ce15880cb966ca220c52d2...   748140001\n16889906  0008804a45e7fbc8653ba8f5ce15880cb966ca220c52d2...   730135004\n...                                                     ...         ...\n17313318  ffeeb69582892b79205ec19f7ac0d9633a04369a4357f9...   762856001\n17313319  ffeeb69582892b79205ec19f7ac0d9633a04369a4357f9...   652956002\n17313320  ffeeb69582892b79205ec19f7ac0d9633a04369a4357f9...   372860001\n17313321  ffeeb69582892b79205ec19f7ac0d9633a04369a4357f9...   695632001\n17313322  fff2c0da0dae66718c16c03b8ba64e7c6bdfb00e87ceaf...   772773002\n\n[371229 rows x 2 columns]",
      "text/html": "<div>\n<style scoped>\n    .dataframe tbody tr th:only-of-type {\n        vertical-align: middle;\n    }\n\n    .dataframe tbody tr th {\n        vertical-align: top;\n    }\n\n    .dataframe thead th {\n        text-align: right;\n    }\n</style>\n<table border=\"1\" class=\"dataframe\">\n  <thead>\n    <tr style=\"text-align: right;\">\n      <th></th>\n      <th>customer_id</th>\n      <th>article_id</th>\n    </tr>\n  </thead>\n  <tbody>\n    <tr>\n      <th>16889901</th>\n      <td>0008804a45e7fbc8653ba8f5ce15880cb966ca220c52d2...</td>\n      <td>743722002</td>\n    </tr>\n    <tr>\n      <th>16889902</th>\n      <td>0008804a45e7fbc8653ba8f5ce15880cb966ca220c52d2...</td>\n      <td>768503001</td>\n    </tr>\n    <tr>\n      <th>16889903</th>\n      <td>0008804a45e7fbc8653ba8f5ce15880cb966ca220c52d2...</td>\n      <td>753061003</td>\n    </tr>\n    <tr>\n      <th>16889904</th>\n      <td>0008804a45e7fbc8653ba8f5ce15880cb966ca220c52d2...</td>\n      <td>748140001</td>\n    </tr>\n    <tr>\n      <th>16889906</th>\n      <td>0008804a45e7fbc8653ba8f5ce15880cb966ca220c52d2...</td>\n      <td>730135004</td>\n    </tr>\n    <tr>\n      <th>...</th>\n      <td>...</td>\n      <td>...</td>\n    </tr>\n    <tr>\n      <th>17313318</th>\n      <td>ffeeb69582892b79205ec19f7ac0d9633a04369a4357f9...</td>\n      <td>762856001</td>\n    </tr>\n    <tr>\n      <th>17313319</th>\n      <td>ffeeb69582892b79205ec19f7ac0d9633a04369a4357f9...</td>\n      <td>652956002</td>\n    </tr>\n    <tr>\n      <th>17313320</th>\n      <td>ffeeb69582892b79205ec19f7ac0d9633a04369a4357f9...</td>\n      <td>372860001</td>\n    </tr>\n    <tr>\n      <th>17313321</th>\n      <td>ffeeb69582892b79205ec19f7ac0d9633a04369a4357f9...</td>\n      <td>695632001</td>\n    </tr>\n    <tr>\n      <th>17313322</th>\n      <td>fff2c0da0dae66718c16c03b8ba64e7c6bdfb00e87ceaf...</td>\n      <td>772773002</td>\n    </tr>\n  </tbody>\n</table>\n<p>371229 rows × 2 columns</p>\n</div>"
     },
     "execution_count": 25,
     "metadata": {},
     "output_type": "execute_result"
    }
   ],
   "source": [
    "df_transactions[('2019-09-23' <= df_transactions['t_dat']) & (df_transactions['t_dat'] < '2019-09-30')].drop(columns='t_dat').drop(columns='price').drop(columns='sales_channel_id').drop_duplicates()"
   ],
   "metadata": {
    "collapsed": false,
    "pycharm": {
     "name": "#%%\n"
    }
   }
  },
  {
   "cell_type": "code",
   "execution_count": 26,
   "outputs": [
    {
     "name": "stdout",
     "output_type": "stream",
     "text": [
      "Preprocessing dataframe...\n",
      "Processing interval 1...\n",
      "Processing interval 1...\n",
      "                                                     UserID     ItemID  Data  \\\n",
      "12325430  0000d6c053fc8f9389d4565051f12402d5774aa4a9d2e5...  758064002   1.0   \n",
      "12325431  0000d6c053fc8f9389d4565051f12402d5774aa4a9d2e5...  566140001   1.0   \n",
      "12325432  000172a9c322560c849754ffbdfdb2180d408aa7176b94...  670942008   1.0   \n",
      "12325433  000172a9c322560c849754ffbdfdb2180d408aa7176b94...  380609037   1.0   \n",
      "12325434  000172a9c322560c849754ffbdfdb2180d408aa7176b94...  554811021   1.0   \n",
      "\n",
      "              t_dat  \n",
      "12325430 2019-06-22  \n",
      "12325431 2019-06-22  \n",
      "12325432 2019-06-22  \n",
      "12325433 2019-06-22  \n",
      "12325434 2019-06-22  \n",
      "                                                     UserID     ItemID  Data  \\\n",
      "16889901  0008804a45e7fbc8653ba8f5ce15880cb966ca220c52d2...  743722002   1.0   \n",
      "16889902  0008804a45e7fbc8653ba8f5ce15880cb966ca220c52d2...  768503001   1.0   \n",
      "16889903  0008804a45e7fbc8653ba8f5ce15880cb966ca220c52d2...  753061003   1.0   \n",
      "16889904  0008804a45e7fbc8653ba8f5ce15880cb966ca220c52d2...  748140001   1.0   \n",
      "16889905  0008804a45e7fbc8653ba8f5ce15880cb966ca220c52d2...  748140001   1.0   \n",
      "\n",
      "              t_dat  \n",
      "16889901 2019-09-23  \n",
      "16889902 2019-09-23  \n",
      "16889903 2019-09-23  \n",
      "16889904 2019-09-23  \n",
      "16889905 2019-09-23  \n"
     ]
    }
   ],
   "source": [
    "manager = DatasetMapperManager()\n",
    "timestamp_list_train = [(\"2019-06-22\", \"2019-09-23\")]\n",
    "timestamp_list_validation = [(\"2019-09-23\", \"2019-09-30\")]\n",
    "\n",
    "split_train_validation_multiple_intervals_Explicit_By_Repeat_Purchase(manager,df_transactions,timestamp_list_train,timestamp_list_validation)\n",
    "# split_train_validation_multiple_intervals(manager,df_transactions,timestamp_list_train,timestamp_list_validation)"
   ],
   "metadata": {
    "collapsed": false,
    "pycharm": {
     "name": "#%%\n"
    }
   }
  },
  {
   "cell_type": "code",
   "execution_count": 27,
   "outputs": [
    {
     "data": {
      "text/plain": "{'URM_train':                                                      UserID     ItemID  Data\n 12325430  0000d6c053fc8f9389d4565051f12402d5774aa4a9d2e5...  758064002   1.0\n 12325431  0000d6c053fc8f9389d4565051f12402d5774aa4a9d2e5...  566140001   1.0\n 12325432  000172a9c322560c849754ffbdfdb2180d408aa7176b94...  670942008   1.0\n 12325433  000172a9c322560c849754ffbdfdb2180d408aa7176b94...  380609037   1.0\n 12325434  000172a9c322560c849754ffbdfdb2180d408aa7176b94...  554811021   1.0\n ...                                                     ...        ...   ...\n 16889895  ffe8f09992a6e188390e34872208dd23ebb6425957cc64...  772829002   1.0\n 16889896  fff88e9edfb6987b82fad36c1270082bc101be633efd0a...  817869001   1.0\n 16889897  fff88e9edfb6987b82fad36c1270082bc101be633efd0a...  652730010   1.0\n 16889898  fffbe76d05cba1b9bdf14bf67e58e7b73d4c2e3418f13c...  715624036   1.0\n 16889899  fffbe76d05cba1b9bdf14bf67e58e7b73d4c2e3418f13c...  456163051   1.0\n \n [3971423 rows x 3 columns],\n 'URM_validation':                                                      UserID     ItemID  Data\n 16889901  0008804a45e7fbc8653ba8f5ce15880cb966ca220c52d2...  743722002   1.0\n 16889902  0008804a45e7fbc8653ba8f5ce15880cb966ca220c52d2...  768503001   1.0\n 16889903  0008804a45e7fbc8653ba8f5ce15880cb966ca220c52d2...  753061003   1.0\n 16889904  0008804a45e7fbc8653ba8f5ce15880cb966ca220c52d2...  748140001   1.0\n 16889906  0008804a45e7fbc8653ba8f5ce15880cb966ca220c52d2...  730135004   1.0\n ...                                                     ...        ...   ...\n 17313318  ffeeb69582892b79205ec19f7ac0d9633a04369a4357f9...  762856001   1.0\n 17313319  ffeeb69582892b79205ec19f7ac0d9633a04369a4357f9...  652956002   1.0\n 17313320  ffeeb69582892b79205ec19f7ac0d9633a04369a4357f9...  372860001   1.0\n 17313321  ffeeb69582892b79205ec19f7ac0d9633a04369a4357f9...  695632001   1.0\n 17313322  fff2c0da0dae66718c16c03b8ba64e7c6bdfb00e87ceaf...  772773002   1.0\n \n [371229 rows x 3 columns]}"
     },
     "execution_count": 27,
     "metadata": {},
     "output_type": "execute_result"
    }
   ],
   "source": [
    "manager.URM_DICT"
   ],
   "metadata": {
    "collapsed": false,
    "pycharm": {
     "name": "#%%\n"
    }
   }
  },
  {
   "cell_type": "code",
   "execution_count": 9,
   "outputs": [
    {
     "data": {
      "text/plain": "                                                     UserID     ItemID  Data\n12325430  0000d6c053fc8f9389d4565051f12402d5774aa4a9d2e5...  758064002   1.0\n12325431  0000d6c053fc8f9389d4565051f12402d5774aa4a9d2e5...  566140001   1.0\n12325432  000172a9c322560c849754ffbdfdb2180d408aa7176b94...  670942008   1.0\n12325433  000172a9c322560c849754ffbdfdb2180d408aa7176b94...  380609037   1.0\n12325434  000172a9c322560c849754ffbdfdb2180d408aa7176b94...  554811021   1.0\n...                                                     ...        ...   ...\n16855945  ffb8b05931ec151d65371d36d350032b106cf89d3fbaa9...  823941001   1.0\n16855946  ffbb36b9565695cea67d8cd4d670340096f087b0035406...  752002001   1.0\n16855947  ffbb36b9565695cea67d8cd4d670340096f087b0035406...  733027010   1.0\n16855948  ffbb36b9565695cea67d8cd4d670340096f087b0035406...  801076003   1.0\n16855949  ffbb36b9565695cea67d8cd4d670340096f087b0035406...  777036001   1.0\n\n[3941997 rows x 3 columns]",
      "text/html": "<div>\n<style scoped>\n    .dataframe tbody tr th:only-of-type {\n        vertical-align: middle;\n    }\n\n    .dataframe tbody tr th {\n        vertical-align: top;\n    }\n\n    .dataframe thead th {\n        text-align: right;\n    }\n</style>\n<table border=\"1\" class=\"dataframe\">\n  <thead>\n    <tr style=\"text-align: right;\">\n      <th></th>\n      <th>UserID</th>\n      <th>ItemID</th>\n      <th>Data</th>\n    </tr>\n  </thead>\n  <tbody>\n    <tr>\n      <th>12325430</th>\n      <td>0000d6c053fc8f9389d4565051f12402d5774aa4a9d2e5...</td>\n      <td>758064002</td>\n      <td>1.0</td>\n    </tr>\n    <tr>\n      <th>12325431</th>\n      <td>0000d6c053fc8f9389d4565051f12402d5774aa4a9d2e5...</td>\n      <td>566140001</td>\n      <td>1.0</td>\n    </tr>\n    <tr>\n      <th>12325432</th>\n      <td>000172a9c322560c849754ffbdfdb2180d408aa7176b94...</td>\n      <td>670942008</td>\n      <td>1.0</td>\n    </tr>\n    <tr>\n      <th>12325433</th>\n      <td>000172a9c322560c849754ffbdfdb2180d408aa7176b94...</td>\n      <td>380609037</td>\n      <td>1.0</td>\n    </tr>\n    <tr>\n      <th>12325434</th>\n      <td>000172a9c322560c849754ffbdfdb2180d408aa7176b94...</td>\n      <td>554811021</td>\n      <td>1.0</td>\n    </tr>\n    <tr>\n      <th>...</th>\n      <td>...</td>\n      <td>...</td>\n      <td>...</td>\n    </tr>\n    <tr>\n      <th>16855945</th>\n      <td>ffb8b05931ec151d65371d36d350032b106cf89d3fbaa9...</td>\n      <td>823941001</td>\n      <td>1.0</td>\n    </tr>\n    <tr>\n      <th>16855946</th>\n      <td>ffbb36b9565695cea67d8cd4d670340096f087b0035406...</td>\n      <td>752002001</td>\n      <td>1.0</td>\n    </tr>\n    <tr>\n      <th>16855947</th>\n      <td>ffbb36b9565695cea67d8cd4d670340096f087b0035406...</td>\n      <td>733027010</td>\n      <td>1.0</td>\n    </tr>\n    <tr>\n      <th>16855948</th>\n      <td>ffbb36b9565695cea67d8cd4d670340096f087b0035406...</td>\n      <td>801076003</td>\n      <td>1.0</td>\n    </tr>\n    <tr>\n      <th>16855949</th>\n      <td>ffbb36b9565695cea67d8cd4d670340096f087b0035406...</td>\n      <td>777036001</td>\n      <td>1.0</td>\n    </tr>\n  </tbody>\n</table>\n<p>3941997 rows × 3 columns</p>\n</div>"
     },
     "execution_count": 9,
     "metadata": {},
     "output_type": "execute_result"
    }
   ],
   "source": [
    "manager.URM_DICT.get('URM_train')\n"
   ],
   "metadata": {
    "collapsed": false,
    "pycharm": {
     "name": "#%%\n"
    }
   }
  },
  {
   "cell_type": "code",
   "execution_count": 10,
   "outputs": [
    {
     "data": {
      "text/plain": "                                                     UserID     ItemID  Data\n16889901  0008804a45e7fbc8653ba8f5ce15880cb966ca220c52d2...  743722002   1.0\n16889902  0008804a45e7fbc8653ba8f5ce15880cb966ca220c52d2...  768503001   1.0\n16889903  0008804a45e7fbc8653ba8f5ce15880cb966ca220c52d2...  753061003   1.0\n16889904  0008804a45e7fbc8653ba8f5ce15880cb966ca220c52d2...  748140001   1.0\n16889906  0008804a45e7fbc8653ba8f5ce15880cb966ca220c52d2...  730135004   1.0\n...                                                     ...        ...   ...\n17273272  fffd70b14382482cf3d10def86df367b2b6e0af711dede...  693243019   1.0\n17273275  fffd70b14382482cf3d10def86df367b2b6e0af711dede...  674606045   1.0\n17273278  fffd70b14382482cf3d10def86df367b2b6e0af711dede...  775996010   1.0\n17273279  fffec3dbcc87c78300f37f62cfca4274f1ea6ef59dba10...  796240001   1.0\n17273280  fffec3dbcc87c78300f37f62cfca4274f1ea6ef59dba10...  833981001   1.0\n\n[335702 rows x 3 columns]",
      "text/html": "<div>\n<style scoped>\n    .dataframe tbody tr th:only-of-type {\n        vertical-align: middle;\n    }\n\n    .dataframe tbody tr th {\n        vertical-align: top;\n    }\n\n    .dataframe thead th {\n        text-align: right;\n    }\n</style>\n<table border=\"1\" class=\"dataframe\">\n  <thead>\n    <tr style=\"text-align: right;\">\n      <th></th>\n      <th>UserID</th>\n      <th>ItemID</th>\n      <th>Data</th>\n    </tr>\n  </thead>\n  <tbody>\n    <tr>\n      <th>16889901</th>\n      <td>0008804a45e7fbc8653ba8f5ce15880cb966ca220c52d2...</td>\n      <td>743722002</td>\n      <td>1.0</td>\n    </tr>\n    <tr>\n      <th>16889902</th>\n      <td>0008804a45e7fbc8653ba8f5ce15880cb966ca220c52d2...</td>\n      <td>768503001</td>\n      <td>1.0</td>\n    </tr>\n    <tr>\n      <th>16889903</th>\n      <td>0008804a45e7fbc8653ba8f5ce15880cb966ca220c52d2...</td>\n      <td>753061003</td>\n      <td>1.0</td>\n    </tr>\n    <tr>\n      <th>16889904</th>\n      <td>0008804a45e7fbc8653ba8f5ce15880cb966ca220c52d2...</td>\n      <td>748140001</td>\n      <td>1.0</td>\n    </tr>\n    <tr>\n      <th>16889906</th>\n      <td>0008804a45e7fbc8653ba8f5ce15880cb966ca220c52d2...</td>\n      <td>730135004</td>\n      <td>1.0</td>\n    </tr>\n    <tr>\n      <th>...</th>\n      <td>...</td>\n      <td>...</td>\n      <td>...</td>\n    </tr>\n    <tr>\n      <th>17273272</th>\n      <td>fffd70b14382482cf3d10def86df367b2b6e0af711dede...</td>\n      <td>693243019</td>\n      <td>1.0</td>\n    </tr>\n    <tr>\n      <th>17273275</th>\n      <td>fffd70b14382482cf3d10def86df367b2b6e0af711dede...</td>\n      <td>674606045</td>\n      <td>1.0</td>\n    </tr>\n    <tr>\n      <th>17273278</th>\n      <td>fffd70b14382482cf3d10def86df367b2b6e0af711dede...</td>\n      <td>775996010</td>\n      <td>1.0</td>\n    </tr>\n    <tr>\n      <th>17273279</th>\n      <td>fffec3dbcc87c78300f37f62cfca4274f1ea6ef59dba10...</td>\n      <td>796240001</td>\n      <td>1.0</td>\n    </tr>\n    <tr>\n      <th>17273280</th>\n      <td>fffec3dbcc87c78300f37f62cfca4274f1ea6ef59dba10...</td>\n      <td>833981001</td>\n      <td>1.0</td>\n    </tr>\n  </tbody>\n</table>\n<p>335702 rows × 3 columns</p>\n</div>"
     },
     "execution_count": 10,
     "metadata": {},
     "output_type": "execute_result"
    }
   ],
   "source": [
    "manager.URM_DICT.get('URM_validation')"
   ],
   "metadata": {
    "collapsed": false,
    "pycharm": {
     "name": "#%%\n"
    }
   }
  },
  {
   "cell_type": "code",
   "execution_count": 32,
   "outputs": [
    {
     "name": "stdout",
     "output_type": "stream",
     "text": [
      "Creating ICM for column product_type_name\n",
      "Creating ICM for column product_type_no\n",
      "Creating ICM for column product_group_name\n",
      "Creating ICM for column graphical_appearance_name\n",
      "Creating ICM for column colour_group_name\n"
     ]
    }
   ],
   "source": [
    "manager = DatasetMapperManager()\n",
    "gen_ICM_list(manager, df_articles)"
   ],
   "metadata": {
    "collapsed": false,
    "pycharm": {
     "name": "#%%\n"
    }
   }
  },
  {
   "cell_type": "code",
   "execution_count": 35,
   "outputs": [
    {
     "data": {
      "text/plain": "{'ICM_product_type_name':            ItemID  FeatureID  Data\n 0       108775015   Vest top   1.0\n 1       108775044   Vest top   1.0\n 2       108775051   Vest top   1.0\n 3       110065001        Bra   1.0\n 4       110065002        Bra   1.0\n ...           ...        ...   ...\n 105537  953450001      Socks   1.0\n 105538  953763001   Vest top   1.0\n 105539  956217002      Dress   1.0\n 105540  957375001  Hair clip   1.0\n 105541  959461001      Dress   1.0\n \n [105542 rows x 3 columns],\n 'ICM_product_type_no':            ItemID FeatureID  Data\n 0       108775015       253   1.0\n 1       108775044       253   1.0\n 2       108775051       253   1.0\n 3       110065001       306   1.0\n 4       110065002       306   1.0\n ...           ...       ...   ...\n 105537  953450001       302   1.0\n 105538  953763001       253   1.0\n 105539  956217002       265   1.0\n 105540  957375001        72   1.0\n 105541  959461001       265   1.0\n \n [105542 rows x 3 columns],\n 'ICM_product_group_name':            ItemID           FeatureID  Data\n 0       108775015  Garment Upper body   1.0\n 1       108775044  Garment Upper body   1.0\n 2       108775051  Garment Upper body   1.0\n 3       110065001           Underwear   1.0\n 4       110065002           Underwear   1.0\n ...           ...                 ...   ...\n 105537  953450001      Socks & Tights   1.0\n 105538  953763001  Garment Upper body   1.0\n 105539  956217002   Garment Full body   1.0\n 105540  957375001         Accessories   1.0\n 105541  959461001   Garment Full body   1.0\n \n [105542 rows x 3 columns],\n 'ICM_graphical_appearance_name':            ItemID        FeatureID  Data\n 0       108775015            Solid   1.0\n 1       108775044            Solid   1.0\n 2       108775051           Stripe   1.0\n 3       110065001            Solid   1.0\n 4       110065002            Solid   1.0\n ...           ...              ...   ...\n 105537  953450001  Placement print   1.0\n 105538  953763001            Solid   1.0\n 105539  956217002            Solid   1.0\n 105540  957375001            Solid   1.0\n 105541  959461001            Solid   1.0\n \n [105542 rows x 3 columns],\n 'ICM_colour_group_name':            ItemID  FeatureID  Data\n 0       108775015      Black   1.0\n 1       108775044      White   1.0\n 2       108775051  Off White   1.0\n 3       110065001      Black   1.0\n 4       110065002      White   1.0\n ...           ...        ...   ...\n 105537  953450001      Black   1.0\n 105538  953763001      Black   1.0\n 105539  956217002      Black   1.0\n 105540  957375001      Black   1.0\n 105541  959461001  Off White   1.0\n \n [105542 rows x 3 columns]}"
     },
     "execution_count": 35,
     "metadata": {},
     "output_type": "execute_result"
    }
   ],
   "source": [
    "manager.ICM_DICT\n"
   ],
   "metadata": {
    "collapsed": false,
    "pycharm": {
     "name": "#%%\n"
    }
   }
  },
  {
   "cell_type": "code",
   "execution_count": 43,
   "outputs": [
    {
     "data": {
      "text/plain": "131"
     },
     "execution_count": 43,
     "metadata": {},
     "output_type": "execute_result"
    }
   ],
   "source": [
    "manager.ICM_DICT.get(\"ICM_product_type_name\")['FeatureID'].nunique()"
   ],
   "metadata": {
    "collapsed": false,
    "pycharm": {
     "name": "#%%\n"
    }
   }
  },
  {
   "cell_type": "code",
   "execution_count": 56,
   "outputs": [
    {
     "data": {
      "text/plain": "article_id                      105542\nproduct_code                     47224\nprod_name                        45875\nproduct_type_no                    132\nproduct_type_name                  131\nproduct_group_name                  19\ngraphical_appearance_no             30\ngraphical_appearance_name           30\ncolour_group_code                   50\ncolour_group_name                   50\nperceived_colour_value_id            8\nperceived_colour_value_name          8\nperceived_colour_master_id          20\nperceived_colour_master_name        20\ndepartment_no                      299\ndepartment_name                    250\nindex_code                          10\nindex_name                          10\nindex_group_no                       5\nindex_group_name                     5\nsection_no                          57\nsection_name                        56\ngarment_group_no                    21\ngarment_group_name                  21\ndetail_desc                      43404\ndtype: int64"
     },
     "execution_count": 56,
     "metadata": {},
     "output_type": "execute_result"
    }
   ],
   "source": [
    "df_articles.nunique()"
   ],
   "metadata": {
    "collapsed": false,
    "pycharm": {
     "name": "#%%\n"
    }
   }
  },
  {
   "cell_type": "code",
   "execution_count": 55,
   "outputs": [
    {
     "name": "stdout",
     "output_type": "stream",
     "text": [
      "article_id\n",
      "product_code\n",
      "prod_name\n",
      "product_type_no\n",
      "product_type_name\n",
      "product_group_name\n",
      "graphical_appearance_no\n",
      "graphical_appearance_name\n",
      "colour_group_code\n",
      "colour_group_name\n",
      "perceived_colour_value_id\n",
      "perceived_colour_value_name\n",
      "perceived_colour_master_id\n",
      "perceived_colour_master_name\n",
      "department_no\n",
      "department_name\n",
      "index_code\n",
      "index_name\n",
      "index_group_no\n",
      "index_group_name\n",
      "section_no\n",
      "section_name\n",
      "garment_group_no\n",
      "garment_group_name\n",
      "detail_desc\n"
     ]
    }
   ],
   "source": [
    "for colum in df_articles.columns:\n",
    "    print(colum)\n"
   ],
   "metadata": {
    "collapsed": false,
    "pycharm": {
     "name": "#%%\n"
    }
   }
  },
  {
   "cell_type": "code",
   "execution_count": 2,
   "outputs": [],
   "source": [
    "dataset_dict={\"articles\":\"processed_articles.csv\",\"customers\":\"processed_customers.csv\",\"transactions\":\"processed_transactions_train.csv\"}\n",
    "\n",
    "path = '../dataset'\n",
    "\n",
    "df_articles_processed=pd.read_csv(os.path.join(path,dataset_dict[\"articles\"]))\n",
    "df_customers_processed=pd.read_csv(os.path.join(path,dataset_dict[\"customers\"]))\n",
    "df_transactions_processed=pd.read_csv(os.path.join(path,dataset_dict[\"transactions\"]))\n"
   ],
   "metadata": {
    "collapsed": false,
    "pycharm": {
     "name": "#%%\n"
    }
   }
  },
  {
   "cell_type": "code",
   "execution_count": null,
   "outputs": [],
   "source": [],
   "metadata": {
    "collapsed": false,
    "pycharm": {
     "name": "#%%\n"
    }
   }
  },
  {
   "cell_type": "code",
   "execution_count": 60,
   "outputs": [
    {
     "data": {
      "text/plain": "Index(['Unnamed: 0', 'article_id', 'product_code', 'product_type_no',\n       'graphical_appearance_no', 'colour_group_code',\n       'perceived_colour_value_id', 'perceived_colour_master_id',\n       'department_no', 'index_code', 'index_group_no', 'section_no',\n       'garment_group_no', 'cleaned_prod_name', 'cleaned_product_type_name',\n       'cleaned_product_group_name', 'cleaned_graphical_appearance_name',\n       'cleaned_colour_group_name', 'cleaned_perceived_colour_value_name',\n       'cleaned_perceived_colour_master_name', 'cleaned_department_name',\n       'cleaned_index_name', 'cleaned_index_group_name',\n       'cleaned_section_name', 'cleaned_garment_group_name',\n       'cleaned_detail_desc', 'out_of_stock', 'on_discount',\n       'sale_periods_months', 'transaction_peak_year_month'],\n      dtype='object')"
     },
     "execution_count": 60,
     "metadata": {},
     "output_type": "execute_result"
    }
   ],
   "source": [
    "df_articles_processed.columns\n"
   ],
   "metadata": {
    "collapsed": false,
    "pycharm": {
     "name": "#%%\n"
    }
   }
  },
  {
   "cell_type": "code",
   "execution_count": 62,
   "outputs": [
    {
     "data": {
      "text/plain": "Unnamed: 0                              105542\narticle_id                              105542\nproduct_code                             47224\nproduct_type_no                            132\ngraphical_appearance_no                     30\ncolour_group_code                           50\nperceived_colour_value_id                    8\nperceived_colour_master_id                  20\ndepartment_no                              299\nindex_code                                  10\nindex_group_no                               5\nsection_no                                  57\ngarment_group_no                            21\ncleaned_prod_name                        42819\ncleaned_product_type_name                  128\ncleaned_product_group_name                  19\ncleaned_graphical_appearance_name           29\ncleaned_colour_group_name                   40\ncleaned_perceived_colour_value_name          8\ncleaned_perceived_colour_master_name        20\ncleaned_department_name                    239\ncleaned_index_name                          10\ncleaned_index_group_name                     5\ncleaned_section_name                        56\ncleaned_garment_group_name                  21\ncleaned_detail_desc                      42832\nout_of_stock                                 2\non_discount                                  2\nsale_periods_months                         26\ntransaction_peak_year_month                 25\ndtype: int64"
     },
     "execution_count": 62,
     "metadata": {},
     "output_type": "execute_result"
    }
   ],
   "source": [
    "df_articles_processed.nunique()\n"
   ],
   "metadata": {
    "collapsed": false,
    "pycharm": {
     "name": "#%%\n"
    }
   }
  },
  {
   "cell_type": "code",
   "execution_count": 1,
   "outputs": [
    {
     "ename": "NameError",
     "evalue": "name 'HMDatasetReader' is not defined",
     "output_type": "error",
     "traceback": [
      "\u001B[0;31m---------------------------------------------------------------------------\u001B[0m",
      "\u001B[0;31mNameError\u001B[0m                                 Traceback (most recent call last)",
      "Input \u001B[0;32mIn [1]\u001B[0m, in \u001B[0;36m<cell line: 2>\u001B[0;34m()\u001B[0m\n\u001B[1;32m      1\u001B[0m dataset_name \u001B[38;5;241m=\u001B[39m \u001B[38;5;124m\"\u001B[39m\u001B[38;5;124mhm\u001B[39m\u001B[38;5;124m\"\u001B[39m\n\u001B[0;32m----> 2\u001B[0m reader \u001B[38;5;241m=\u001B[39m \u001B[43mHMDatasetReader\u001B[49m()\n\u001B[1;32m      4\u001B[0m load_dotenv()\n\u001B[1;32m      5\u001B[0m PROCESSED_PATH \u001B[38;5;241m=\u001B[39m os\u001B[38;5;241m.\u001B[39mgetenv(\u001B[38;5;124m'\u001B[39m\u001B[38;5;124mPROCESSED_PATH\u001B[39m\u001B[38;5;124m'\u001B[39m)\n",
      "\u001B[0;31mNameError\u001B[0m: name 'HMDatasetReader' is not defined"
     ]
    }
   ],
   "source": [
    "dataset_name = \"hm\"\n",
    "reader = HMDatasetReader()\n",
    "\n",
    "load_dotenv()\n",
    "PROCESSED_PATH = os.getenv('PROCESSED_PATH')\n",
    "\n",
    "print('{}/{}/'.format(PROCESSED_PATH, dataset_name))\n",
    "dataset = reader.load_data('{}/{}/'.format(PROCESSED_PATH, dataset_name))"
   ],
   "metadata": {
    "collapsed": false,
    "pycharm": {
     "name": "#%%\n"
    }
   }
  },
  {
   "cell_type": "code",
   "execution_count": null,
   "outputs": [],
   "source": [
    "dataset.get_loaded_ICM_dict().items()\n"
   ],
   "metadata": {
    "collapsed": false,
    "pycharm": {
     "name": "#%%\n"
    }
   }
  },
  {
   "cell_type": "code",
   "execution_count": null,
   "outputs": [],
   "source": [],
   "metadata": {
    "collapsed": false,
    "pycharm": {
     "name": "#%%\n"
    }
   }
  }
 ],
 "metadata": {
  "kernelspec": {
   "display_name": "Python 3",
   "language": "python",
   "name": "python3"
  },
  "language_info": {
   "codemirror_mode": {
    "name": "ipython",
    "version": 2
   },
   "file_extension": ".py",
   "mimetype": "text/x-python",
   "name": "python",
   "nbconvert_exporter": "python",
   "pygments_lexer": "ipython2",
   "version": "2.7.6"
  }
 },
 "nbformat": 4,
 "nbformat_minor": 0
}