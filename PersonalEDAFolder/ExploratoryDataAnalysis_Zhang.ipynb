{
 "cells": [
  {
   "cell_type": "code",
   "execution_count": 131,
   "metadata": {
    "collapsed": true
   },
   "outputs": [
    {
     "name": "stdout",
     "output_type": "stream",
     "text": [
      "pandas version: 1.2.4\n",
      "numpy version: 1.20.1\n",
      "seaborn version: 0.11.2\n"
     ]
    }
   ],
   "source": [
    "import os\n",
    "\n",
    "import scipy.stats as ss\n",
    "from sklearn.preprocessing import MinMaxScaler, StandardScaler\n",
    "import category_encoders as ce\n",
    "import pickle\n",
    "\n",
    "\n",
    "import numpy as np # linear algebra\n",
    "import pandas as pd # data processing, CSV file I/O (e.g. pd.read_csv)\n",
    "import seaborn as sns # nice visualisations\n",
    "import matplotlib.pyplot as plt # basic visualisation library\n",
    "import datetime as dt # library to opearate on dates\n",
    "\n",
    "print(\"pandas version: {}\".format(pd.__version__))\n",
    "print(\"numpy version: {}\".format(np.__version__))\n",
    "print(\"seaborn version: {}\".format(sns.__version__))\n",
    "\n",
    "\n",
    "from tqdm import tqdm\n",
    "\n",
    "import warnings\n",
    "warnings.filterwarnings('ignore')\n"
   ]
  },
  {
   "cell_type": "code",
   "execution_count": 285,
   "outputs": [],
   "source": [
    "dataset_dict={\"articles\":\"articles.csv\",\"customers\":\"customers.csv\",\"transactions\":\"transactions_train.csv\"}\n",
    "\n",
    "path = '../SourcesData'\n",
    "\n",
    "df_articles=pd.read_csv(os.path.join(path,dataset_dict[\"articles\"]))\n",
    "df_customers=pd.read_csv(os.path.join(path,dataset_dict[\"customers\"]))\n",
    "df_transactions=pd.read_csv(os.path.join(path,dataset_dict[\"transactions\"]))"
   ],
   "metadata": {
    "collapsed": false,
    "pycharm": {
     "name": "#%%\n"
    }
   }
  },
  {
   "cell_type": "code",
   "execution_count": 286,
   "outputs": [
    {
     "data": {
      "text/plain": "((105542, 25), (1371980, 7), (31788324, 5))"
     },
     "execution_count": 286,
     "metadata": {},
     "output_type": "execute_result"
    }
   ],
   "source": [
    "df_articles.shape,df_customers.shape,df_transactions.shape"
   ],
   "metadata": {
    "collapsed": false,
    "pycharm": {
     "name": "#%%\n"
    }
   }
  },
  {
   "cell_type": "code",
   "execution_count": 134,
   "outputs": [
    {
     "data": {
      "text/plain": "        article_id  product_code               prod_name  product_type_no  \\\n0        108775015        108775               Strap top              253   \n1        108775044        108775               Strap top              253   \n2        108775051        108775           Strap top (1)              253   \n3        110065001        110065       OP T-shirt (Idro)              306   \n4        110065002        110065       OP T-shirt (Idro)              306   \n...            ...           ...                     ...              ...   \n105537   953450001        953450  5pk regular Placement1              302   \n105538   953763001        953763       SPORT Malaga tank              253   \n105539   956217002        956217         Cartwheel dress              265   \n105540   957375001        957375        CLAIRE HAIR CLAW               72   \n105541   959461001        959461            Lounge dress              265   \n\n       product_type_name  product_group_name  graphical_appearance_no  \\\n0               Vest top  Garment Upper body                  1010016   \n1               Vest top  Garment Upper body                  1010016   \n2               Vest top  Garment Upper body                  1010017   \n3                    Bra           Underwear                  1010016   \n4                    Bra           Underwear                  1010016   \n...                  ...                 ...                      ...   \n105537             Socks      Socks & Tights                  1010014   \n105538          Vest top  Garment Upper body                  1010016   \n105539             Dress   Garment Full body                  1010016   \n105540         Hair clip         Accessories                  1010016   \n105541             Dress   Garment Full body                  1010016   \n\n       graphical_appearance_name  colour_group_code colour_group_name  ...  \\\n0                          Solid                  9             Black  ...   \n1                          Solid                 10             White  ...   \n2                         Stripe                 11         Off White  ...   \n3                          Solid                  9             Black  ...   \n4                          Solid                 10             White  ...   \n...                          ...                ...               ...  ...   \n105537           Placement print                  9             Black  ...   \n105538                     Solid                  9             Black  ...   \n105539                     Solid                  9             Black  ...   \n105540                     Solid                  9             Black  ...   \n105541                     Solid                 11         Off White  ...   \n\n          department_name index_code        index_name index_group_no  \\\n0            Jersey Basic          A        Ladieswear              1   \n1            Jersey Basic          A        Ladieswear              1   \n2            Jersey Basic          A        Ladieswear              1   \n3          Clean Lingerie          B  Lingeries/Tights              1   \n4          Clean Lingerie          B  Lingeries/Tights              1   \n...                   ...        ...               ...            ...   \n105537          Socks Bin          F          Menswear              3   \n105538             Jersey          A        Ladieswear              1   \n105539             Jersey          A        Ladieswear              1   \n105540  Small Accessories          D           Divided              2   \n105541             Jersey          A        Ladieswear              1   \n\n        index_group_name section_no            section_name garment_group_no  \\\n0             Ladieswear         16  Womens Everyday Basics             1002   \n1             Ladieswear         16  Womens Everyday Basics             1002   \n2             Ladieswear         16  Womens Everyday Basics             1002   \n3             Ladieswear         61         Womens Lingerie             1017   \n4             Ladieswear         61         Womens Lingerie             1017   \n...                  ...        ...                     ...              ...   \n105537          Menswear         26           Men Underwear             1021   \n105538        Ladieswear          2                    H&M+             1005   \n105539        Ladieswear         18            Womens Trend             1005   \n105540           Divided         52     Divided Accessories             1019   \n105541        Ladieswear         18            Womens Trend             1005   \n\n        garment_group_name                                        detail_desc  \n0             Jersey Basic            Jersey top with narrow shoulder straps.  \n1             Jersey Basic            Jersey top with narrow shoulder straps.  \n2             Jersey Basic            Jersey top with narrow shoulder straps.  \n3        Under-, Nightwear  Microfibre T-shirt bra with underwired, moulde...  \n4        Under-, Nightwear  Microfibre T-shirt bra with underwired, moulde...  \n...                    ...                                                ...  \n105537    Socks and Tights  Socks in a fine-knit cotton blend with a small...  \n105538        Jersey Fancy  Loose-fitting sports vest top in ribbed fast-d...  \n105539        Jersey Fancy  Short, A-line dress in jersey with a round nec...  \n105540         Accessories                           Large plastic hair claw.  \n105541        Jersey Fancy  Calf-length dress in ribbed jersey made from a...  \n\n[105542 rows x 25 columns]",
      "text/html": "<div>\n<style scoped>\n    .dataframe tbody tr th:only-of-type {\n        vertical-align: middle;\n    }\n\n    .dataframe tbody tr th {\n        vertical-align: top;\n    }\n\n    .dataframe thead th {\n        text-align: right;\n    }\n</style>\n<table border=\"1\" class=\"dataframe\">\n  <thead>\n    <tr style=\"text-align: right;\">\n      <th></th>\n      <th>article_id</th>\n      <th>product_code</th>\n      <th>prod_name</th>\n      <th>product_type_no</th>\n      <th>product_type_name</th>\n      <th>product_group_name</th>\n      <th>graphical_appearance_no</th>\n      <th>graphical_appearance_name</th>\n      <th>colour_group_code</th>\n      <th>colour_group_name</th>\n      <th>...</th>\n      <th>department_name</th>\n      <th>index_code</th>\n      <th>index_name</th>\n      <th>index_group_no</th>\n      <th>index_group_name</th>\n      <th>section_no</th>\n      <th>section_name</th>\n      <th>garment_group_no</th>\n      <th>garment_group_name</th>\n      <th>detail_desc</th>\n    </tr>\n  </thead>\n  <tbody>\n    <tr>\n      <th>0</th>\n      <td>108775015</td>\n      <td>108775</td>\n      <td>Strap top</td>\n      <td>253</td>\n      <td>Vest top</td>\n      <td>Garment Upper body</td>\n      <td>1010016</td>\n      <td>Solid</td>\n      <td>9</td>\n      <td>Black</td>\n      <td>...</td>\n      <td>Jersey Basic</td>\n      <td>A</td>\n      <td>Ladieswear</td>\n      <td>1</td>\n      <td>Ladieswear</td>\n      <td>16</td>\n      <td>Womens Everyday Basics</td>\n      <td>1002</td>\n      <td>Jersey Basic</td>\n      <td>Jersey top with narrow shoulder straps.</td>\n    </tr>\n    <tr>\n      <th>1</th>\n      <td>108775044</td>\n      <td>108775</td>\n      <td>Strap top</td>\n      <td>253</td>\n      <td>Vest top</td>\n      <td>Garment Upper body</td>\n      <td>1010016</td>\n      <td>Solid</td>\n      <td>10</td>\n      <td>White</td>\n      <td>...</td>\n      <td>Jersey Basic</td>\n      <td>A</td>\n      <td>Ladieswear</td>\n      <td>1</td>\n      <td>Ladieswear</td>\n      <td>16</td>\n      <td>Womens Everyday Basics</td>\n      <td>1002</td>\n      <td>Jersey Basic</td>\n      <td>Jersey top with narrow shoulder straps.</td>\n    </tr>\n    <tr>\n      <th>2</th>\n      <td>108775051</td>\n      <td>108775</td>\n      <td>Strap top (1)</td>\n      <td>253</td>\n      <td>Vest top</td>\n      <td>Garment Upper body</td>\n      <td>1010017</td>\n      <td>Stripe</td>\n      <td>11</td>\n      <td>Off White</td>\n      <td>...</td>\n      <td>Jersey Basic</td>\n      <td>A</td>\n      <td>Ladieswear</td>\n      <td>1</td>\n      <td>Ladieswear</td>\n      <td>16</td>\n      <td>Womens Everyday Basics</td>\n      <td>1002</td>\n      <td>Jersey Basic</td>\n      <td>Jersey top with narrow shoulder straps.</td>\n    </tr>\n    <tr>\n      <th>3</th>\n      <td>110065001</td>\n      <td>110065</td>\n      <td>OP T-shirt (Idro)</td>\n      <td>306</td>\n      <td>Bra</td>\n      <td>Underwear</td>\n      <td>1010016</td>\n      <td>Solid</td>\n      <td>9</td>\n      <td>Black</td>\n      <td>...</td>\n      <td>Clean Lingerie</td>\n      <td>B</td>\n      <td>Lingeries/Tights</td>\n      <td>1</td>\n      <td>Ladieswear</td>\n      <td>61</td>\n      <td>Womens Lingerie</td>\n      <td>1017</td>\n      <td>Under-, Nightwear</td>\n      <td>Microfibre T-shirt bra with underwired, moulde...</td>\n    </tr>\n    <tr>\n      <th>4</th>\n      <td>110065002</td>\n      <td>110065</td>\n      <td>OP T-shirt (Idro)</td>\n      <td>306</td>\n      <td>Bra</td>\n      <td>Underwear</td>\n      <td>1010016</td>\n      <td>Solid</td>\n      <td>10</td>\n      <td>White</td>\n      <td>...</td>\n      <td>Clean Lingerie</td>\n      <td>B</td>\n      <td>Lingeries/Tights</td>\n      <td>1</td>\n      <td>Ladieswear</td>\n      <td>61</td>\n      <td>Womens Lingerie</td>\n      <td>1017</td>\n      <td>Under-, Nightwear</td>\n      <td>Microfibre T-shirt bra with underwired, moulde...</td>\n    </tr>\n    <tr>\n      <th>...</th>\n      <td>...</td>\n      <td>...</td>\n      <td>...</td>\n      <td>...</td>\n      <td>...</td>\n      <td>...</td>\n      <td>...</td>\n      <td>...</td>\n      <td>...</td>\n      <td>...</td>\n      <td>...</td>\n      <td>...</td>\n      <td>...</td>\n      <td>...</td>\n      <td>...</td>\n      <td>...</td>\n      <td>...</td>\n      <td>...</td>\n      <td>...</td>\n      <td>...</td>\n      <td>...</td>\n    </tr>\n    <tr>\n      <th>105537</th>\n      <td>953450001</td>\n      <td>953450</td>\n      <td>5pk regular Placement1</td>\n      <td>302</td>\n      <td>Socks</td>\n      <td>Socks &amp; Tights</td>\n      <td>1010014</td>\n      <td>Placement print</td>\n      <td>9</td>\n      <td>Black</td>\n      <td>...</td>\n      <td>Socks Bin</td>\n      <td>F</td>\n      <td>Menswear</td>\n      <td>3</td>\n      <td>Menswear</td>\n      <td>26</td>\n      <td>Men Underwear</td>\n      <td>1021</td>\n      <td>Socks and Tights</td>\n      <td>Socks in a fine-knit cotton blend with a small...</td>\n    </tr>\n    <tr>\n      <th>105538</th>\n      <td>953763001</td>\n      <td>953763</td>\n      <td>SPORT Malaga tank</td>\n      <td>253</td>\n      <td>Vest top</td>\n      <td>Garment Upper body</td>\n      <td>1010016</td>\n      <td>Solid</td>\n      <td>9</td>\n      <td>Black</td>\n      <td>...</td>\n      <td>Jersey</td>\n      <td>A</td>\n      <td>Ladieswear</td>\n      <td>1</td>\n      <td>Ladieswear</td>\n      <td>2</td>\n      <td>H&amp;M+</td>\n      <td>1005</td>\n      <td>Jersey Fancy</td>\n      <td>Loose-fitting sports vest top in ribbed fast-d...</td>\n    </tr>\n    <tr>\n      <th>105539</th>\n      <td>956217002</td>\n      <td>956217</td>\n      <td>Cartwheel dress</td>\n      <td>265</td>\n      <td>Dress</td>\n      <td>Garment Full body</td>\n      <td>1010016</td>\n      <td>Solid</td>\n      <td>9</td>\n      <td>Black</td>\n      <td>...</td>\n      <td>Jersey</td>\n      <td>A</td>\n      <td>Ladieswear</td>\n      <td>1</td>\n      <td>Ladieswear</td>\n      <td>18</td>\n      <td>Womens Trend</td>\n      <td>1005</td>\n      <td>Jersey Fancy</td>\n      <td>Short, A-line dress in jersey with a round nec...</td>\n    </tr>\n    <tr>\n      <th>105540</th>\n      <td>957375001</td>\n      <td>957375</td>\n      <td>CLAIRE HAIR CLAW</td>\n      <td>72</td>\n      <td>Hair clip</td>\n      <td>Accessories</td>\n      <td>1010016</td>\n      <td>Solid</td>\n      <td>9</td>\n      <td>Black</td>\n      <td>...</td>\n      <td>Small Accessories</td>\n      <td>D</td>\n      <td>Divided</td>\n      <td>2</td>\n      <td>Divided</td>\n      <td>52</td>\n      <td>Divided Accessories</td>\n      <td>1019</td>\n      <td>Accessories</td>\n      <td>Large plastic hair claw.</td>\n    </tr>\n    <tr>\n      <th>105541</th>\n      <td>959461001</td>\n      <td>959461</td>\n      <td>Lounge dress</td>\n      <td>265</td>\n      <td>Dress</td>\n      <td>Garment Full body</td>\n      <td>1010016</td>\n      <td>Solid</td>\n      <td>11</td>\n      <td>Off White</td>\n      <td>...</td>\n      <td>Jersey</td>\n      <td>A</td>\n      <td>Ladieswear</td>\n      <td>1</td>\n      <td>Ladieswear</td>\n      <td>18</td>\n      <td>Womens Trend</td>\n      <td>1005</td>\n      <td>Jersey Fancy</td>\n      <td>Calf-length dress in ribbed jersey made from a...</td>\n    </tr>\n  </tbody>\n</table>\n<p>105542 rows × 25 columns</p>\n</div>"
     },
     "execution_count": 134,
     "metadata": {},
     "output_type": "execute_result"
    }
   ],
   "source": [
    "df_articles"
   ],
   "metadata": {
    "collapsed": false,
    "pycharm": {
     "name": "#%%\n"
    }
   }
  },
  {
   "cell_type": "code",
   "execution_count": 135,
   "outputs": [
    {
     "data": {
      "text/plain": "   article_id  product_code                  prod_name  product_type_no  \\\n0   108775015        108775                  Strap top              253   \n1   108775044        108775                  Strap top              253   \n2   108775051        108775              Strap top (1)              253   \n3   110065001        110065          OP T-shirt (Idro)              306   \n4   110065002        110065          OP T-shirt (Idro)              306   \n5   110065011        110065          OP T-shirt (Idro)              306   \n6   111565001        111565        20 den 1p Stockings              304   \n7   111565003        111565        20 den 1p Stockings              302   \n8   111586001        111586  Shape Up 30 den 1p Tights              273   \n9   111593001        111593   Support 40 den 1p Tights              304   \n\n  product_type_name  product_group_name  graphical_appearance_no  \\\n0          Vest top  Garment Upper body                  1010016   \n1          Vest top  Garment Upper body                  1010016   \n2          Vest top  Garment Upper body                  1010017   \n3               Bra           Underwear                  1010016   \n4               Bra           Underwear                  1010016   \n5               Bra           Underwear                  1010016   \n6  Underwear Tights      Socks & Tights                  1010016   \n7             Socks      Socks & Tights                  1010016   \n8   Leggings/Tights  Garment Lower body                  1010016   \n9  Underwear Tights      Socks & Tights                  1010016   \n\n  graphical_appearance_name  colour_group_code colour_group_name  ...  \\\n0                     Solid                  9             Black  ...   \n1                     Solid                 10             White  ...   \n2                    Stripe                 11         Off White  ...   \n3                     Solid                  9             Black  ...   \n4                     Solid                 10             White  ...   \n5                     Solid                 12       Light Beige  ...   \n6                     Solid                  9             Black  ...   \n7                     Solid                 13             Beige  ...   \n8                     Solid                  9             Black  ...   \n9                     Solid                  9             Black  ...   \n\n   department_name index_code        index_name index_group_no  \\\n0     Jersey Basic          A        Ladieswear              1   \n1     Jersey Basic          A        Ladieswear              1   \n2     Jersey Basic          A        Ladieswear              1   \n3   Clean Lingerie          B  Lingeries/Tights              1   \n4   Clean Lingerie          B  Lingeries/Tights              1   \n5   Clean Lingerie          B  Lingeries/Tights              1   \n6     Tights basic          B  Lingeries/Tights              1   \n7     Tights basic          B  Lingeries/Tights              1   \n8     Tights basic          B  Lingeries/Tights              1   \n9     Tights basic          B  Lingeries/Tights              1   \n\n   index_group_name section_no                    section_name  \\\n0        Ladieswear         16          Womens Everyday Basics   \n1        Ladieswear         16          Womens Everyday Basics   \n2        Ladieswear         16          Womens Everyday Basics   \n3        Ladieswear         61                 Womens Lingerie   \n4        Ladieswear         61                 Womens Lingerie   \n5        Ladieswear         61                 Womens Lingerie   \n6        Ladieswear         62  Womens Nightwear, Socks & Tigh   \n7        Ladieswear         62  Womens Nightwear, Socks & Tigh   \n8        Ladieswear         62  Womens Nightwear, Socks & Tigh   \n9        Ladieswear         62  Womens Nightwear, Socks & Tigh   \n\n  garment_group_no  garment_group_name  \\\n0             1002        Jersey Basic   \n1             1002        Jersey Basic   \n2             1002        Jersey Basic   \n3             1017   Under-, Nightwear   \n4             1017   Under-, Nightwear   \n5             1017   Under-, Nightwear   \n6             1021    Socks and Tights   \n7             1021    Socks and Tights   \n8             1021    Socks and Tights   \n9             1021    Socks and Tights   \n\n                                         detail_desc  \n0            Jersey top with narrow shoulder straps.  \n1            Jersey top with narrow shoulder straps.  \n2            Jersey top with narrow shoulder straps.  \n3  Microfibre T-shirt bra with underwired, moulde...  \n4  Microfibre T-shirt bra with underwired, moulde...  \n5  Microfibre T-shirt bra with underwired, moulde...  \n6  Semi shiny nylon stockings with a wide, reinfo...  \n7  Semi shiny nylon stockings with a wide, reinfo...  \n8  Tights with built-in support to lift the botto...  \n9  Semi shiny tights that shape the tummy, thighs...  \n\n[10 rows x 25 columns]",
      "text/html": "<div>\n<style scoped>\n    .dataframe tbody tr th:only-of-type {\n        vertical-align: middle;\n    }\n\n    .dataframe tbody tr th {\n        vertical-align: top;\n    }\n\n    .dataframe thead th {\n        text-align: right;\n    }\n</style>\n<table border=\"1\" class=\"dataframe\">\n  <thead>\n    <tr style=\"text-align: right;\">\n      <th></th>\n      <th>article_id</th>\n      <th>product_code</th>\n      <th>prod_name</th>\n      <th>product_type_no</th>\n      <th>product_type_name</th>\n      <th>product_group_name</th>\n      <th>graphical_appearance_no</th>\n      <th>graphical_appearance_name</th>\n      <th>colour_group_code</th>\n      <th>colour_group_name</th>\n      <th>...</th>\n      <th>department_name</th>\n      <th>index_code</th>\n      <th>index_name</th>\n      <th>index_group_no</th>\n      <th>index_group_name</th>\n      <th>section_no</th>\n      <th>section_name</th>\n      <th>garment_group_no</th>\n      <th>garment_group_name</th>\n      <th>detail_desc</th>\n    </tr>\n  </thead>\n  <tbody>\n    <tr>\n      <th>0</th>\n      <td>108775015</td>\n      <td>108775</td>\n      <td>Strap top</td>\n      <td>253</td>\n      <td>Vest top</td>\n      <td>Garment Upper body</td>\n      <td>1010016</td>\n      <td>Solid</td>\n      <td>9</td>\n      <td>Black</td>\n      <td>...</td>\n      <td>Jersey Basic</td>\n      <td>A</td>\n      <td>Ladieswear</td>\n      <td>1</td>\n      <td>Ladieswear</td>\n      <td>16</td>\n      <td>Womens Everyday Basics</td>\n      <td>1002</td>\n      <td>Jersey Basic</td>\n      <td>Jersey top with narrow shoulder straps.</td>\n    </tr>\n    <tr>\n      <th>1</th>\n      <td>108775044</td>\n      <td>108775</td>\n      <td>Strap top</td>\n      <td>253</td>\n      <td>Vest top</td>\n      <td>Garment Upper body</td>\n      <td>1010016</td>\n      <td>Solid</td>\n      <td>10</td>\n      <td>White</td>\n      <td>...</td>\n      <td>Jersey Basic</td>\n      <td>A</td>\n      <td>Ladieswear</td>\n      <td>1</td>\n      <td>Ladieswear</td>\n      <td>16</td>\n      <td>Womens Everyday Basics</td>\n      <td>1002</td>\n      <td>Jersey Basic</td>\n      <td>Jersey top with narrow shoulder straps.</td>\n    </tr>\n    <tr>\n      <th>2</th>\n      <td>108775051</td>\n      <td>108775</td>\n      <td>Strap top (1)</td>\n      <td>253</td>\n      <td>Vest top</td>\n      <td>Garment Upper body</td>\n      <td>1010017</td>\n      <td>Stripe</td>\n      <td>11</td>\n      <td>Off White</td>\n      <td>...</td>\n      <td>Jersey Basic</td>\n      <td>A</td>\n      <td>Ladieswear</td>\n      <td>1</td>\n      <td>Ladieswear</td>\n      <td>16</td>\n      <td>Womens Everyday Basics</td>\n      <td>1002</td>\n      <td>Jersey Basic</td>\n      <td>Jersey top with narrow shoulder straps.</td>\n    </tr>\n    <tr>\n      <th>3</th>\n      <td>110065001</td>\n      <td>110065</td>\n      <td>OP T-shirt (Idro)</td>\n      <td>306</td>\n      <td>Bra</td>\n      <td>Underwear</td>\n      <td>1010016</td>\n      <td>Solid</td>\n      <td>9</td>\n      <td>Black</td>\n      <td>...</td>\n      <td>Clean Lingerie</td>\n      <td>B</td>\n      <td>Lingeries/Tights</td>\n      <td>1</td>\n      <td>Ladieswear</td>\n      <td>61</td>\n      <td>Womens Lingerie</td>\n      <td>1017</td>\n      <td>Under-, Nightwear</td>\n      <td>Microfibre T-shirt bra with underwired, moulde...</td>\n    </tr>\n    <tr>\n      <th>4</th>\n      <td>110065002</td>\n      <td>110065</td>\n      <td>OP T-shirt (Idro)</td>\n      <td>306</td>\n      <td>Bra</td>\n      <td>Underwear</td>\n      <td>1010016</td>\n      <td>Solid</td>\n      <td>10</td>\n      <td>White</td>\n      <td>...</td>\n      <td>Clean Lingerie</td>\n      <td>B</td>\n      <td>Lingeries/Tights</td>\n      <td>1</td>\n      <td>Ladieswear</td>\n      <td>61</td>\n      <td>Womens Lingerie</td>\n      <td>1017</td>\n      <td>Under-, Nightwear</td>\n      <td>Microfibre T-shirt bra with underwired, moulde...</td>\n    </tr>\n    <tr>\n      <th>5</th>\n      <td>110065011</td>\n      <td>110065</td>\n      <td>OP T-shirt (Idro)</td>\n      <td>306</td>\n      <td>Bra</td>\n      <td>Underwear</td>\n      <td>1010016</td>\n      <td>Solid</td>\n      <td>12</td>\n      <td>Light Beige</td>\n      <td>...</td>\n      <td>Clean Lingerie</td>\n      <td>B</td>\n      <td>Lingeries/Tights</td>\n      <td>1</td>\n      <td>Ladieswear</td>\n      <td>61</td>\n      <td>Womens Lingerie</td>\n      <td>1017</td>\n      <td>Under-, Nightwear</td>\n      <td>Microfibre T-shirt bra with underwired, moulde...</td>\n    </tr>\n    <tr>\n      <th>6</th>\n      <td>111565001</td>\n      <td>111565</td>\n      <td>20 den 1p Stockings</td>\n      <td>304</td>\n      <td>Underwear Tights</td>\n      <td>Socks &amp; Tights</td>\n      <td>1010016</td>\n      <td>Solid</td>\n      <td>9</td>\n      <td>Black</td>\n      <td>...</td>\n      <td>Tights basic</td>\n      <td>B</td>\n      <td>Lingeries/Tights</td>\n      <td>1</td>\n      <td>Ladieswear</td>\n      <td>62</td>\n      <td>Womens Nightwear, Socks &amp; Tigh</td>\n      <td>1021</td>\n      <td>Socks and Tights</td>\n      <td>Semi shiny nylon stockings with a wide, reinfo...</td>\n    </tr>\n    <tr>\n      <th>7</th>\n      <td>111565003</td>\n      <td>111565</td>\n      <td>20 den 1p Stockings</td>\n      <td>302</td>\n      <td>Socks</td>\n      <td>Socks &amp; Tights</td>\n      <td>1010016</td>\n      <td>Solid</td>\n      <td>13</td>\n      <td>Beige</td>\n      <td>...</td>\n      <td>Tights basic</td>\n      <td>B</td>\n      <td>Lingeries/Tights</td>\n      <td>1</td>\n      <td>Ladieswear</td>\n      <td>62</td>\n      <td>Womens Nightwear, Socks &amp; Tigh</td>\n      <td>1021</td>\n      <td>Socks and Tights</td>\n      <td>Semi shiny nylon stockings with a wide, reinfo...</td>\n    </tr>\n    <tr>\n      <th>8</th>\n      <td>111586001</td>\n      <td>111586</td>\n      <td>Shape Up 30 den 1p Tights</td>\n      <td>273</td>\n      <td>Leggings/Tights</td>\n      <td>Garment Lower body</td>\n      <td>1010016</td>\n      <td>Solid</td>\n      <td>9</td>\n      <td>Black</td>\n      <td>...</td>\n      <td>Tights basic</td>\n      <td>B</td>\n      <td>Lingeries/Tights</td>\n      <td>1</td>\n      <td>Ladieswear</td>\n      <td>62</td>\n      <td>Womens Nightwear, Socks &amp; Tigh</td>\n      <td>1021</td>\n      <td>Socks and Tights</td>\n      <td>Tights with built-in support to lift the botto...</td>\n    </tr>\n    <tr>\n      <th>9</th>\n      <td>111593001</td>\n      <td>111593</td>\n      <td>Support 40 den 1p Tights</td>\n      <td>304</td>\n      <td>Underwear Tights</td>\n      <td>Socks &amp; Tights</td>\n      <td>1010016</td>\n      <td>Solid</td>\n      <td>9</td>\n      <td>Black</td>\n      <td>...</td>\n      <td>Tights basic</td>\n      <td>B</td>\n      <td>Lingeries/Tights</td>\n      <td>1</td>\n      <td>Ladieswear</td>\n      <td>62</td>\n      <td>Womens Nightwear, Socks &amp; Tigh</td>\n      <td>1021</td>\n      <td>Socks and Tights</td>\n      <td>Semi shiny tights that shape the tummy, thighs...</td>\n    </tr>\n  </tbody>\n</table>\n<p>10 rows × 25 columns</p>\n</div>"
     },
     "execution_count": 135,
     "metadata": {},
     "output_type": "execute_result"
    }
   ],
   "source": [
    "df_articles.head(10)"
   ],
   "metadata": {
    "collapsed": false,
    "pycharm": {
     "name": "#%%\n"
    }
   }
  },
  {
   "cell_type": "code",
   "execution_count": 136,
   "outputs": [
    {
     "data": {
      "text/plain": "article_id                       int64\nproduct_code                     int64\nprod_name                       object\nproduct_type_no                  int64\nproduct_type_name               object\nproduct_group_name              object\ngraphical_appearance_no          int64\ngraphical_appearance_name       object\ncolour_group_code                int64\ncolour_group_name               object\nperceived_colour_value_id        int64\nperceived_colour_value_name     object\nperceived_colour_master_id       int64\nperceived_colour_master_name    object\ndepartment_no                    int64\ndepartment_name                 object\nindex_code                      object\nindex_name                      object\nindex_group_no                   int64\nindex_group_name                object\nsection_no                       int64\nsection_name                    object\ngarment_group_no                 int64\ngarment_group_name              object\ndetail_desc                     object\ndtype: object"
     },
     "execution_count": 136,
     "metadata": {},
     "output_type": "execute_result"
    }
   ],
   "source": [
    "df_articles.dtypes"
   ],
   "metadata": {
    "collapsed": false,
    "pycharm": {
     "name": "#%%\n"
    }
   }
  },
  {
   "cell_type": "code",
   "execution_count": 137,
   "outputs": [],
   "source": [
    "# Converting object dtype to categorical\n",
    "categorical_columns = df_articles.select_dtypes(include='object').columns\n",
    "for categorical_column in categorical_columns:\n",
    "    df_articles[categorical_column] = pd.Categorical(df_articles[categorical_column])"
   ],
   "metadata": {
    "collapsed": false,
    "pycharm": {
     "name": "#%%\n"
    }
   }
  },
  {
   "cell_type": "code",
   "execution_count": 138,
   "outputs": [],
   "source": [
    "all_columns = df_articles.columns.values\n"
   ],
   "metadata": {
    "collapsed": false,
    "pycharm": {
     "name": "#%%\n"
    }
   }
  },
  {
   "cell_type": "code",
   "execution_count": 139,
   "outputs": [
    {
     "name": "stdout",
     "output_type": "stream",
     "text": [
      "Percentage of unique article_id:\t 100.0%\n",
      "Percentage of unique product_code:\t 44.744272422353184%\n",
      "Percentage of unique prod_name:\t 43.46610827916848%\n",
      "Percentage of unique product_type_no:\t 0.1250686930321578%\n",
      "Percentage of unique product_type_name:\t 0.12412120293342935%\n",
      "Percentage of unique product_group_name:\t 0.018002311875840896%\n",
      "Percentage of unique graphical_appearance_no:\t 0.028424702961854047%\n",
      "Percentage of unique graphical_appearance_name:\t 0.028424702961854047%\n",
      "Percentage of unique colour_group_code:\t 0.047374504936423416%\n",
      "Percentage of unique colour_group_name:\t 0.047374504936423416%\n",
      "Percentage of unique perceived_colour_value_id:\t 0.007579920789827746%\n",
      "Percentage of unique perceived_colour_value_name:\t 0.007579920789827746%\n",
      "Percentage of unique perceived_colour_master_id:\t 0.018949801974569365%\n",
      "Percentage of unique perceived_colour_master_name:\t 0.018949801974569365%\n",
      "Percentage of unique department_no:\t 0.283299539519812%\n",
      "Percentage of unique department_name:\t 0.23687252468211706%\n",
      "Percentage of unique index_code:\t 0.009474900987284682%\n",
      "Percentage of unique index_name:\t 0.009474900987284682%\n",
      "Percentage of unique index_group_no:\t 0.004737450493642341%\n",
      "Percentage of unique index_group_name:\t 0.004737450493642341%\n",
      "Percentage of unique section_no:\t 0.054006935627522686%\n",
      "Percentage of unique section_name:\t 0.05305944552879422%\n",
      "Percentage of unique garment_group_no:\t 0.019897292073297834%\n",
      "Percentage of unique garment_group_name:\t 0.019897292073297834%\n",
      "Percentage of unique detail_desc:\t 41.125807735309166%\n"
     ]
    }
   ],
   "source": [
    "# percentage of uniqueness\n",
    "for column in all_columns:\n",
    "    per = len(df_articles[column].unique()) / df_articles.shape[0] * 100.0\n",
    "    print(f'Percentage of unique {column}:\\t {per}%')\n"
   ],
   "metadata": {
    "collapsed": false,
    "pycharm": {
     "name": "#%%\n"
    }
   }
  },
  {
   "cell_type": "markdown",
   "source": [
    "# detail_desc"
   ],
   "metadata": {
    "collapsed": false
   }
  },
  {
   "cell_type": "code",
   "execution_count": 140,
   "outputs": [
    {
     "data": {
      "text/plain": "article_id                        0\nproduct_code                      0\nprod_name                         0\nproduct_type_no                   0\nproduct_type_name                 0\nproduct_group_name                0\ngraphical_appearance_no           0\ngraphical_appearance_name         0\ncolour_group_code                 0\ncolour_group_name                 0\nperceived_colour_value_id         0\nperceived_colour_value_name       0\nperceived_colour_master_id        0\nperceived_colour_master_name      0\ndepartment_no                     0\ndepartment_name                   0\nindex_code                        0\nindex_name                        0\nindex_group_no                    0\nindex_group_name                  0\nsection_no                        0\nsection_name                      0\ngarment_group_no                  0\ngarment_group_name                0\ndetail_desc                     416\ndtype: int64"
     },
     "execution_count": 140,
     "metadata": {},
     "output_type": "execute_result"
    }
   ],
   "source": [
    "df_articles.isnull().sum()"
   ],
   "metadata": {
    "collapsed": false,
    "pycharm": {
     "name": "#%%\n"
    }
   }
  },
  {
   "cell_type": "code",
   "execution_count": 141,
   "outputs": [
    {
     "data": {
      "text/plain": "0.3941558810710428"
     },
     "execution_count": 141,
     "metadata": {},
     "output_type": "execute_result"
    }
   ],
   "source": [
    "df_articles['detail_desc'].isnull().sum() / df_articles.shape[0] * 100.0\n"
   ],
   "metadata": {
    "collapsed": false,
    "pycharm": {
     "name": "#%%\n"
    }
   }
  },
  {
   "cell_type": "code",
   "execution_count": 142,
   "outputs": [
    {
     "data": {
      "text/plain": "(105126, 26)"
     },
     "execution_count": 142,
     "metadata": {},
     "output_type": "execute_result"
    }
   ],
   "source": [
    "df_articles = df_articles.dropna().reset_index()\n",
    "df_articles.shape"
   ],
   "metadata": {
    "collapsed": false,
    "pycharm": {
     "name": "#%%\n"
    }
   }
  },
  {
   "cell_type": "code",
   "execution_count": 143,
   "outputs": [
    {
     "data": {
      "text/plain": "Dragonfly dress          98\nMike tee                 72\nWow printed tee 6.99     70\n1pk Fun                  55\nTP Paddington Sweater    54\nPria tee                 51\nDespacito                48\nMY                       44\nRobin 3pk Fancy          43\nEivor 7-p shaftless      42\nName: prod_name, dtype: int64"
     },
     "execution_count": 143,
     "metadata": {},
     "output_type": "execute_result"
    }
   ],
   "source": [
    "# Top 10 product names\n",
    "product_name = df_articles['prod_name'].value_counts()\n",
    "product_name.head(10)"
   ],
   "metadata": {
    "collapsed": false,
    "pycharm": {
     "name": "#%%\n"
    }
   }
  },
  {
   "cell_type": "code",
   "execution_count": 144,
   "outputs": [
    {
     "data": {
      "text/plain": "Trousers        11140\nDress           10318\nSweater          9271\nT-shirt          7849\nTop              4144\n                ...  \nBra extender        1\nBlanket             1\nTowel               1\nWood balls          1\nCushion             1\nName: product_type_name, Length: 131, dtype: int64"
     },
     "execution_count": 144,
     "metadata": {},
     "output_type": "execute_result"
    }
   ],
   "source": [
    "# Top 10 product types\n",
    "prod_type_name = df_articles['product_type_name'].value_counts()\n",
    "prod_type_name"
   ],
   "metadata": {
    "collapsed": false,
    "pycharm": {
     "name": "#%%\n"
    }
   }
  },
  {
   "cell_type": "code",
   "execution_count": 145,
   "outputs": [
    {
     "data": {
      "text/plain": "Garment Upper body    42593\nGarment Lower body    19763\nGarment Full body     13245\nAccessories           11141\nUnderwear              5449\nShoes                  5196\nSwimwear               3104\nSocks & Tights         2438\nNightwear              1899\nUnknown                 121\nName: product_group_name, dtype: int64"
     },
     "execution_count": 145,
     "metadata": {},
     "output_type": "execute_result"
    }
   ],
   "source": [
    "# Top 10 product_group_name\n",
    "product_group_name = df_articles['product_group_name'].value_counts()\n",
    "product_group_name.head(10)"
   ],
   "metadata": {
    "collapsed": false,
    "pycharm": {
     "name": "#%%\n"
    }
   }
  },
  {
   "cell_type": "code",
   "execution_count": 146,
   "outputs": [
    {
     "data": {
      "text/plain": "Solid               49548\nAll over pattern    17116\nMelange              5901\nStripe               4960\nDenim                4835\nFront print          3208\nPlacement print      3083\nCheck                2169\nColour blocking      1828\nLace                 1500\nName: graphical_appearance_name, dtype: int64"
     },
     "execution_count": 146,
     "metadata": {},
     "output_type": "execute_result"
    }
   ],
   "source": [
    "# Top 10 graphical_appearance_name\n",
    "graphical_appearance_name = df_articles['graphical_appearance_name'].value_counts()\n",
    "graphical_appearance_name.head(10)\n"
   ],
   "metadata": {
    "collapsed": false,
    "pycharm": {
     "name": "#%%\n"
    }
   }
  },
  {
   "cell_type": "code",
   "execution_count": 147,
   "outputs": [
    {
     "data": {
      "text/plain": "Black             22559\nDark Blue         12117\nWhite              9502\nLight Pink         5794\nGrey               4473\nLight Beige        3344\nBlue               3302\nRed                3040\nLight Blue         3004\nGreenish Khaki     2763\nName: colour_group_name, dtype: int64"
     },
     "execution_count": 147,
     "metadata": {},
     "output_type": "execute_result"
    }
   ],
   "source": [
    "# Top 10 colour_group_name\n",
    "colour_group_name = df_articles['colour_group_name'].value_counts()\n",
    "colour_group_name.head(10)\n"
   ],
   "metadata": {
    "collapsed": false,
    "pycharm": {
     "name": "#%%\n"
    }
   }
  },
  {
   "cell_type": "code",
   "execution_count": 148,
   "outputs": [
    {
     "data": {
      "text/plain": "Dark            42496\nDusty Light     22082\nLight           15676\nMedium Dusty    12602\nBright           6445\nMedium           5693\nUndefined         104\nUnknown            28\nName: perceived_colour_value_name, dtype: int64"
     },
     "execution_count": 148,
     "metadata": {},
     "output_type": "execute_result"
    }
   ],
   "source": [
    "# Top 10 perceived_colour_value_name\n",
    "perceived_colour_value_name = df_articles['perceived_colour_value_name'].value_counts()\n",
    "perceived_colour_value_name.head(10)\n"
   ],
   "metadata": {
    "collapsed": false,
    "pycharm": {
     "name": "#%%\n"
    }
   }
  },
  {
   "cell_type": "code",
   "execution_count": 149,
   "outputs": [
    {
     "data": {
      "text/plain": "Black          22475\nBlue           18402\nWhite          12614\nPink            9369\nGrey            8885\nRed             5849\nBeige           5636\nGreen           3511\nKhaki green     3174\nYellow          3112\nName: perceived_colour_master_name, dtype: int64"
     },
     "execution_count": 149,
     "metadata": {},
     "output_type": "execute_result"
    }
   ],
   "source": [
    "# Top 10 perceived_colour_master_name\n",
    "perceived_colour_master_name = df_articles['perceived_colour_master_name'].value_counts()\n",
    "perceived_colour_master_name.head(10)\n"
   ],
   "metadata": {
    "collapsed": false,
    "pycharm": {
     "name": "#%%\n"
    }
   }
  },
  {
   "cell_type": "code",
   "execution_count": 150,
   "outputs": [
    {
     "data": {
      "text/plain": "Jersey                     4590\nKnitwear                   3499\nTrouser                    2647\nBlouse                     2356\nDress                      2081\nSwimwear                   2055\nKids Girl Jersey Fancy     2024\nExpressive Lingerie        1912\nYoung Girl Jersey Fancy    1872\nJersey Fancy               1754\nName: department_name, dtype: int64"
     },
     "execution_count": 150,
     "metadata": {},
     "output_type": "execute_result"
    }
   ],
   "source": [
    "# Top 10 department names\n",
    "department_name = df_articles['department_name'].value_counts()\n",
    "department_name.head(10)\n"
   ],
   "metadata": {
    "collapsed": false,
    "pycharm": {
     "name": "#%%\n"
    }
   }
  },
  {
   "cell_type": "code",
   "execution_count": 151,
   "outputs": [
    {
     "data": {
      "text/plain": "Ladieswear                        25912\nDivided                           15086\nMenswear                          12539\nChildren Sizes 92-140             11974\nChildren Sizes 134-170             9190\nBaby Sizes 50-98                   8863\nLadies Accessories                 6885\nLingeries/Tights                   6726\nChildren Accessories, Swimwear     4592\nSport                              3359\nName: index_name, dtype: int64"
     },
     "execution_count": 151,
     "metadata": {},
     "output_type": "execute_result"
    }
   ],
   "source": [
    "# Top 10 index_name\n",
    "index_name = df_articles['index_name'].value_counts()\n",
    "index_name.head(10)\n"
   ],
   "metadata": {
    "collapsed": false,
    "pycharm": {
     "name": "#%%\n"
    }
   }
  },
  {
   "cell_type": "code",
   "execution_count": 152,
   "outputs": [
    {
     "data": {
      "text/plain": "Womens Everyday Collection       7273\nDivided Collection               7090\nBaby Essentials & Complements    4930\nKids Girl                        4454\nYoung Girl                       3895\nWomens Lingerie                  3563\nGirls Underwear & Basics         3476\nWomens Tailoring                 3355\nKids Boy                         3318\nWomens Small accessories         3263\nName: section_name, dtype: int64"
     },
     "execution_count": 152,
     "metadata": {},
     "output_type": "execute_result"
    }
   ],
   "source": [
    "# Top 10 section_name\n",
    "section_name = df_articles['section_name'].value_counts()\n",
    "section_name.head(10)\n"
   ],
   "metadata": {
    "collapsed": false,
    "pycharm": {
     "name": "#%%\n"
    }
   }
  },
  {
   "cell_type": "code",
   "execution_count": 153,
   "outputs": [
    {
     "data": {
      "text/plain": "T-shirt in printed cotton jersey.                                                      159\nLeggings in soft organic cotton jersey with an elasticated waist.                      138\nT-shirt in soft, printed cotton jersey.                                                137\nSocks in a soft, jacquard-knit cotton blend with elasticated tops.                     136\nFine-knit trainer socks in a soft cotton blend with elasticated tops.                  134\nSocks in a soft, fine-knit cotton blend with elasticated tops.                         118\nSunglasses with plastic frames and UV-protective, tinted lenses.                       117\nBoxer shorts in a cotton weave with an elasticated waist, long legs and button fly.    104\nFine-knit socks in a soft cotton blend.                                                 97\nTights in a soft, fine-knit cotton blend with an elasticated waist.                     97\nName: detail_desc, dtype: int64"
     },
     "execution_count": 153,
     "metadata": {},
     "output_type": "execute_result"
    }
   ],
   "source": [
    "# Top 10 detail_desc\n",
    "detail_desc = df_articles['detail_desc'].value_counts()\n",
    "detail_desc.head(10)\n"
   ],
   "metadata": {
    "collapsed": false,
    "pycharm": {
     "name": "#%%\n"
    }
   }
  },
  {
   "cell_type": "code",
   "execution_count": 154,
   "outputs": [
    {
     "data": {
      "text/plain": "(array([0, 1, 2, 3, 4, 5, 6, 7]),\n [Text(0, 0, 'Bright'),\n  Text(1, 0, 'Dark'),\n  Text(2, 0, 'Dusty Light'),\n  Text(3, 0, 'Light'),\n  Text(4, 0, 'Medium'),\n  Text(5, 0, 'Medium Dusty'),\n  Text(6, 0, 'Undefined'),\n  Text(7, 0, 'Unknown')])"
     },
     "execution_count": 154,
     "metadata": {},
     "output_type": "execute_result"
    },
    {
     "data": {
      "text/plain": "<Figure size 432x288 with 1 Axes>",
      "image/png": "[encoded data removed]"
     },
     "metadata": {
      "needs_background": "light"
     },
     "output_type": "display_data"
    }
   ],
   "source": [
    "sns.countplot(x='perceived_colour_value_name',data=df_articles, hue='perceived_colour_master_name')\n",
    "plt.legend(bbox_to_anchor=(1.1, 1))\n",
    "plt.xticks(rotation=90)\n"
   ],
   "metadata": {
    "collapsed": false,
    "pycharm": {
     "name": "#%%\n"
    }
   }
  },
  {
   "cell_type": "code",
   "execution_count": 155,
   "outputs": [
    {
     "data": {
      "text/plain": "<matplotlib.legend.Legend at 0x7fd0f506c910>"
     },
     "execution_count": 155,
     "metadata": {},
     "output_type": "execute_result"
    },
    {
     "data": {
      "text/plain": "<Figure size 432x288 with 1 Axes>",
      "image/png": "[encoded data removed]"
     },
     "metadata": {
      "needs_background": "light"
     },
     "output_type": "display_data"
    }
   ],
   "source": [
    "sns.countplot(x='index_group_name',data=df_articles, hue='index_name')\n",
    "plt.legend(bbox_to_anchor=(1.1, 1))\n"
   ],
   "metadata": {
    "collapsed": false,
    "pycharm": {
     "name": "#%%\n"
    }
   }
  },
  {
   "cell_type": "code",
   "execution_count": 156,
   "outputs": [],
   "source": [
    "# function courtesy -\n",
    "# https://stackoverflow.com/questions/46498455/categorical-features-correlation/46498792#46498792\n",
    "def cramers_v(confusion_matrix):\n",
    "    \"\"\" calculate Cramers V statistic for categorial-categorial association.\n",
    "        uses correction from Bergsma and Wicher,\n",
    "        Journal of the Korean Statistical Society 42 (2013): 323-328\n",
    "    \"\"\"\n",
    "    chi2 = ss.chi2_contingency(confusion_matrix)[0]\n",
    "    n = confusion_matrix.sum()\n",
    "    phi2 = chi2 / n\n",
    "    r, k = confusion_matrix.shape\n",
    "    phi2corr = max(0, phi2 - ((k-1)*(r-1))/(n-1))\n",
    "    rcorr = r - ((r-1)**2)/(n-1)\n",
    "    kcorr = k - ((k-1)**2)/(n-1)\n",
    "    return np.sqrt(phi2corr / min((kcorr-1), (rcorr-1)))"
   ],
   "metadata": {
    "collapsed": false,
    "pycharm": {
     "name": "#%%\n"
    }
   }
  },
  {
   "cell_type": "code",
   "execution_count": 157,
   "outputs": [
    {
     "data": {
      "text/plain": "0.9987578032487684"
     },
     "execution_count": 157,
     "metadata": {},
     "output_type": "execute_result"
    }
   ],
   "source": [
    "f1 = 'department_name'\n",
    "f2 = 'garment_group_name'\n",
    "\n",
    "confusion_matrix = pd.crosstab(df_articles[f1], df_articles[f2])\n",
    "cramers_v(confusion_matrix.values)\n"
   ],
   "metadata": {
    "collapsed": false,
    "pycharm": {
     "name": "#%%\n"
    }
   }
  },
  {
   "cell_type": "code",
   "execution_count": 158,
   "outputs": [
    {
     "data": {
      "text/plain": "0.9999762175994487"
     },
     "execution_count": 158,
     "metadata": {},
     "output_type": "execute_result"
    }
   ],
   "source": [
    "f1 = 'index_name'\n",
    "f2 = 'index_group_name'\n",
    "\n",
    "confusion_matrix = pd.crosstab(df_articles[f1], df_articles[f2])\n",
    "cramers_v(confusion_matrix.values)\n"
   ],
   "metadata": {
    "collapsed": false,
    "pycharm": {
     "name": "#%%\n"
    }
   }
  },
  {
   "cell_type": "code",
   "execution_count": 159,
   "outputs": [
    {
     "name": "stdout",
     "output_type": "stream",
     "text": [
      "Between f1 and f2: 0.8139481834784196\n",
      "Between f1 and f3: 0.8446526750701804\n",
      "Between f2 and f3: 0.5942933218110033\n"
     ]
    }
   ],
   "source": [
    "f1 = 'colour_group_name'\n",
    "f2 = 'perceived_colour_value_name'\n",
    "f3 = 'perceived_colour_master_name'\n",
    "\n",
    "confusion_matrix = pd.crosstab(df_articles[f1], df_articles[f2])\n",
    "f1_f2 = cramers_v(confusion_matrix.values)\n",
    "\n",
    "confusion_matrix = pd.crosstab(df_articles[f1], df_articles[f3])\n",
    "f1_f3 = cramers_v(confusion_matrix.values)\n",
    "\n",
    "confusion_matrix = pd.crosstab(df_articles[f2], df_articles[f3])\n",
    "f2_f3 = cramers_v(confusion_matrix.values)\n",
    "\n",
    "print(f'Between f1 and f2: {f1_f2}')\n",
    "print(f'Between f1 and f3: {f1_f3}')\n",
    "print(f'Between f2 and f3: {f2_f3}')"
   ],
   "metadata": {
    "collapsed": false,
    "pycharm": {
     "name": "#%%\n"
    }
   }
  },
  {
   "cell_type": "code",
   "execution_count": 160,
   "outputs": [
    {
     "name": "stdout",
     "output_type": "stream",
     "text": [
      "Between f1 and f2: 0.6911712064090091\n",
      "Between f1 and f3: 0.7148413543990286\n",
      "Between f2 and f3: 0.9950526501927501\n"
     ]
    }
   ],
   "source": [
    "f1 = 'prod_name'\n",
    "f2 = 'product_type_name'\n",
    "f3 = 'product_group_name'\n",
    "\n",
    "confusion_matrix = pd.crosstab(df_articles[f1], df_articles[f2])\n",
    "f1_f2 = cramers_v(confusion_matrix.values)\n",
    "\n",
    "confusion_matrix = pd.crosstab(df_articles[f1], df_articles[f3])\n",
    "f1_f3 = cramers_v(confusion_matrix.values)\n",
    "\n",
    "confusion_matrix = pd.crosstab(df_articles[f2], df_articles[f3])\n",
    "f2_f3 = cramers_v(confusion_matrix.values)\n",
    "\n",
    "print(f'Between f1 and f2: {f1_f2}')\n",
    "print(f'Between f1 and f3: {f1_f3}')\n",
    "print(f'Between f2 and f3: {f2_f3}')"
   ],
   "metadata": {
    "collapsed": false,
    "pycharm": {
     "name": "#%%\n"
    }
   }
  },
  {
   "cell_type": "markdown",
   "source": [
    "# Exploring customers\n"
   ],
   "metadata": {
    "collapsed": false
   }
  },
  {
   "cell_type": "code",
   "execution_count": 161,
   "outputs": [
    {
     "data": {
      "text/plain": "(1371980, 7)"
     },
     "execution_count": 161,
     "metadata": {},
     "output_type": "execute_result"
    }
   ],
   "source": [
    "df_customers.shape"
   ],
   "metadata": {
    "collapsed": false,
    "pycharm": {
     "name": "#%%\n"
    }
   }
  },
  {
   "cell_type": "code",
   "execution_count": 162,
   "outputs": [
    {
     "data": {
      "text/plain": "                                                                        0  \\\ncustomer_id             00000dbacae5abe5e23885899a1fa44253a17956c6d1c3...   \nFN                                                                    NaN   \nActive                                                                NaN   \nclub_member_status                                                 ACTIVE   \nfashion_news_frequency                                               NONE   \nage                                                                  49.0   \npostal_code             52043ee2162cf5aa7ee79974281641c6f11a68d276429a...   \n\n                                                                        1  \ncustomer_id             0000423b00ade91418cceaf3b26c6af3dd342b51fd051e...  \nFN                                                                    NaN  \nActive                                                                NaN  \nclub_member_status                                                 ACTIVE  \nfashion_news_frequency                                               NONE  \nage                                                                  25.0  \npostal_code             2973abc54daa8a5f8ccfe9362140c63247c5eee03f1d93...  ",
      "text/html": "<div>\n<style scoped>\n    .dataframe tbody tr th:only-of-type {\n        vertical-align: middle;\n    }\n\n    .dataframe tbody tr th {\n        vertical-align: top;\n    }\n\n    .dataframe thead th {\n        text-align: right;\n    }\n</style>\n<table border=\"1\" class=\"dataframe\">\n  <thead>\n    <tr style=\"text-align: right;\">\n      <th></th>\n      <th>0</th>\n      <th>1</th>\n    </tr>\n  </thead>\n  <tbody>\n    <tr>\n      <th>customer_id</th>\n      <td>00000dbacae5abe5e23885899a1fa44253a17956c6d1c3...</td>\n      <td>0000423b00ade91418cceaf3b26c6af3dd342b51fd051e...</td>\n    </tr>\n    <tr>\n      <th>FN</th>\n      <td>NaN</td>\n      <td>NaN</td>\n    </tr>\n    <tr>\n      <th>Active</th>\n      <td>NaN</td>\n      <td>NaN</td>\n    </tr>\n    <tr>\n      <th>club_member_status</th>\n      <td>ACTIVE</td>\n      <td>ACTIVE</td>\n    </tr>\n    <tr>\n      <th>fashion_news_frequency</th>\n      <td>NONE</td>\n      <td>NONE</td>\n    </tr>\n    <tr>\n      <th>age</th>\n      <td>49.0</td>\n      <td>25.0</td>\n    </tr>\n    <tr>\n      <th>postal_code</th>\n      <td>52043ee2162cf5aa7ee79974281641c6f11a68d276429a...</td>\n      <td>2973abc54daa8a5f8ccfe9362140c63247c5eee03f1d93...</td>\n    </tr>\n  </tbody>\n</table>\n</div>"
     },
     "execution_count": 162,
     "metadata": {},
     "output_type": "execute_result"
    }
   ],
   "source": [
    "df_customers.head(2).T\n"
   ],
   "metadata": {
    "collapsed": false,
    "pycharm": {
     "name": "#%%\n"
    }
   }
  },
  {
   "cell_type": "code",
   "execution_count": 163,
   "outputs": [
    {
     "data": {
      "text/plain": "customer_id                object\nFN                        float64\nActive                    float64\nclub_member_status         object\nfashion_news_frequency     object\nage                       float64\npostal_code                object\ndtype: object"
     },
     "execution_count": 163,
     "metadata": {},
     "output_type": "execute_result"
    }
   ],
   "source": [
    "df_customers.dtypes\n"
   ],
   "metadata": {
    "collapsed": false,
    "pycharm": {
     "name": "#%%\n"
    }
   }
  },
  {
   "cell_type": "code",
   "execution_count": 164,
   "outputs": [],
   "source": [
    "# Converting object dtype to categorical\n",
    "categorical_columns = df_customers.select_dtypes(include='object').columns\n",
    "for categorical_column in categorical_columns:\n",
    "    if 'customer_id' not in categorical_column:\n",
    "        df_customers[categorical_column] = pd.Categorical(df_customers[categorical_column])\n"
   ],
   "metadata": {
    "collapsed": false,
    "pycharm": {
     "name": "#%%\n"
    }
   }
  },
  {
   "cell_type": "code",
   "execution_count": 165,
   "outputs": [
    {
     "data": {
      "text/plain": "customer_id                0.000000\nFN                        65.237831\nActive                    66.150819\nclub_member_status         0.441843\nfashion_news_frequency     1.166854\nage                        1.156066\npostal_code                0.000000\ndtype: float64"
     },
     "execution_count": 165,
     "metadata": {},
     "output_type": "execute_result"
    }
   ],
   "source": [
    "100.0 * df_customers.isnull().sum() / df_customers.shape[0]\n"
   ],
   "metadata": {
    "collapsed": false,
    "pycharm": {
     "name": "#%%\n"
    }
   }
  },
  {
   "cell_type": "code",
   "execution_count": 166,
   "outputs": [
    {
     "data": {
      "text/plain": "[16.0,\n 17.0,\n 18.0,\n 19.0,\n 20.0,\n 21.0,\n 22.0,\n 23.0,\n 24.0,\n 25.0,\n 26.0,\n 27.0,\n 28.0,\n 29.0,\n 30.0,\n 31.0,\n 32.0,\n 33.0,\n 34.0,\n 35.0,\n 38.0,\n 40.0,\n 41.0,\n 45.0,\n 48.0,\n 49.0,\n 52.0,\n 54.0,\n nan,\n 36.0,\n 37.0,\n 39.0,\n 42.0,\n 43.0,\n 44.0,\n 46.0,\n 47.0,\n 50.0,\n 51.0,\n 53.0,\n 55.0,\n 56.0,\n 57.0,\n 58.0,\n 59.0,\n 60.0,\n 61.0,\n 62.0,\n 63.0,\n 64.0,\n 65.0,\n 66.0,\n 67.0,\n 68.0,\n 69.0,\n 70.0,\n 71.0,\n 72.0,\n 73.0,\n 74.0,\n 75.0,\n 76.0,\n 77.0,\n 78.0,\n 79.0,\n 80.0,\n 81.0,\n 82.0,\n 83.0,\n 84.0,\n 85.0,\n 86.0,\n 87.0,\n 88.0,\n 89.0,\n 90.0,\n 91.0,\n 92.0,\n 93.0,\n 94.0,\n 95.0,\n 96.0,\n 97.0,\n 98.0,\n 99.0]"
     },
     "execution_count": 166,
     "metadata": {},
     "output_type": "execute_result"
    }
   ],
   "source": [
    "sorted(df_customers['age'].unique())"
   ],
   "metadata": {
    "collapsed": false,
    "pycharm": {
     "name": "#%%\n"
    }
   }
  },
  {
   "cell_type": "code",
   "execution_count": 167,
   "outputs": [
    {
     "data": {
      "text/plain": "age\n16.0      161\n17.0     9392\n18.0    24323\n19.0    37707\n20.0    55196\n        ...  \n95.0       10\n96.0        3\n97.0        4\n98.0        7\n99.0       13\nName: customer_id, Length: 84, dtype: int64"
     },
     "execution_count": 167,
     "metadata": {},
     "output_type": "execute_result"
    }
   ],
   "source": [
    "df_customers.groupby('age')['customer_id'].nunique()\n"
   ],
   "metadata": {
    "collapsed": false,
    "pycharm": {
     "name": "#%%\n"
    }
   }
  },
  {
   "cell_type": "code",
   "execution_count": 168,
   "outputs": [
    {
     "data": {
      "text/plain": "customer_id                    0\nFN                        895050\nActive                    907576\nclub_member_status          6062\nfashion_news_frequency     16009\nage                        15861\npostal_code                    0\ndtype: int64"
     },
     "execution_count": 168,
     "metadata": {},
     "output_type": "execute_result"
    }
   ],
   "source": [
    "df_customers.isnull().sum()"
   ],
   "metadata": {
    "collapsed": false,
    "pycharm": {
     "name": "#%%\n"
    }
   }
  },
  {
   "cell_type": "code",
   "execution_count": 169,
   "outputs": [
    {
     "data": {
      "text/plain": "                                               customer_id   FN  Active  \\\n0        00000dbacae5abe5e23885899a1fa44253a17956c6d1c3...  NaN     NaN   \n1        0000423b00ade91418cceaf3b26c6af3dd342b51fd051e...  NaN     NaN   \n2        000058a12d5b43e67d225668fa1f8d618c13dc232df0ca...  NaN     NaN   \n3        00005ca1c9ed5f5146b52ac8639a40ca9d57aeff4d1bd2...  NaN     NaN   \n4        00006413d8573cd20ed7128e53b7b13819fe5cfc2d801f...  1.0     1.0   \n...                                                    ...  ...     ...   \n1371975  ffffbbf78b6eaac697a8a5dfbfd2bfa8113ee5b403e474...  NaN     NaN   \n1371976  ffffcd5046a6143d29a04fb8c424ce494a76e5cdf4fab5...  NaN     NaN   \n1371977  ffffcf35913a0bee60e8741cb2b4e78b8a98ee5ff2e6a1...  1.0     1.0   \n1371978  ffffd7744cebcf3aca44ae7049d2a94b87074c3d4ffe38...  1.0     1.0   \n1371979  ffffd9ac14e89946416d80e791d064701994755c3ab686...  NaN     NaN   \n\n        club_member_status fashion_news_frequency   age  \\\n0                   ACTIVE                   NONE  49.0   \n1                   ACTIVE                   NONE  25.0   \n2                   ACTIVE                   NONE  24.0   \n3                   ACTIVE                   NONE  54.0   \n4                   ACTIVE              Regularly  52.0   \n...                    ...                    ...   ...   \n1371975             ACTIVE                   NONE  24.0   \n1371976             ACTIVE                   NONE  21.0   \n1371977             ACTIVE              Regularly  21.0   \n1371978             ACTIVE              Regularly  18.0   \n1371979         PRE-CREATE                   NONE  65.0   \n\n                                               postal_code  \n0        52043ee2162cf5aa7ee79974281641c6f11a68d276429a...  \n1        2973abc54daa8a5f8ccfe9362140c63247c5eee03f1d93...  \n2        64f17e6a330a85798e4998f62d0930d14db8db1c054af6...  \n3        5d36574f52495e81f019b680c843c443bd343d5ca5b1c2...  \n4        25fa5ddee9aac01b35208d01736e57942317d756b32ddd...  \n...                                                    ...  \n1371975  7aa399f7e669990daba2d92c577b52237380662f36480b...  \n1371976  3f47f1279beb72215f4de557d950e0bfa73789d24acb5e...  \n1371977  4563fc79215672cd6a863f2b4bf56b8f898f2d96ed590e...  \n1371978  8892c18e9bc3dca6aa4000cb8094fc4b51ee8db2ed14d7...  \n1371979  0a1a03306fb2f62164c2a439b38c0caa64b40deaae8687...  \n\n[1371980 rows x 7 columns]",
      "text/html": "<div>\n<style scoped>\n    .dataframe tbody tr th:only-of-type {\n        vertical-align: middle;\n    }\n\n    .dataframe tbody tr th {\n        vertical-align: top;\n    }\n\n    .dataframe thead th {\n        text-align: right;\n    }\n</style>\n<table border=\"1\" class=\"dataframe\">\n  <thead>\n    <tr style=\"text-align: right;\">\n      <th></th>\n      <th>customer_id</th>\n      <th>FN</th>\n      <th>Active</th>\n      <th>club_member_status</th>\n      <th>fashion_news_frequency</th>\n      <th>age</th>\n      <th>postal_code</th>\n    </tr>\n  </thead>\n  <tbody>\n    <tr>\n      <th>0</th>\n      <td>00000dbacae5abe5e23885899a1fa44253a17956c6d1c3...</td>\n      <td>NaN</td>\n      <td>NaN</td>\n      <td>ACTIVE</td>\n      <td>NONE</td>\n      <td>49.0</td>\n      <td>52043ee2162cf5aa7ee79974281641c6f11a68d276429a...</td>\n    </tr>\n    <tr>\n      <th>1</th>\n      <td>0000423b00ade91418cceaf3b26c6af3dd342b51fd051e...</td>\n      <td>NaN</td>\n      <td>NaN</td>\n      <td>ACTIVE</td>\n      <td>NONE</td>\n      <td>25.0</td>\n      <td>2973abc54daa8a5f8ccfe9362140c63247c5eee03f1d93...</td>\n    </tr>\n    <tr>\n      <th>2</th>\n      <td>000058a12d5b43e67d225668fa1f8d618c13dc232df0ca...</td>\n      <td>NaN</td>\n      <td>NaN</td>\n      <td>ACTIVE</td>\n      <td>NONE</td>\n      <td>24.0</td>\n      <td>64f17e6a330a85798e4998f62d0930d14db8db1c054af6...</td>\n    </tr>\n    <tr>\n      <th>3</th>\n      <td>00005ca1c9ed5f5146b52ac8639a40ca9d57aeff4d1bd2...</td>\n      <td>NaN</td>\n      <td>NaN</td>\n      <td>ACTIVE</td>\n      <td>NONE</td>\n      <td>54.0</td>\n      <td>5d36574f52495e81f019b680c843c443bd343d5ca5b1c2...</td>\n    </tr>\n    <tr>\n      <th>4</th>\n      <td>00006413d8573cd20ed7128e53b7b13819fe5cfc2d801f...</td>\n      <td>1.0</td>\n      <td>1.0</td>\n      <td>ACTIVE</td>\n      <td>Regularly</td>\n      <td>52.0</td>\n      <td>25fa5ddee9aac01b35208d01736e57942317d756b32ddd...</td>\n    </tr>\n    <tr>\n      <th>...</th>\n      <td>...</td>\n      <td>...</td>\n      <td>...</td>\n      <td>...</td>\n      <td>...</td>\n      <td>...</td>\n      <td>...</td>\n    </tr>\n    <tr>\n      <th>1371975</th>\n      <td>ffffbbf78b6eaac697a8a5dfbfd2bfa8113ee5b403e474...</td>\n      <td>NaN</td>\n      <td>NaN</td>\n      <td>ACTIVE</td>\n      <td>NONE</td>\n      <td>24.0</td>\n      <td>7aa399f7e669990daba2d92c577b52237380662f36480b...</td>\n    </tr>\n    <tr>\n      <th>1371976</th>\n      <td>ffffcd5046a6143d29a04fb8c424ce494a76e5cdf4fab5...</td>\n      <td>NaN</td>\n      <td>NaN</td>\n      <td>ACTIVE</td>\n      <td>NONE</td>\n      <td>21.0</td>\n      <td>3f47f1279beb72215f4de557d950e0bfa73789d24acb5e...</td>\n    </tr>\n    <tr>\n      <th>1371977</th>\n      <td>ffffcf35913a0bee60e8741cb2b4e78b8a98ee5ff2e6a1...</td>\n      <td>1.0</td>\n      <td>1.0</td>\n      <td>ACTIVE</td>\n      <td>Regularly</td>\n      <td>21.0</td>\n      <td>4563fc79215672cd6a863f2b4bf56b8f898f2d96ed590e...</td>\n    </tr>\n    <tr>\n      <th>1371978</th>\n      <td>ffffd7744cebcf3aca44ae7049d2a94b87074c3d4ffe38...</td>\n      <td>1.0</td>\n      <td>1.0</td>\n      <td>ACTIVE</td>\n      <td>Regularly</td>\n      <td>18.0</td>\n      <td>8892c18e9bc3dca6aa4000cb8094fc4b51ee8db2ed14d7...</td>\n    </tr>\n    <tr>\n      <th>1371979</th>\n      <td>ffffd9ac14e89946416d80e791d064701994755c3ab686...</td>\n      <td>NaN</td>\n      <td>NaN</td>\n      <td>PRE-CREATE</td>\n      <td>NONE</td>\n      <td>65.0</td>\n      <td>0a1a03306fb2f62164c2a439b38c0caa64b40deaae8687...</td>\n    </tr>\n  </tbody>\n</table>\n<p>1371980 rows × 7 columns</p>\n</div>"
     },
     "execution_count": 169,
     "metadata": {},
     "output_type": "execute_result"
    }
   ],
   "source": [
    "df_customers\n"
   ],
   "metadata": {
    "collapsed": false,
    "pycharm": {
     "name": "#%%\n"
    }
   }
  },
  {
   "cell_type": "code",
   "execution_count": 170,
   "outputs": [
    {
     "data": {
      "text/plain": "customer_id                    0\nFN                        895050\nActive                    907576\nclub_member_status          6062\nfashion_news_frequency     16009\nage                        15861\npostal_code                    0\ndtype: int64"
     },
     "execution_count": 170,
     "metadata": {},
     "output_type": "execute_result"
    }
   ],
   "source": [
    "df_customers.isnull().sum()\n"
   ],
   "metadata": {
    "collapsed": false,
    "pycharm": {
     "name": "#%%\n"
    }
   }
  },
  {
   "cell_type": "code",
   "execution_count": 171,
   "outputs": [
    {
     "data": {
      "text/plain": "customer_id                0.000000\nFN                        65.237831\nActive                    66.150819\nclub_member_status         0.441843\nfashion_news_frequency     1.166854\nage                        1.156066\npostal_code                0.000000\ndtype: float64"
     },
     "execution_count": 171,
     "metadata": {},
     "output_type": "execute_result"
    }
   ],
   "source": [
    "100.0 * df_customers.isnull().sum() / df_customers.shape[0]"
   ],
   "metadata": {
    "collapsed": false,
    "pycharm": {
     "name": "#%%\n"
    }
   }
  },
  {
   "cell_type": "code",
   "execution_count": 172,
   "outputs": [
    {
     "data": {
      "text/plain": "                                          customer_id   FN  Active  \\\n0   00000dbacae5abe5e23885899a1fa44253a17956c6d1c3...  NaN     NaN   \n1   0000423b00ade91418cceaf3b26c6af3dd342b51fd051e...  NaN     NaN   \n2   000058a12d5b43e67d225668fa1f8d618c13dc232df0ca...  NaN     NaN   \n3   00005ca1c9ed5f5146b52ac8639a40ca9d57aeff4d1bd2...  NaN     NaN   \n4   00006413d8573cd20ed7128e53b7b13819fe5cfc2d801f...  1.0     1.0   \n..                                                ...  ...     ...   \n95  00041bd4c669adc077b6488a2d23ee229a9ad962ab3ee7...  NaN     NaN   \n96  00045027219e894b683fb4687211e2d0c904c268e9f28d...  NaN     NaN   \n97  0004518be81f6f0dd216dc5699016bc159ebb9dbd62a76...  NaN     NaN   \n98  00045b41ba4df7a2e6c09093ec92873ea43a137cf2b24c...  NaN     NaN   \n99  0004690d2b68d5175697d197a86065595ef7b49c7c051b...  NaN     NaN   \n\n   club_member_status fashion_news_frequency   age  \\\n0              ACTIVE                   NONE  49.0   \n1              ACTIVE                   NONE  25.0   \n2              ACTIVE                   NONE  24.0   \n3              ACTIVE                   NONE  54.0   \n4              ACTIVE              Regularly  52.0   \n..                ...                    ...   ...   \n95         PRE-CREATE                   NONE  58.0   \n96             ACTIVE                   NONE  20.0   \n97             ACTIVE                   NONE  20.0   \n98             ACTIVE                   NONE  18.0   \n99         PRE-CREATE                   NONE   NaN   \n\n                                          postal_code  \n0   52043ee2162cf5aa7ee79974281641c6f11a68d276429a...  \n1   2973abc54daa8a5f8ccfe9362140c63247c5eee03f1d93...  \n2   64f17e6a330a85798e4998f62d0930d14db8db1c054af6...  \n3   5d36574f52495e81f019b680c843c443bd343d5ca5b1c2...  \n4   25fa5ddee9aac01b35208d01736e57942317d756b32ddd...  \n..                                                ...  \n95  ea731df2fc7625e27cb20ea1a17bb3255ddb125ef35459...  \n96  777fe14eafe75737a8e234db25da1d0e0c5009c3931f02...  \n97  2c29ae653a9282cce4151bd87643c907644e09541abc28...  \n98  2c29ae653a9282cce4151bd87643c907644e09541abc28...  \n99  d831ea0a55a7a7af0e3ff9da0d370e225242bbc7999d78...  \n\n[100 rows x 7 columns]",
      "text/html": "<div>\n<style scoped>\n    .dataframe tbody tr th:only-of-type {\n        vertical-align: middle;\n    }\n\n    .dataframe tbody tr th {\n        vertical-align: top;\n    }\n\n    .dataframe thead th {\n        text-align: right;\n    }\n</style>\n<table border=\"1\" class=\"dataframe\">\n  <thead>\n    <tr style=\"text-align: right;\">\n      <th></th>\n      <th>customer_id</th>\n      <th>FN</th>\n      <th>Active</th>\n      <th>club_member_status</th>\n      <th>fashion_news_frequency</th>\n      <th>age</th>\n      <th>postal_code</th>\n    </tr>\n  </thead>\n  <tbody>\n    <tr>\n      <th>0</th>\n      <td>00000dbacae5abe5e23885899a1fa44253a17956c6d1c3...</td>\n      <td>NaN</td>\n      <td>NaN</td>\n      <td>ACTIVE</td>\n      <td>NONE</td>\n      <td>49.0</td>\n      <td>52043ee2162cf5aa7ee79974281641c6f11a68d276429a...</td>\n    </tr>\n    <tr>\n      <th>1</th>\n      <td>0000423b00ade91418cceaf3b26c6af3dd342b51fd051e...</td>\n      <td>NaN</td>\n      <td>NaN</td>\n      <td>ACTIVE</td>\n      <td>NONE</td>\n      <td>25.0</td>\n      <td>2973abc54daa8a5f8ccfe9362140c63247c5eee03f1d93...</td>\n    </tr>\n    <tr>\n      <th>2</th>\n      <td>000058a12d5b43e67d225668fa1f8d618c13dc232df0ca...</td>\n      <td>NaN</td>\n      <td>NaN</td>\n      <td>ACTIVE</td>\n      <td>NONE</td>\n      <td>24.0</td>\n      <td>64f17e6a330a85798e4998f62d0930d14db8db1c054af6...</td>\n    </tr>\n    <tr>\n      <th>3</th>\n      <td>00005ca1c9ed5f5146b52ac8639a40ca9d57aeff4d1bd2...</td>\n      <td>NaN</td>\n      <td>NaN</td>\n      <td>ACTIVE</td>\n      <td>NONE</td>\n      <td>54.0</td>\n      <td>5d36574f52495e81f019b680c843c443bd343d5ca5b1c2...</td>\n    </tr>\n    <tr>\n      <th>4</th>\n      <td>00006413d8573cd20ed7128e53b7b13819fe5cfc2d801f...</td>\n      <td>1.0</td>\n      <td>1.0</td>\n      <td>ACTIVE</td>\n      <td>Regularly</td>\n      <td>52.0</td>\n      <td>25fa5ddee9aac01b35208d01736e57942317d756b32ddd...</td>\n    </tr>\n    <tr>\n      <th>...</th>\n      <td>...</td>\n      <td>...</td>\n      <td>...</td>\n      <td>...</td>\n      <td>...</td>\n      <td>...</td>\n      <td>...</td>\n    </tr>\n    <tr>\n      <th>95</th>\n      <td>00041bd4c669adc077b6488a2d23ee229a9ad962ab3ee7...</td>\n      <td>NaN</td>\n      <td>NaN</td>\n      <td>PRE-CREATE</td>\n      <td>NONE</td>\n      <td>58.0</td>\n      <td>ea731df2fc7625e27cb20ea1a17bb3255ddb125ef35459...</td>\n    </tr>\n    <tr>\n      <th>96</th>\n      <td>00045027219e894b683fb4687211e2d0c904c268e9f28d...</td>\n      <td>NaN</td>\n      <td>NaN</td>\n      <td>ACTIVE</td>\n      <td>NONE</td>\n      <td>20.0</td>\n      <td>777fe14eafe75737a8e234db25da1d0e0c5009c3931f02...</td>\n    </tr>\n    <tr>\n      <th>97</th>\n      <td>0004518be81f6f0dd216dc5699016bc159ebb9dbd62a76...</td>\n      <td>NaN</td>\n      <td>NaN</td>\n      <td>ACTIVE</td>\n      <td>NONE</td>\n      <td>20.0</td>\n      <td>2c29ae653a9282cce4151bd87643c907644e09541abc28...</td>\n    </tr>\n    <tr>\n      <th>98</th>\n      <td>00045b41ba4df7a2e6c09093ec92873ea43a137cf2b24c...</td>\n      <td>NaN</td>\n      <td>NaN</td>\n      <td>ACTIVE</td>\n      <td>NONE</td>\n      <td>18.0</td>\n      <td>2c29ae653a9282cce4151bd87643c907644e09541abc28...</td>\n    </tr>\n    <tr>\n      <th>99</th>\n      <td>0004690d2b68d5175697d197a86065595ef7b49c7c051b...</td>\n      <td>NaN</td>\n      <td>NaN</td>\n      <td>PRE-CREATE</td>\n      <td>NONE</td>\n      <td>NaN</td>\n      <td>d831ea0a55a7a7af0e3ff9da0d370e225242bbc7999d78...</td>\n    </tr>\n  </tbody>\n</table>\n<p>100 rows × 7 columns</p>\n</div>"
     },
     "execution_count": 172,
     "metadata": {},
     "output_type": "execute_result"
    }
   ],
   "source": [
    "df_customers.head(100)\n"
   ],
   "metadata": {
    "collapsed": false,
    "pycharm": {
     "name": "#%%\n"
    }
   }
  },
  {
   "cell_type": "code",
   "execution_count": 173,
   "outputs": [
    {
     "data": {
      "text/plain": "club_member_status\nACTIVE        1272491\nLEFT CLUB         467\nPRE-CREATE      92960\nName: customer_id, dtype: int64"
     },
     "execution_count": 173,
     "metadata": {},
     "output_type": "execute_result"
    }
   ],
   "source": [
    "df_customers.groupby('club_member_status')['customer_id'].nunique()"
   ],
   "metadata": {
    "collapsed": false,
    "pycharm": {
     "name": "#%%\n"
    }
   }
  },
  {
   "cell_type": "code",
   "execution_count": 174,
   "outputs": [
    {
     "data": {
      "text/plain": "fashion_news_frequency\nMonthly         842\nNONE         877711\nNone              2\nRegularly    477416\nName: customer_id, dtype: int64"
     },
     "execution_count": 174,
     "metadata": {},
     "output_type": "execute_result"
    }
   ],
   "source": [
    "df_customers.groupby('fashion_news_frequency')['customer_id'].nunique()\n"
   ],
   "metadata": {
    "collapsed": false,
    "pycharm": {
     "name": "#%%\n"
    }
   }
  },
  {
   "cell_type": "code",
   "execution_count": 175,
   "outputs": [
    {
     "data": {
      "text/plain": "['NONE', 'Regularly', NaN, 'Monthly', 'None']\nCategories (4, object): ['NONE', 'Regularly', 'Monthly', 'None']"
     },
     "execution_count": 175,
     "metadata": {},
     "output_type": "execute_result"
    }
   ],
   "source": [
    "df_customers['fashion_news_frequency'].unique()\n"
   ],
   "metadata": {
    "collapsed": false,
    "pycharm": {
     "name": "#%%\n"
    }
   }
  },
  {
   "cell_type": "code",
   "execution_count": 176,
   "outputs": [
    {
     "data": {
      "text/plain": "<Figure size 720x360 with 1 Axes>",
      "image/png": "[encoded data removed]"
     },
     "metadata": {
      "needs_background": "light"
     },
     "output_type": "display_data"
    }
   ],
   "source": [
    "fig, ax = plt.subplots(figsize=(10,5))\n",
    "ax = sns.histplot(data=df_customers, x='age', bins=df_customers['age'].nunique(), color='orange', stat=\"percent\")\n",
    "ax.set_xlabel('Distribution of the customers age')\n",
    "for loc in ['bottom', 'left']:\n",
    "    ax.spines[loc].set_visible(True)\n",
    "    ax.spines[loc].set_linewidth(2)\n",
    "    ax.spines[loc].set_color('black')\n",
    "plt.show()"
   ],
   "metadata": {
    "collapsed": false,
    "pycharm": {
     "name": "#%%\n"
    }
   }
  },
  {
   "cell_type": "code",
   "execution_count": 177,
   "outputs": [
    {
     "data": {
      "text/plain": "<Figure size 720x360 with 1 Axes>",
      "image/png": "[encoded data removed]"
     },
     "metadata": {
      "needs_background": "light"
     },
     "output_type": "display_data"
    }
   ],
   "source": [
    "fig, ax = plt.subplots(figsize=(10,5))\n",
    "ax = sns.histplot(data=df_customers[df_customers.FN==1], x='age', bins=df_customers[df_customers.FN==1]['age'].nunique(), color='orange', stat=\"percent\")\n",
    "ax.set_xlabel('Distribution of the customers age')\n",
    "for loc in ['bottom', 'left']:\n",
    "    ax.spines[loc].set_visible(True)\n",
    "    ax.spines[loc].set_linewidth(2)\n",
    "    ax.spines[loc].set_color('black')\n",
    "plt.show()\n",
    "\n",
    "\n"
   ],
   "metadata": {
    "collapsed": false,
    "pycharm": {
     "name": "#%%\n"
    }
   }
  },
  {
   "cell_type": "code",
   "execution_count": 178,
   "outputs": [
    {
     "data": {
      "text/plain": "<Figure size 720x360 with 1 Axes>",
      "image/png": "[encoded data removed]"
     },
     "metadata": {
      "needs_background": "light"
     },
     "output_type": "display_data"
    }
   ],
   "source": [
    "fig, ax = plt.subplots(figsize=(10,5))\n",
    "ax = sns.histplot(data=df_customers, x='club_member_status', bins=df_customers['club_member_status'].nunique(), color='orange', stat=\"percent\")\n",
    "ax.set_xlabel('Distribution of the club_member_status')\n",
    "for loc in ['bottom', 'left']:\n",
    "    ax.spines[loc].set_visible(True)\n",
    "    ax.spines[loc].set_linewidth(2)\n",
    "    ax.spines[loc].set_color('black')\n",
    "plt.show()"
   ],
   "metadata": {
    "collapsed": false,
    "pycharm": {
     "name": "#%%\n"
    }
   }
  },
  {
   "cell_type": "code",
   "execution_count": 179,
   "outputs": [
    {
     "data": {
      "text/plain": "<Figure size 720x360 with 1 Axes>",
      "image/png": "[encoded data removed]"
     },
     "metadata": {
      "needs_background": "light"
     },
     "output_type": "display_data"
    }
   ],
   "source": [
    "fig, ax = plt.subplots(figsize=(10,5))\n",
    "ax = sns.histplot(data=df_customers[df_customers.FN==1], x='club_member_status', bins=df_customers[df_customers.FN==1]['club_member_status'].nunique(), color='orange', stat=\"percent\")\n",
    "ax.set_xlabel('Distribution of the club_member_status')\n",
    "for loc in ['bottom', 'left']:\n",
    "    ax.spines[loc].set_visible(True)\n",
    "    ax.spines[loc].set_linewidth(2)\n",
    "    ax.spines[loc].set_color('black')\n",
    "plt.show()"
   ],
   "metadata": {
    "collapsed": false,
    "pycharm": {
     "name": "#%%\n"
    }
   }
  },
  {
   "cell_type": "code",
   "execution_count": 180,
   "outputs": [
    {
     "data": {
      "text/plain": "<Figure size 720x360 with 1 Axes>",
      "image/png": "[encoded data removed]"
     },
     "metadata": {
      "needs_background": "light"
     },
     "output_type": "display_data"
    }
   ],
   "source": [
    "fig, ax = plt.subplots(figsize=(10,5))\n",
    "ax = sns.histplot(data=df_customers, x='fashion_news_frequency', bins=df_customers['fashion_news_frequency'].nunique(), color='orange', stat=\"percent\")\n",
    "ax.set_xlabel('Distribution of the fashion_news_frequency')\n",
    "for loc in ['bottom', 'left']:\n",
    "    ax.spines[loc].set_visible(True)\n",
    "    ax.spines[loc].set_linewidth(2)\n",
    "    ax.spines[loc].set_color('black')\n",
    "plt.show()"
   ],
   "metadata": {
    "collapsed": false,
    "pycharm": {
     "name": "#%%\n"
    }
   }
  },
  {
   "cell_type": "code",
   "execution_count": 181,
   "outputs": [
    {
     "data": {
      "text/plain": "<Figure size 720x360 with 1 Axes>",
      "image/png": "[encoded data removed]"
     },
     "metadata": {
      "needs_background": "light"
     },
     "output_type": "display_data"
    }
   ],
   "source": [
    "fig, ax = plt.subplots(figsize=(10,5))\n",
    "ax = sns.histplot(data=df_customers[df_customers.FN==1], x='fashion_news_frequency', bins=df_customers[df_customers.FN==1]['fashion_news_frequency'].nunique(), color='orange', stat=\"percent\")\n",
    "ax.set_xlabel('Distribution of the fashion_news_frequency')\n",
    "for loc in ['bottom', 'left']:\n",
    "    ax.spines[loc].set_visible(True)\n",
    "    ax.spines[loc].set_linewidth(2)\n",
    "    ax.spines[loc].set_color('black')\n",
    "plt.show()"
   ],
   "metadata": {
    "collapsed": false,
    "pycharm": {
     "name": "#%%\n"
    }
   }
  },
  {
   "cell_type": "code",
   "execution_count": 182,
   "outputs": [
    {
     "data": {
      "text/plain": "<Figure size 720x360 with 1 Axes>",
      "image/png": "[encoded data removed]"
     },
     "metadata": {
      "needs_background": "light"
     },
     "output_type": "display_data"
    }
   ],
   "source": [
    "fig, ax = plt.subplots(figsize=(10,5))\n",
    "ax = sns.histplot(data=df_customers[df_customers.Active==1], x='age', bins=df_customers[df_customers.Active==1]['age'].nunique(), color='orange', stat=\"percent\")\n",
    "ax.set_xlabel('Distribution of the customers age')\n",
    "for loc in ['bottom', 'left']:\n",
    "    ax.spines[loc].set_visible(True)\n",
    "    ax.spines[loc].set_linewidth(2)\n",
    "    ax.spines[loc].set_color('black')\n",
    "plt.show()\n"
   ],
   "metadata": {
    "collapsed": false,
    "pycharm": {
     "name": "#%%\n"
    }
   }
  },
  {
   "cell_type": "code",
   "execution_count": 184,
   "outputs": [
    {
     "data": {
      "text/plain": "2c29ae653a9282cce4151bd87643c907644e09541abc28ae87dea0d1f6603b1c    120303\ncc4ed85e30f4977dae47662ddc468cd2eec11472de6fac5ec985080fd92243c8       261\n714976379549eb90aae4a71bca6c7402cc646ae7c40f6c1cb91d4b5a18623fc1       159\n7c1fa3b0ec1d37ce2c3f34f63bd792f3b4494f324b6be5d1e4ba6a75456b96a7       157\n5b7eb31eabebd3277de632b82267286d847fd5d44287ee150bb4206b48439145       156\n1f5bd429acc88fbbf24de844a59e438704aa8761bc7b99fd977cad297c50b74c       154\n9d5787501bf1c77592156ba51eab13f4a2670c807686431a9e22a69090b02358       141\na1959a16bf167858c93a66ec2a330644512b25fb10f97eee2058549885af4dbd       138\n087a46b65170845b4a55226ff1eb748ce7843d4b637cbe17f6bfbd1e645d2ffb       134\n4d22901a97bd952bb92cdd31b38c39b41dd3250a735cabdfac1503eb405b807d       132\nName: postal_code, dtype: int64"
     },
     "execution_count": 184,
     "metadata": {},
     "output_type": "execute_result"
    }
   ],
   "source": [
    "perceived_postal_code = df_customers['postal_code'].value_counts()\n",
    "perceived_postal_code.head(10)"
   ],
   "metadata": {
    "collapsed": false,
    "pycharm": {
     "name": "#%%\n"
    }
   }
  },
  {
   "cell_type": "code",
   "execution_count": 188,
   "outputs": [
    {
     "data": {
      "text/plain": "(352899, 1371980)"
     },
     "execution_count": 188,
     "metadata": {},
     "output_type": "execute_result"
    }
   ],
   "source": [
    "df_customers['postal_code'].nunique(),df_customers['postal_code'].count()"
   ],
   "metadata": {
    "collapsed": false,
    "pycharm": {
     "name": "#%%\n"
    }
   }
  },
  {
   "cell_type": "code",
   "execution_count": 193,
   "outputs": [
    {
     "data": {
      "text/plain": "191659     23b7e974d88a6373ba0e02fd39b1a048dec0ac8a9b4ed0...\n232150     2b5284f19d272d7b7f1006289566076d72a7f097feb03f...\n293547     36d219eb822d04d07e5bb31e39caffefc17da81ff4a19b...\n307448     39719241efb3559eca60886d58f0fe01cbf8d5efea0e25...\n316525     3b28156770e0a17436b29831e41394528f74b4ec2c37d3...\n318986     3b9ec1854ba779c3c11389985299e642b5779947ff8395...\n559892     687c675e64e5f5d962c99ebf915da230be8c907a65a1d5...\n628882     7558adbc0401acdd74a7c8633ad97d25979e9859b8abca...\n857736     a01bd2e0e8bbf8db61f0e623a05325cde84955a37415b7...\n860989     a0b9e2473f699821b72833824a3e95972862039a49c5e9...\n868311     a2106ba216f519880fbebd7a1fe1929802ac1258adabbf...\n1246886    e8b2a7bf44f42e808d58299c53e6e1ad47178d7d457f82...\n1278960    eeaeb36eecef27871a0fe587858906e5f28d43872f6a4a...\nName: customer_id, dtype: object"
     },
     "execution_count": 193,
     "metadata": {},
     "output_type": "execute_result"
    }
   ],
   "source": [
    "df_customers[df_customers.age==99].customer_id"
   ],
   "metadata": {
    "collapsed": false,
    "pycharm": {
     "name": "#%%\n"
    }
   }
  },
  {
   "cell_type": "code",
   "execution_count": 208,
   "outputs": [],
   "source": [
    "df3=df_customers.set_index('customer_id').join(df_transactions.set_index('customer_id'))"
   ],
   "metadata": {
    "collapsed": false,
    "pycharm": {
     "name": "#%%\n"
    }
   }
  },
  {
   "cell_type": "code",
   "execution_count": 210,
   "outputs": [
    {
     "data": {
      "text/plain": "                                                     FN  Active  \\\ncustomer_id                                                       \n23b7e974d88a6373ba0e02fd39b1a048dec0ac8a9b4ed09...  NaN     NaN   \n23b7e974d88a6373ba0e02fd39b1a048dec0ac8a9b4ed09...  NaN     NaN   \n2b5284f19d272d7b7f1006289566076d72a7f097feb03f5...  NaN     NaN   \n2b5284f19d272d7b7f1006289566076d72a7f097feb03f5...  NaN     NaN   \n2b5284f19d272d7b7f1006289566076d72a7f097feb03f5...  NaN     NaN   \n...                                                 ...     ...   \neeaeb36eecef27871a0fe587858906e5f28d43872f6a4aa...  1.0     1.0   \neeaeb36eecef27871a0fe587858906e5f28d43872f6a4aa...  1.0     1.0   \neeaeb36eecef27871a0fe587858906e5f28d43872f6a4aa...  1.0     1.0   \neeaeb36eecef27871a0fe587858906e5f28d43872f6a4aa...  1.0     1.0   \neeaeb36eecef27871a0fe587858906e5f28d43872f6a4aa...  1.0     1.0   \n\n                                                   club_member_status  \\\ncustomer_id                                                             \n23b7e974d88a6373ba0e02fd39b1a048dec0ac8a9b4ed09...             ACTIVE   \n23b7e974d88a6373ba0e02fd39b1a048dec0ac8a9b4ed09...             ACTIVE   \n2b5284f19d272d7b7f1006289566076d72a7f097feb03f5...             ACTIVE   \n2b5284f19d272d7b7f1006289566076d72a7f097feb03f5...             ACTIVE   \n2b5284f19d272d7b7f1006289566076d72a7f097feb03f5...             ACTIVE   \n...                                                               ...   \neeaeb36eecef27871a0fe587858906e5f28d43872f6a4aa...             ACTIVE   \neeaeb36eecef27871a0fe587858906e5f28d43872f6a4aa...             ACTIVE   \neeaeb36eecef27871a0fe587858906e5f28d43872f6a4aa...             ACTIVE   \neeaeb36eecef27871a0fe587858906e5f28d43872f6a4aa...             ACTIVE   \neeaeb36eecef27871a0fe587858906e5f28d43872f6a4aa...             ACTIVE   \n\n                                                   fashion_news_frequency  \\\ncustomer_id                                                                 \n23b7e974d88a6373ba0e02fd39b1a048dec0ac8a9b4ed09...                   NONE   \n23b7e974d88a6373ba0e02fd39b1a048dec0ac8a9b4ed09...                   NONE   \n2b5284f19d272d7b7f1006289566076d72a7f097feb03f5...                   NONE   \n2b5284f19d272d7b7f1006289566076d72a7f097feb03f5...                   NONE   \n2b5284f19d272d7b7f1006289566076d72a7f097feb03f5...                   NONE   \n...                                                                   ...   \neeaeb36eecef27871a0fe587858906e5f28d43872f6a4aa...              Regularly   \neeaeb36eecef27871a0fe587858906e5f28d43872f6a4aa...              Regularly   \neeaeb36eecef27871a0fe587858906e5f28d43872f6a4aa...              Regularly   \neeaeb36eecef27871a0fe587858906e5f28d43872f6a4aa...              Regularly   \neeaeb36eecef27871a0fe587858906e5f28d43872f6a4aa...              Regularly   \n\n                                                     age  \\\ncustomer_id                                                \n23b7e974d88a6373ba0e02fd39b1a048dec0ac8a9b4ed09...  99.0   \n23b7e974d88a6373ba0e02fd39b1a048dec0ac8a9b4ed09...  99.0   \n2b5284f19d272d7b7f1006289566076d72a7f097feb03f5...  99.0   \n2b5284f19d272d7b7f1006289566076d72a7f097feb03f5...  99.0   \n2b5284f19d272d7b7f1006289566076d72a7f097feb03f5...  99.0   \n...                                                  ...   \neeaeb36eecef27871a0fe587858906e5f28d43872f6a4aa...  99.0   \neeaeb36eecef27871a0fe587858906e5f28d43872f6a4aa...  99.0   \neeaeb36eecef27871a0fe587858906e5f28d43872f6a4aa...  99.0   \neeaeb36eecef27871a0fe587858906e5f28d43872f6a4aa...  99.0   \neeaeb36eecef27871a0fe587858906e5f28d43872f6a4aa...  99.0   \n\n                                                                                          postal_code  \\\ncustomer_id                                                                                             \n23b7e974d88a6373ba0e02fd39b1a048dec0ac8a9b4ed09...  4cae8633de56064a17826b7da3feb760f2c152a93164d1...   \n23b7e974d88a6373ba0e02fd39b1a048dec0ac8a9b4ed09...  4cae8633de56064a17826b7da3feb760f2c152a93164d1...   \n2b5284f19d272d7b7f1006289566076d72a7f097feb03f5...  8321392df5bfee24de6920492d8c9810f4bd422d0a527e...   \n2b5284f19d272d7b7f1006289566076d72a7f097feb03f5...  8321392df5bfee24de6920492d8c9810f4bd422d0a527e...   \n2b5284f19d272d7b7f1006289566076d72a7f097feb03f5...  8321392df5bfee24de6920492d8c9810f4bd422d0a527e...   \n...                                                                                               ...   \neeaeb36eecef27871a0fe587858906e5f28d43872f6a4aa...  2c29ae653a9282cce4151bd87643c907644e09541abc28...   \neeaeb36eecef27871a0fe587858906e5f28d43872f6a4aa...  2c29ae653a9282cce4151bd87643c907644e09541abc28...   \neeaeb36eecef27871a0fe587858906e5f28d43872f6a4aa...  2c29ae653a9282cce4151bd87643c907644e09541abc28...   \neeaeb36eecef27871a0fe587858906e5f28d43872f6a4aa...  2c29ae653a9282cce4151bd87643c907644e09541abc28...   \neeaeb36eecef27871a0fe587858906e5f28d43872f6a4aa...  2c29ae653a9282cce4151bd87643c907644e09541abc28...   \n\n                                                         t_dat   article_id  \\\ncustomer_id                                                                   \n23b7e974d88a6373ba0e02fd39b1a048dec0ac8a9b4ed09...  2019-05-27  534164001.0   \n23b7e974d88a6373ba0e02fd39b1a048dec0ac8a9b4ed09...  2019-05-27  596877005.0   \n2b5284f19d272d7b7f1006289566076d72a7f097feb03f5...  2019-05-01  717490002.0   \n2b5284f19d272d7b7f1006289566076d72a7f097feb03f5...  2019-05-01  618800001.0   \n2b5284f19d272d7b7f1006289566076d72a7f097feb03f5...  2019-05-01  711053004.0   \n...                                                        ...          ...   \neeaeb36eecef27871a0fe587858906e5f28d43872f6a4aa...  2019-01-16  685816006.0   \neeaeb36eecef27871a0fe587858906e5f28d43872f6a4aa...  2019-01-16  683020001.0   \neeaeb36eecef27871a0fe587858906e5f28d43872f6a4aa...  2019-01-16  679525003.0   \neeaeb36eecef27871a0fe587858906e5f28d43872f6a4aa...  2019-01-16  463970031.0   \neeaeb36eecef27871a0fe587858906e5f28d43872f6a4aa...  2019-01-16  529008031.0   \n\n                                                       price  sales_channel_id  \ncustomer_id                                                                     \n23b7e974d88a6373ba0e02fd39b1a048dec0ac8a9b4ed09...  0.033881               2.0  \n23b7e974d88a6373ba0e02fd39b1a048dec0ac8a9b4ed09...  0.042356               2.0  \n2b5284f19d272d7b7f1006289566076d72a7f097feb03f5...  0.008458               2.0  \n2b5284f19d272d7b7f1006289566076d72a7f097feb03f5...  0.033881               2.0  \n2b5284f19d272d7b7f1006289566076d72a7f097feb03f5...  0.013542               2.0  \n...                                                      ...               ...  \neeaeb36eecef27871a0fe587858906e5f28d43872f6a4aa...  0.007610               1.0  \neeaeb36eecef27871a0fe587858906e5f28d43872f6a4aa...  0.015254               1.0  \neeaeb36eecef27871a0fe587858906e5f28d43872f6a4aa...  0.045746               1.0  \neeaeb36eecef27871a0fe587858906e5f28d43872f6a4aa...  0.019814               1.0  \neeaeb36eecef27871a0fe587858906e5f28d43872f6a4aa...  0.022864               1.0  \n\n[98 rows x 10 columns]",
      "text/html": "<div>\n<style scoped>\n    .dataframe tbody tr th:only-of-type {\n        vertical-align: middle;\n    }\n\n    .dataframe tbody tr th {\n        vertical-align: top;\n    }\n\n    .dataframe thead th {\n        text-align: right;\n    }\n</style>\n<table border=\"1\" class=\"dataframe\">\n  <thead>\n    <tr style=\"text-align: right;\">\n      <th></th>\n      <th>FN</th>\n      <th>Active</th>\n      <th>club_member_status</th>\n      <th>fashion_news_frequency</th>\n      <th>age</th>\n      <th>postal_code</th>\n      <th>t_dat</th>\n      <th>article_id</th>\n      <th>price</th>\n      <th>sales_channel_id</th>\n    </tr>\n    <tr>\n      <th>customer_id</th>\n      <th></th>\n      <th></th>\n      <th></th>\n      <th></th>\n      <th></th>\n      <th></th>\n      <th></th>\n      <th></th>\n      <th></th>\n      <th></th>\n    </tr>\n  </thead>\n  <tbody>\n    <tr>\n      <th>23b7e974d88a6373ba0e02fd39b1a048dec0ac8a9b4ed0924003803ed5e1f694</th>\n      <td>NaN</td>\n      <td>NaN</td>\n      <td>ACTIVE</td>\n      <td>NONE</td>\n      <td>99.0</td>\n      <td>4cae8633de56064a17826b7da3feb760f2c152a93164d1...</td>\n      <td>2019-05-27</td>\n      <td>534164001.0</td>\n      <td>0.033881</td>\n      <td>2.0</td>\n    </tr>\n    <tr>\n      <th>23b7e974d88a6373ba0e02fd39b1a048dec0ac8a9b4ed0924003803ed5e1f694</th>\n      <td>NaN</td>\n      <td>NaN</td>\n      <td>ACTIVE</td>\n      <td>NONE</td>\n      <td>99.0</td>\n      <td>4cae8633de56064a17826b7da3feb760f2c152a93164d1...</td>\n      <td>2019-05-27</td>\n      <td>596877005.0</td>\n      <td>0.042356</td>\n      <td>2.0</td>\n    </tr>\n    <tr>\n      <th>2b5284f19d272d7b7f1006289566076d72a7f097feb03f5c3e03ab39aa5bcc36</th>\n      <td>NaN</td>\n      <td>NaN</td>\n      <td>ACTIVE</td>\n      <td>NONE</td>\n      <td>99.0</td>\n      <td>8321392df5bfee24de6920492d8c9810f4bd422d0a527e...</td>\n      <td>2019-05-01</td>\n      <td>717490002.0</td>\n      <td>0.008458</td>\n      <td>2.0</td>\n    </tr>\n    <tr>\n      <th>2b5284f19d272d7b7f1006289566076d72a7f097feb03f5c3e03ab39aa5bcc36</th>\n      <td>NaN</td>\n      <td>NaN</td>\n      <td>ACTIVE</td>\n      <td>NONE</td>\n      <td>99.0</td>\n      <td>8321392df5bfee24de6920492d8c9810f4bd422d0a527e...</td>\n      <td>2019-05-01</td>\n      <td>618800001.0</td>\n      <td>0.033881</td>\n      <td>2.0</td>\n    </tr>\n    <tr>\n      <th>2b5284f19d272d7b7f1006289566076d72a7f097feb03f5c3e03ab39aa5bcc36</th>\n      <td>NaN</td>\n      <td>NaN</td>\n      <td>ACTIVE</td>\n      <td>NONE</td>\n      <td>99.0</td>\n      <td>8321392df5bfee24de6920492d8c9810f4bd422d0a527e...</td>\n      <td>2019-05-01</td>\n      <td>711053004.0</td>\n      <td>0.013542</td>\n      <td>2.0</td>\n    </tr>\n    <tr>\n      <th>...</th>\n      <td>...</td>\n      <td>...</td>\n      <td>...</td>\n      <td>...</td>\n      <td>...</td>\n      <td>...</td>\n      <td>...</td>\n      <td>...</td>\n      <td>...</td>\n      <td>...</td>\n    </tr>\n    <tr>\n      <th>eeaeb36eecef27871a0fe587858906e5f28d43872f6a4aa561ff78947124c39d</th>\n      <td>1.0</td>\n      <td>1.0</td>\n      <td>ACTIVE</td>\n      <td>Regularly</td>\n      <td>99.0</td>\n      <td>2c29ae653a9282cce4151bd87643c907644e09541abc28...</td>\n      <td>2019-01-16</td>\n      <td>685816006.0</td>\n      <td>0.007610</td>\n      <td>1.0</td>\n    </tr>\n    <tr>\n      <th>eeaeb36eecef27871a0fe587858906e5f28d43872f6a4aa561ff78947124c39d</th>\n      <td>1.0</td>\n      <td>1.0</td>\n      <td>ACTIVE</td>\n      <td>Regularly</td>\n      <td>99.0</td>\n      <td>2c29ae653a9282cce4151bd87643c907644e09541abc28...</td>\n      <td>2019-01-16</td>\n      <td>683020001.0</td>\n      <td>0.015254</td>\n      <td>1.0</td>\n    </tr>\n    <tr>\n      <th>eeaeb36eecef27871a0fe587858906e5f28d43872f6a4aa561ff78947124c39d</th>\n      <td>1.0</td>\n      <td>1.0</td>\n      <td>ACTIVE</td>\n      <td>Regularly</td>\n      <td>99.0</td>\n      <td>2c29ae653a9282cce4151bd87643c907644e09541abc28...</td>\n      <td>2019-01-16</td>\n      <td>679525003.0</td>\n      <td>0.045746</td>\n      <td>1.0</td>\n    </tr>\n    <tr>\n      <th>eeaeb36eecef27871a0fe587858906e5f28d43872f6a4aa561ff78947124c39d</th>\n      <td>1.0</td>\n      <td>1.0</td>\n      <td>ACTIVE</td>\n      <td>Regularly</td>\n      <td>99.0</td>\n      <td>2c29ae653a9282cce4151bd87643c907644e09541abc28...</td>\n      <td>2019-01-16</td>\n      <td>463970031.0</td>\n      <td>0.019814</td>\n      <td>1.0</td>\n    </tr>\n    <tr>\n      <th>eeaeb36eecef27871a0fe587858906e5f28d43872f6a4aa561ff78947124c39d</th>\n      <td>1.0</td>\n      <td>1.0</td>\n      <td>ACTIVE</td>\n      <td>Regularly</td>\n      <td>99.0</td>\n      <td>2c29ae653a9282cce4151bd87643c907644e09541abc28...</td>\n      <td>2019-01-16</td>\n      <td>529008031.0</td>\n      <td>0.022864</td>\n      <td>1.0</td>\n    </tr>\n  </tbody>\n</table>\n<p>98 rows × 10 columns</p>\n</div>"
     },
     "execution_count": 210,
     "metadata": {},
     "output_type": "execute_result"
    }
   ],
   "source": [
    "df3[df3.age==99]\n"
   ],
   "metadata": {
    "collapsed": false,
    "pycharm": {
     "name": "#%%\n"
    }
   }
  },
  {
   "cell_type": "code",
   "execution_count": 203,
   "outputs": [
    {
     "data": {
      "text/plain": "        t_dat                                        customer_id  article_id  \\\n0  2018-09-20  000058a12d5b43e67d225668fa1f8d618c13dc232df0ca...   663713001   \n1  2018-09-20  000058a12d5b43e67d225668fa1f8d618c13dc232df0ca...   541518023   \n2  2018-09-20  00007d2de826758b65a93dd24ce629ed66842531df6699...   505221004   \n3  2018-09-20  00007d2de826758b65a93dd24ce629ed66842531df6699...   685687003   \n4  2018-09-20  00007d2de826758b65a93dd24ce629ed66842531df6699...   685687004   \n\n      price  sales_channel_id  \n0  0.050831                 2  \n1  0.030492                 2  \n2  0.015237                 2  \n3  0.016932                 2  \n4  0.016932                 2  ",
      "text/html": "<div>\n<style scoped>\n    .dataframe tbody tr th:only-of-type {\n        vertical-align: middle;\n    }\n\n    .dataframe tbody tr th {\n        vertical-align: top;\n    }\n\n    .dataframe thead th {\n        text-align: right;\n    }\n</style>\n<table border=\"1\" class=\"dataframe\">\n  <thead>\n    <tr style=\"text-align: right;\">\n      <th></th>\n      <th>t_dat</th>\n      <th>customer_id</th>\n      <th>article_id</th>\n      <th>price</th>\n      <th>sales_channel_id</th>\n    </tr>\n  </thead>\n  <tbody>\n    <tr>\n      <th>0</th>\n      <td>2018-09-20</td>\n      <td>000058a12d5b43e67d225668fa1f8d618c13dc232df0ca...</td>\n      <td>663713001</td>\n      <td>0.050831</td>\n      <td>2</td>\n    </tr>\n    <tr>\n      <th>1</th>\n      <td>2018-09-20</td>\n      <td>000058a12d5b43e67d225668fa1f8d618c13dc232df0ca...</td>\n      <td>541518023</td>\n      <td>0.030492</td>\n      <td>2</td>\n    </tr>\n    <tr>\n      <th>2</th>\n      <td>2018-09-20</td>\n      <td>00007d2de826758b65a93dd24ce629ed66842531df6699...</td>\n      <td>505221004</td>\n      <td>0.015237</td>\n      <td>2</td>\n    </tr>\n    <tr>\n      <th>3</th>\n      <td>2018-09-20</td>\n      <td>00007d2de826758b65a93dd24ce629ed66842531df6699...</td>\n      <td>685687003</td>\n      <td>0.016932</td>\n      <td>2</td>\n    </tr>\n    <tr>\n      <th>4</th>\n      <td>2018-09-20</td>\n      <td>00007d2de826758b65a93dd24ce629ed66842531df6699...</td>\n      <td>685687004</td>\n      <td>0.016932</td>\n      <td>2</td>\n    </tr>\n  </tbody>\n</table>\n</div>"
     },
     "execution_count": 203,
     "metadata": {},
     "output_type": "execute_result"
    }
   ],
   "source": [
    "df_transactions.head()\n"
   ],
   "metadata": {
    "collapsed": false,
    "pycharm": {
     "name": "#%%\n"
    }
   }
  },
  {
   "cell_type": "code",
   "execution_count": 257,
   "outputs": [
    {
     "data": {
      "text/plain": "                                               customer_id club_member_status  \\\n0        00000dbacae5abe5e23885899a1fa44253a17956c6d1c3...             ACTIVE   \n1        0000423b00ade91418cceaf3b26c6af3dd342b51fd051e...             ACTIVE   \n2        000058a12d5b43e67d225668fa1f8d618c13dc232df0ca...             ACTIVE   \n3        00005ca1c9ed5f5146b52ac8639a40ca9d57aeff4d1bd2...             ACTIVE   \n4        00006413d8573cd20ed7128e53b7b13819fe5cfc2d801f...             ACTIVE   \n...                                                    ...                ...   \n1371975  ffffbbf78b6eaac697a8a5dfbfd2bfa8113ee5b403e474...             ACTIVE   \n1371976  ffffcd5046a6143d29a04fb8c424ce494a76e5cdf4fab5...             ACTIVE   \n1371977  ffffcf35913a0bee60e8741cb2b4e78b8a98ee5ff2e6a1...             ACTIVE   \n1371978  ffffd7744cebcf3aca44ae7049d2a94b87074c3d4ffe38...             ACTIVE   \n1371979  ffffd9ac14e89946416d80e791d064701994755c3ab686...         PRE-CREATE   \n\n        fashion_news_frequency   age  \\\n0                         NONE  49.0   \n1                         NONE  25.0   \n2                         NONE  24.0   \n3                         NONE  54.0   \n4                    Regularly  52.0   \n...                        ...   ...   \n1371975                   NONE  24.0   \n1371976                   NONE  21.0   \n1371977              Regularly  21.0   \n1371978              Regularly  18.0   \n1371979                   NONE  65.0   \n\n                                               postal_code  \n0        52043ee2162cf5aa7ee79974281641c6f11a68d276429a...  \n1        2973abc54daa8a5f8ccfe9362140c63247c5eee03f1d93...  \n2        64f17e6a330a85798e4998f62d0930d14db8db1c054af6...  \n3        5d36574f52495e81f019b680c843c443bd343d5ca5b1c2...  \n4        25fa5ddee9aac01b35208d01736e57942317d756b32ddd...  \n...                                                    ...  \n1371975  7aa399f7e669990daba2d92c577b52237380662f36480b...  \n1371976  3f47f1279beb72215f4de557d950e0bfa73789d24acb5e...  \n1371977  4563fc79215672cd6a863f2b4bf56b8f898f2d96ed590e...  \n1371978  8892c18e9bc3dca6aa4000cb8094fc4b51ee8db2ed14d7...  \n1371979  0a1a03306fb2f62164c2a439b38c0caa64b40deaae8687...  \n\n[1371980 rows x 5 columns]",
      "text/html": "<div>\n<style scoped>\n    .dataframe tbody tr th:only-of-type {\n        vertical-align: middle;\n    }\n\n    .dataframe tbody tr th {\n        vertical-align: top;\n    }\n\n    .dataframe thead th {\n        text-align: right;\n    }\n</style>\n<table border=\"1\" class=\"dataframe\">\n  <thead>\n    <tr style=\"text-align: right;\">\n      <th></th>\n      <th>customer_id</th>\n      <th>club_member_status</th>\n      <th>fashion_news_frequency</th>\n      <th>age</th>\n      <th>postal_code</th>\n    </tr>\n  </thead>\n  <tbody>\n    <tr>\n      <th>0</th>\n      <td>00000dbacae5abe5e23885899a1fa44253a17956c6d1c3...</td>\n      <td>ACTIVE</td>\n      <td>NONE</td>\n      <td>49.0</td>\n      <td>52043ee2162cf5aa7ee79974281641c6f11a68d276429a...</td>\n    </tr>\n    <tr>\n      <th>1</th>\n      <td>0000423b00ade91418cceaf3b26c6af3dd342b51fd051e...</td>\n      <td>ACTIVE</td>\n      <td>NONE</td>\n      <td>25.0</td>\n      <td>2973abc54daa8a5f8ccfe9362140c63247c5eee03f1d93...</td>\n    </tr>\n    <tr>\n      <th>2</th>\n      <td>000058a12d5b43e67d225668fa1f8d618c13dc232df0ca...</td>\n      <td>ACTIVE</td>\n      <td>NONE</td>\n      <td>24.0</td>\n      <td>64f17e6a330a85798e4998f62d0930d14db8db1c054af6...</td>\n    </tr>\n    <tr>\n      <th>3</th>\n      <td>00005ca1c9ed5f5146b52ac8639a40ca9d57aeff4d1bd2...</td>\n      <td>ACTIVE</td>\n      <td>NONE</td>\n      <td>54.0</td>\n      <td>5d36574f52495e81f019b680c843c443bd343d5ca5b1c2...</td>\n    </tr>\n    <tr>\n      <th>4</th>\n      <td>00006413d8573cd20ed7128e53b7b13819fe5cfc2d801f...</td>\n      <td>ACTIVE</td>\n      <td>Regularly</td>\n      <td>52.0</td>\n      <td>25fa5ddee9aac01b35208d01736e57942317d756b32ddd...</td>\n    </tr>\n    <tr>\n      <th>...</th>\n      <td>...</td>\n      <td>...</td>\n      <td>...</td>\n      <td>...</td>\n      <td>...</td>\n    </tr>\n    <tr>\n      <th>1371975</th>\n      <td>ffffbbf78b6eaac697a8a5dfbfd2bfa8113ee5b403e474...</td>\n      <td>ACTIVE</td>\n      <td>NONE</td>\n      <td>24.0</td>\n      <td>7aa399f7e669990daba2d92c577b52237380662f36480b...</td>\n    </tr>\n    <tr>\n      <th>1371976</th>\n      <td>ffffcd5046a6143d29a04fb8c424ce494a76e5cdf4fab5...</td>\n      <td>ACTIVE</td>\n      <td>NONE</td>\n      <td>21.0</td>\n      <td>3f47f1279beb72215f4de557d950e0bfa73789d24acb5e...</td>\n    </tr>\n    <tr>\n      <th>1371977</th>\n      <td>ffffcf35913a0bee60e8741cb2b4e78b8a98ee5ff2e6a1...</td>\n      <td>ACTIVE</td>\n      <td>Regularly</td>\n      <td>21.0</td>\n      <td>4563fc79215672cd6a863f2b4bf56b8f898f2d96ed590e...</td>\n    </tr>\n    <tr>\n      <th>1371978</th>\n      <td>ffffd7744cebcf3aca44ae7049d2a94b87074c3d4ffe38...</td>\n      <td>ACTIVE</td>\n      <td>Regularly</td>\n      <td>18.0</td>\n      <td>8892c18e9bc3dca6aa4000cb8094fc4b51ee8db2ed14d7...</td>\n    </tr>\n    <tr>\n      <th>1371979</th>\n      <td>ffffd9ac14e89946416d80e791d064701994755c3ab686...</td>\n      <td>PRE-CREATE</td>\n      <td>NONE</td>\n      <td>65.0</td>\n      <td>0a1a03306fb2f62164c2a439b38c0caa64b40deaae8687...</td>\n    </tr>\n  </tbody>\n</table>\n<p>1371980 rows × 5 columns</p>\n</div>"
     },
     "execution_count": 257,
     "metadata": {},
     "output_type": "execute_result"
    }
   ],
   "source": [
    "df_customers_cleaned = df_customers.drop(columns=['FN','Active'])\n",
    "df_customers_cleaned\n"
   ],
   "metadata": {
    "collapsed": false,
    "pycharm": {
     "name": "#%%\n"
    }
   }
  },
  {
   "cell_type": "code",
   "execution_count": 259,
   "outputs": [
    {
     "data": {
      "text/plain": "customer_id                   0\nclub_member_status         6062\nfashion_news_frequency    16009\nage                       15861\npostal_code                   0\ndtype: int64"
     },
     "execution_count": 259,
     "metadata": {},
     "output_type": "execute_result"
    }
   ],
   "source": [
    "df_customers_cleaned.isnull().sum()\n"
   ],
   "metadata": {
    "collapsed": false,
    "pycharm": {
     "name": "#%%\n"
    }
   }
  },
  {
   "cell_type": "code",
   "execution_count": 260,
   "outputs": [
    {
     "data": {
      "text/plain": "ACTIVE        1272491\nPRE-CREATE      92960\nLEFT CLUB         467\nName: club_member_status, dtype: int64"
     },
     "execution_count": 260,
     "metadata": {},
     "output_type": "execute_result"
    },
    {
     "data": {
      "text/plain": "<Figure size 432x288 with 1 Axes>",
      "image/png": "[encoded data removed]"
     },
     "metadata": {
      "needs_background": "light"
     },
     "output_type": "display_data"
    }
   ],
   "source": [
    "sns.countplot(df_customers_cleaned.club_member_status)\n",
    "df_customers_cleaned.club_member_status.value_counts()\n"
   ],
   "metadata": {
    "collapsed": false,
    "pycharm": {
     "name": "#%%\n"
    }
   }
  },
  {
   "cell_type": "code",
   "execution_count": 256,
   "outputs": [
    {
     "data": {
      "text/plain": "NONE         877711\nRegularly    477416\nMonthly         842\nNone              2\nName: fashion_news_frequency, dtype: int64"
     },
     "execution_count": 256,
     "metadata": {},
     "output_type": "execute_result"
    },
    {
     "data": {
      "text/plain": "<Figure size 432x288 with 1 Axes>",
      "image/png": "[encoded data removed]"
     },
     "metadata": {
      "needs_background": "light"
     },
     "output_type": "display_data"
    }
   ],
   "source": [
    "sns.countplot(df_customers_cleaned.fashion_news_frequency)\n",
    "df_customers_cleaned.fashion_news_frequency.value_counts()\n"
   ],
   "metadata": {
    "collapsed": false,
    "pycharm": {
     "name": "#%%\n"
    }
   }
  },
  {
   "cell_type": "code",
   "execution_count": 267,
   "outputs": [],
   "source": [
    "mask = df_customers_cleaned[df_customers_cleaned['fashion_news_frequency'] == 'None'].index.values\n",
    "df_customers_cleaned.loc[mask, 'fashion_news_frequency'] = 'NONE'"
   ],
   "metadata": {
    "collapsed": false,
    "pycharm": {
     "name": "#%%\n"
    }
   }
  },
  {
   "cell_type": "markdown",
   "source": [
    "### Impute Age"
   ],
   "metadata": {
    "collapsed": false
   }
  },
  {
   "cell_type": "code",
   "execution_count": 262,
   "outputs": [
    {
     "data": {
      "text/plain": "<AxesSubplot:xlabel='age', ylabel='Density'>"
     },
     "execution_count": 261,
     "metadata": {},
     "output_type": "execute_result"
    },
    {
     "data": {
      "text/plain": "<Figure size 432x288 with 1 Axes>",
      "image/png": "[encoded data removed]"
     },
     "metadata": {
      "needs_background": "light"
     },
     "output_type": "display_data"
    },
    {
     "data": {
      "text/plain": "<AxesSubplot:xlabel='age', ylabel='Density'>"
     },
     "execution_count": 262,
     "metadata": {},
     "output_type": "execute_result"
    },
    {
     "data": {
      "text/plain": "<Figure size 432x288 with 1 Axes>",
      "image/png": "[encoded data removed]"
     },
     "metadata": {
      "needs_background": "light"
     },
     "output_type": "display_data"
    }
   ],
   "source": [
    "sns.distplot(df_customers_cleaned.age)"
   ],
   "metadata": {
    "collapsed": false,
    "pycharm": {
     "name": "#%%\n"
    }
   }
  },
  {
   "cell_type": "code",
   "execution_count": 263,
   "outputs": [
    {
     "data": {
      "text/plain": "<AxesSubplot:xlabel='club_member_status', ylabel='age'>"
     },
     "execution_count": 263,
     "metadata": {},
     "output_type": "execute_result"
    },
    {
     "data": {
      "text/plain": "<Figure size 432x288 with 1 Axes>",
      "image/png": "[encoded data removed]"
     },
     "metadata": {
      "needs_background": "light"
     },
     "output_type": "display_data"
    }
   ],
   "source": [
    "sns.barplot(x='club_member_status', y='age', data=df_customers_cleaned)\n"
   ],
   "metadata": {
    "collapsed": false,
    "pycharm": {
     "name": "#%%\n"
    }
   }
  },
  {
   "cell_type": "code",
   "execution_count": 270,
   "outputs": [
    {
     "data": {
      "text/plain": "{'ACTIVE': 36.07799061010618,\n 'LEFT CLUB': 33.98922413793103,\n 'PRE-CREATE': 40.88531252919742}"
     },
     "execution_count": 270,
     "metadata": {},
     "output_type": "execute_result"
    }
   ],
   "source": [
    "df_customers_cleaned_ = df_customers_cleaned.copy()\n",
    "map_means = df_customers_cleaned_.groupby('club_member_status')['age'].mean().to_dict()\n",
    "map_means\n"
   ],
   "metadata": {
    "collapsed": false,
    "pycharm": {
     "name": "#%%\n"
    }
   }
  },
  {
   "cell_type": "code",
   "execution_count": 268,
   "outputs": [
    {
     "data": {
      "text/plain": "<AxesSubplot:xlabel='fashion_news_frequency', ylabel='age'>"
     },
     "execution_count": 268,
     "metadata": {},
     "output_type": "execute_result"
    },
    {
     "data": {
      "text/plain": "<Figure size 432x288 with 1 Axes>",
      "image/png": "[encoded data removed]"
     },
     "metadata": {
      "needs_background": "light"
     },
     "output_type": "display_data"
    }
   ],
   "source": [
    "sns.barplot(x='fashion_news_frequency', y='age', data=df_customers_cleaned)"
   ],
   "metadata": {
    "collapsed": false,
    "pycharm": {
     "name": "#%%\n"
    }
   }
  },
  {
   "cell_type": "code",
   "execution_count": 269,
   "outputs": [
    {
     "data": {
      "text/plain": "{'Monthly': 39.686087990487515,\n 'NONE': 36.006095193187804,\n 'None': nan,\n 'Regularly': 37.03067967770589}"
     },
     "execution_count": 269,
     "metadata": {},
     "output_type": "execute_result"
    }
   ],
   "source": [
    "df_customers_cleaned_ = df_customers_cleaned.copy()\n",
    "map_means = df_customers_cleaned_.groupby('fashion_news_frequency')['age'].mean().to_dict()\n",
    "map_means\n"
   ],
   "metadata": {
    "collapsed": false,
    "pycharm": {
     "name": "#%%\n"
    }
   }
  },
  {
   "cell_type": "code",
   "execution_count": null,
   "outputs": [],
   "source": [],
   "metadata": {
    "collapsed": false,
    "pycharm": {
     "name": "#%%\n"
    }
   }
  },
  {
   "cell_type": "code",
   "execution_count": 271,
   "outputs": [
    {
     "name": "stderr",
     "output_type": "stream",
     "text": [
      "100%|██████████| 15861/15861 [02:28<00:00, 106.54it/s]\n"
     ]
    }
   ],
   "source": [
    "# Impute the Age with the mean age of club_member_status/fashion_news_frequency\n",
    "mask = df_customers_cleaned['age'].isnull()\n",
    "age_values = df_customers_cleaned.loc[mask, 'club_member_status'].map(map_means).values\n",
    "is_nan_age = df_customers_cleaned.loc[mask, 'age'].index.values\n",
    "\n",
    "for i in tqdm(range(len(is_nan_age))):\n",
    "    df_customers_cleaned.loc[is_nan_age[i], 'age'] = age_values[i]"
   ],
   "metadata": {
    "collapsed": false,
    "pycharm": {
     "name": "#%%\n"
    }
   }
  },
  {
   "cell_type": "code",
   "execution_count": null,
   "outputs": [],
   "source": [],
   "metadata": {
    "collapsed": false,
    "pycharm": {
     "name": "#%%\n"
    }
   }
  },
  {
   "cell_type": "code",
   "execution_count": null,
   "outputs": [],
   "source": [],
   "metadata": {
    "collapsed": false,
    "pycharm": {
     "name": "#%%\n"
    }
   }
  },
  {
   "cell_type": "code",
   "execution_count": 255,
   "outputs": [],
   "source": [
    "# Impute club_member_status by majority vote value which is \"Active\".\n",
    "df_customers_cleaned['club_member_status'].fillna('ACTIVE', inplace=True)"
   ],
   "metadata": {
    "collapsed": false,
    "pycharm": {
     "name": "#%%\n"
    }
   }
  },
  {
   "cell_type": "code",
   "execution_count": 247,
   "outputs": [],
   "source": [
    "# Impute fashion_news_frequency by majority vote value which is \"NONE\".\n",
    "df_customers_cleaned['fashion_news_frequency'].fillna('NONE', inplace=True)"
   ],
   "metadata": {
    "collapsed": false,
    "pycharm": {
     "name": "#%%\n"
    }
   }
  },
  {
   "cell_type": "code",
   "execution_count": 248,
   "outputs": [
    {
     "data": {
      "text/plain": "customer_id                   0\nclub_member_status            0\nfashion_news_frequency        0\nage                       15861\npostal_code                   0\ndtype: int64"
     },
     "execution_count": 248,
     "metadata": {},
     "output_type": "execute_result"
    }
   ],
   "source": [
    "df_customers_cleaned.isnull().sum()\n"
   ],
   "metadata": {
    "collapsed": false,
    "pycharm": {
     "name": "#%%\n"
    }
   }
  },
  {
   "cell_type": "code",
   "execution_count": 272,
   "outputs": [
    {
     "data": {
      "text/plain": "                                               customer_id   FN  Active  \\\n0        00000dbacae5abe5e23885899a1fa44253a17956c6d1c3...  NaN     NaN   \n1        0000423b00ade91418cceaf3b26c6af3dd342b51fd051e...  NaN     NaN   \n2        000058a12d5b43e67d225668fa1f8d618c13dc232df0ca...  NaN     NaN   \n3        00005ca1c9ed5f5146b52ac8639a40ca9d57aeff4d1bd2...  NaN     NaN   \n4        00006413d8573cd20ed7128e53b7b13819fe5cfc2d801f...  1.0     1.0   \n...                                                    ...  ...     ...   \n1371975  ffffbbf78b6eaac697a8a5dfbfd2bfa8113ee5b403e474...  NaN     NaN   \n1371976  ffffcd5046a6143d29a04fb8c424ce494a76e5cdf4fab5...  NaN     NaN   \n1371977  ffffcf35913a0bee60e8741cb2b4e78b8a98ee5ff2e6a1...  1.0     1.0   \n1371978  ffffd7744cebcf3aca44ae7049d2a94b87074c3d4ffe38...  1.0     1.0   \n1371979  ffffd9ac14e89946416d80e791d064701994755c3ab686...  NaN     NaN   \n\n        club_member_status fashion_news_frequency   age  \\\n0                   ACTIVE                   NONE  49.0   \n1                   ACTIVE                   NONE  25.0   \n2                   ACTIVE                   NONE  24.0   \n3                   ACTIVE                   NONE  54.0   \n4                   ACTIVE              Regularly  52.0   \n...                    ...                    ...   ...   \n1371975             ACTIVE                   NONE  24.0   \n1371976             ACTIVE                   NONE  21.0   \n1371977             ACTIVE              Regularly  21.0   \n1371978             ACTIVE              Regularly  18.0   \n1371979         PRE-CREATE                   NONE  65.0   \n\n                                               postal_code  \n0        52043ee2162cf5aa7ee79974281641c6f11a68d276429a...  \n1        2973abc54daa8a5f8ccfe9362140c63247c5eee03f1d93...  \n2        64f17e6a330a85798e4998f62d0930d14db8db1c054af6...  \n3        5d36574f52495e81f019b680c843c443bd343d5ca5b1c2...  \n4        25fa5ddee9aac01b35208d01736e57942317d756b32ddd...  \n...                                                    ...  \n1371975  7aa399f7e669990daba2d92c577b52237380662f36480b...  \n1371976  3f47f1279beb72215f4de557d950e0bfa73789d24acb5e...  \n1371977  4563fc79215672cd6a863f2b4bf56b8f898f2d96ed590e...  \n1371978  8892c18e9bc3dca6aa4000cb8094fc4b51ee8db2ed14d7...  \n1371979  0a1a03306fb2f62164c2a439b38c0caa64b40deaae8687...  \n\n[1371980 rows x 7 columns]",
      "text/html": "<div>\n<style scoped>\n    .dataframe tbody tr th:only-of-type {\n        vertical-align: middle;\n    }\n\n    .dataframe tbody tr th {\n        vertical-align: top;\n    }\n\n    .dataframe thead th {\n        text-align: right;\n    }\n</style>\n<table border=\"1\" class=\"dataframe\">\n  <thead>\n    <tr style=\"text-align: right;\">\n      <th></th>\n      <th>customer_id</th>\n      <th>FN</th>\n      <th>Active</th>\n      <th>club_member_status</th>\n      <th>fashion_news_frequency</th>\n      <th>age</th>\n      <th>postal_code</th>\n    </tr>\n  </thead>\n  <tbody>\n    <tr>\n      <th>0</th>\n      <td>00000dbacae5abe5e23885899a1fa44253a17956c6d1c3...</td>\n      <td>NaN</td>\n      <td>NaN</td>\n      <td>ACTIVE</td>\n      <td>NONE</td>\n      <td>49.0</td>\n      <td>52043ee2162cf5aa7ee79974281641c6f11a68d276429a...</td>\n    </tr>\n    <tr>\n      <th>1</th>\n      <td>0000423b00ade91418cceaf3b26c6af3dd342b51fd051e...</td>\n      <td>NaN</td>\n      <td>NaN</td>\n      <td>ACTIVE</td>\n      <td>NONE</td>\n      <td>25.0</td>\n      <td>2973abc54daa8a5f8ccfe9362140c63247c5eee03f1d93...</td>\n    </tr>\n    <tr>\n      <th>2</th>\n      <td>000058a12d5b43e67d225668fa1f8d618c13dc232df0ca...</td>\n      <td>NaN</td>\n      <td>NaN</td>\n      <td>ACTIVE</td>\n      <td>NONE</td>\n      <td>24.0</td>\n      <td>64f17e6a330a85798e4998f62d0930d14db8db1c054af6...</td>\n    </tr>\n    <tr>\n      <th>3</th>\n      <td>00005ca1c9ed5f5146b52ac8639a40ca9d57aeff4d1bd2...</td>\n      <td>NaN</td>\n      <td>NaN</td>\n      <td>ACTIVE</td>\n      <td>NONE</td>\n      <td>54.0</td>\n      <td>5d36574f52495e81f019b680c843c443bd343d5ca5b1c2...</td>\n    </tr>\n    <tr>\n      <th>4</th>\n      <td>00006413d8573cd20ed7128e53b7b13819fe5cfc2d801f...</td>\n      <td>1.0</td>\n      <td>1.0</td>\n      <td>ACTIVE</td>\n      <td>Regularly</td>\n      <td>52.0</td>\n      <td>25fa5ddee9aac01b35208d01736e57942317d756b32ddd...</td>\n    </tr>\n    <tr>\n      <th>...</th>\n      <td>...</td>\n      <td>...</td>\n      <td>...</td>\n      <td>...</td>\n      <td>...</td>\n      <td>...</td>\n      <td>...</td>\n    </tr>\n    <tr>\n      <th>1371975</th>\n      <td>ffffbbf78b6eaac697a8a5dfbfd2bfa8113ee5b403e474...</td>\n      <td>NaN</td>\n      <td>NaN</td>\n      <td>ACTIVE</td>\n      <td>NONE</td>\n      <td>24.0</td>\n      <td>7aa399f7e669990daba2d92c577b52237380662f36480b...</td>\n    </tr>\n    <tr>\n      <th>1371976</th>\n      <td>ffffcd5046a6143d29a04fb8c424ce494a76e5cdf4fab5...</td>\n      <td>NaN</td>\n      <td>NaN</td>\n      <td>ACTIVE</td>\n      <td>NONE</td>\n      <td>21.0</td>\n      <td>3f47f1279beb72215f4de557d950e0bfa73789d24acb5e...</td>\n    </tr>\n    <tr>\n      <th>1371977</th>\n      <td>ffffcf35913a0bee60e8741cb2b4e78b8a98ee5ff2e6a1...</td>\n      <td>1.0</td>\n      <td>1.0</td>\n      <td>ACTIVE</td>\n      <td>Regularly</td>\n      <td>21.0</td>\n      <td>4563fc79215672cd6a863f2b4bf56b8f898f2d96ed590e...</td>\n    </tr>\n    <tr>\n      <th>1371978</th>\n      <td>ffffd7744cebcf3aca44ae7049d2a94b87074c3d4ffe38...</td>\n      <td>1.0</td>\n      <td>1.0</td>\n      <td>ACTIVE</td>\n      <td>Regularly</td>\n      <td>18.0</td>\n      <td>8892c18e9bc3dca6aa4000cb8094fc4b51ee8db2ed14d7...</td>\n    </tr>\n    <tr>\n      <th>1371979</th>\n      <td>ffffd9ac14e89946416d80e791d064701994755c3ab686...</td>\n      <td>NaN</td>\n      <td>NaN</td>\n      <td>PRE-CREATE</td>\n      <td>NONE</td>\n      <td>65.0</td>\n      <td>0a1a03306fb2f62164c2a439b38c0caa64b40deaae8687...</td>\n    </tr>\n  </tbody>\n</table>\n<p>1371980 rows × 7 columns</p>\n</div>"
     },
     "execution_count": 272,
     "metadata": {},
     "output_type": "execute_result"
    }
   ],
   "source": [
    "df_customers"
   ],
   "metadata": {
    "collapsed": false,
    "pycharm": {
     "name": "#%%\n"
    }
   }
  },
  {
   "cell_type": "code",
   "execution_count": 275,
   "outputs": [
    {
     "name": "stderr",
     "output_type": "stream",
     "text": [
      "100%|██████████| 15861/15861 [03:34<00:00, 73.98it/s] \n"
     ]
    }
   ],
   "source": [
    "from DataCleaning.data_cleaning import *\n",
    "\n",
    "df_customers_clean_test = df_customers.copy()\n",
    "# df_customers_clean_test = clean_FN(df_customers_clean_test)\n",
    "# df_customers_clean_test = clean_Active(df_customers_clean_test)\n",
    "df_customers_clean_test = clean_club_member_status(df_customers_clean_test)\n",
    "df_customers_clean_test = clean_fashion_news_frequency(df_customers_clean_test)\n",
    "df_customers_clean_test = clean_Age(df_customers_clean_test)"
   ],
   "metadata": {
    "collapsed": false,
    "pycharm": {
     "name": "#%%\n"
    }
   }
  },
  {
   "cell_type": "code",
   "execution_count": 276,
   "outputs": [
    {
     "data": {
      "text/plain": "customer_id                    0\nFN                        895050\nActive                    907576\nclub_member_status             0\nfashion_news_frequency         0\nage                            0\npostal_code                    0\ndtype: int64"
     },
     "execution_count": 276,
     "metadata": {},
     "output_type": "execute_result"
    }
   ],
   "source": [
    "df_customers_clean_test.isnull().sum()\n"
   ],
   "metadata": {
    "collapsed": false,
    "pycharm": {
     "name": "#%%\n"
    }
   }
  },
  {
   "cell_type": "code",
   "execution_count": 277,
   "outputs": [],
   "source": [
    "df_customers_clean_test['FN'] = df_customers_clean_test['FN'].fillna(0)\n"
   ],
   "metadata": {
    "collapsed": false,
    "pycharm": {
     "name": "#%%\n"
    }
   }
  },
  {
   "cell_type": "code",
   "execution_count": 278,
   "outputs": [
    {
     "data": {
      "text/plain": "customer_id                    0\nFN                             0\nActive                    907576\nclub_member_status             0\nfashion_news_frequency         0\nage                            0\npostal_code                    0\ndtype: int64"
     },
     "execution_count": 278,
     "metadata": {},
     "output_type": "execute_result"
    }
   ],
   "source": [
    "df_customers_clean_test.isnull().sum()"
   ],
   "metadata": {
    "collapsed": false,
    "pycharm": {
     "name": "#%%\n"
    }
   }
  },
  {
   "cell_type": "code",
   "execution_count": 279,
   "outputs": [
    {
     "data": {
      "text/plain": "                                               customer_id   FN  Active  \\\n0        00000dbacae5abe5e23885899a1fa44253a17956c6d1c3...  0.0     NaN   \n1        0000423b00ade91418cceaf3b26c6af3dd342b51fd051e...  0.0     NaN   \n2        000058a12d5b43e67d225668fa1f8d618c13dc232df0ca...  0.0     NaN   \n3        00005ca1c9ed5f5146b52ac8639a40ca9d57aeff4d1bd2...  0.0     NaN   \n4        00006413d8573cd20ed7128e53b7b13819fe5cfc2d801f...  1.0     1.0   \n...                                                    ...  ...     ...   \n1371975  ffffbbf78b6eaac697a8a5dfbfd2bfa8113ee5b403e474...  0.0     NaN   \n1371976  ffffcd5046a6143d29a04fb8c424ce494a76e5cdf4fab5...  0.0     NaN   \n1371977  ffffcf35913a0bee60e8741cb2b4e78b8a98ee5ff2e6a1...  1.0     1.0   \n1371978  ffffd7744cebcf3aca44ae7049d2a94b87074c3d4ffe38...  1.0     1.0   \n1371979  ffffd9ac14e89946416d80e791d064701994755c3ab686...  0.0     NaN   \n\n        club_member_status fashion_news_frequency   age  \\\n0                   ACTIVE                   NONE  49.0   \n1                   ACTIVE                   NONE  25.0   \n2                   ACTIVE                   NONE  24.0   \n3                   ACTIVE                   NONE  54.0   \n4                   ACTIVE              Regularly  52.0   \n...                    ...                    ...   ...   \n1371975             ACTIVE                   NONE  24.0   \n1371976             ACTIVE                   NONE  21.0   \n1371977             ACTIVE              Regularly  21.0   \n1371978             ACTIVE              Regularly  18.0   \n1371979         PRE-CREATE                   NONE  65.0   \n\n                                               postal_code  \n0        52043ee2162cf5aa7ee79974281641c6f11a68d276429a...  \n1        2973abc54daa8a5f8ccfe9362140c63247c5eee03f1d93...  \n2        64f17e6a330a85798e4998f62d0930d14db8db1c054af6...  \n3        5d36574f52495e81f019b680c843c443bd343d5ca5b1c2...  \n4        25fa5ddee9aac01b35208d01736e57942317d756b32ddd...  \n...                                                    ...  \n1371975  7aa399f7e669990daba2d92c577b52237380662f36480b...  \n1371976  3f47f1279beb72215f4de557d950e0bfa73789d24acb5e...  \n1371977  4563fc79215672cd6a863f2b4bf56b8f898f2d96ed590e...  \n1371978  8892c18e9bc3dca6aa4000cb8094fc4b51ee8db2ed14d7...  \n1371979  0a1a03306fb2f62164c2a439b38c0caa64b40deaae8687...  \n\n[1371980 rows x 7 columns]",
      "text/html": "<div>\n<style scoped>\n    .dataframe tbody tr th:only-of-type {\n        vertical-align: middle;\n    }\n\n    .dataframe tbody tr th {\n        vertical-align: top;\n    }\n\n    .dataframe thead th {\n        text-align: right;\n    }\n</style>\n<table border=\"1\" class=\"dataframe\">\n  <thead>\n    <tr style=\"text-align: right;\">\n      <th></th>\n      <th>customer_id</th>\n      <th>FN</th>\n      <th>Active</th>\n      <th>club_member_status</th>\n      <th>fashion_news_frequency</th>\n      <th>age</th>\n      <th>postal_code</th>\n    </tr>\n  </thead>\n  <tbody>\n    <tr>\n      <th>0</th>\n      <td>00000dbacae5abe5e23885899a1fa44253a17956c6d1c3...</td>\n      <td>0.0</td>\n      <td>NaN</td>\n      <td>ACTIVE</td>\n      <td>NONE</td>\n      <td>49.0</td>\n      <td>52043ee2162cf5aa7ee79974281641c6f11a68d276429a...</td>\n    </tr>\n    <tr>\n      <th>1</th>\n      <td>0000423b00ade91418cceaf3b26c6af3dd342b51fd051e...</td>\n      <td>0.0</td>\n      <td>NaN</td>\n      <td>ACTIVE</td>\n      <td>NONE</td>\n      <td>25.0</td>\n      <td>2973abc54daa8a5f8ccfe9362140c63247c5eee03f1d93...</td>\n    </tr>\n    <tr>\n      <th>2</th>\n      <td>000058a12d5b43e67d225668fa1f8d618c13dc232df0ca...</td>\n      <td>0.0</td>\n      <td>NaN</td>\n      <td>ACTIVE</td>\n      <td>NONE</td>\n      <td>24.0</td>\n      <td>64f17e6a330a85798e4998f62d0930d14db8db1c054af6...</td>\n    </tr>\n    <tr>\n      <th>3</th>\n      <td>00005ca1c9ed5f5146b52ac8639a40ca9d57aeff4d1bd2...</td>\n      <td>0.0</td>\n      <td>NaN</td>\n      <td>ACTIVE</td>\n      <td>NONE</td>\n      <td>54.0</td>\n      <td>5d36574f52495e81f019b680c843c443bd343d5ca5b1c2...</td>\n    </tr>\n    <tr>\n      <th>4</th>\n      <td>00006413d8573cd20ed7128e53b7b13819fe5cfc2d801f...</td>\n      <td>1.0</td>\n      <td>1.0</td>\n      <td>ACTIVE</td>\n      <td>Regularly</td>\n      <td>52.0</td>\n      <td>25fa5ddee9aac01b35208d01736e57942317d756b32ddd...</td>\n    </tr>\n    <tr>\n      <th>...</th>\n      <td>...</td>\n      <td>...</td>\n      <td>...</td>\n      <td>...</td>\n      <td>...</td>\n      <td>...</td>\n      <td>...</td>\n    </tr>\n    <tr>\n      <th>1371975</th>\n      <td>ffffbbf78b6eaac697a8a5dfbfd2bfa8113ee5b403e474...</td>\n      <td>0.0</td>\n      <td>NaN</td>\n      <td>ACTIVE</td>\n      <td>NONE</td>\n      <td>24.0</td>\n      <td>7aa399f7e669990daba2d92c577b52237380662f36480b...</td>\n    </tr>\n    <tr>\n      <th>1371976</th>\n      <td>ffffcd5046a6143d29a04fb8c424ce494a76e5cdf4fab5...</td>\n      <td>0.0</td>\n      <td>NaN</td>\n      <td>ACTIVE</td>\n      <td>NONE</td>\n      <td>21.0</td>\n      <td>3f47f1279beb72215f4de557d950e0bfa73789d24acb5e...</td>\n    </tr>\n    <tr>\n      <th>1371977</th>\n      <td>ffffcf35913a0bee60e8741cb2b4e78b8a98ee5ff2e6a1...</td>\n      <td>1.0</td>\n      <td>1.0</td>\n      <td>ACTIVE</td>\n      <td>Regularly</td>\n      <td>21.0</td>\n      <td>4563fc79215672cd6a863f2b4bf56b8f898f2d96ed590e...</td>\n    </tr>\n    <tr>\n      <th>1371978</th>\n      <td>ffffd7744cebcf3aca44ae7049d2a94b87074c3d4ffe38...</td>\n      <td>1.0</td>\n      <td>1.0</td>\n      <td>ACTIVE</td>\n      <td>Regularly</td>\n      <td>18.0</td>\n      <td>8892c18e9bc3dca6aa4000cb8094fc4b51ee8db2ed14d7...</td>\n    </tr>\n    <tr>\n      <th>1371979</th>\n      <td>ffffd9ac14e89946416d80e791d064701994755c3ab686...</td>\n      <td>0.0</td>\n      <td>NaN</td>\n      <td>PRE-CREATE</td>\n      <td>NONE</td>\n      <td>65.0</td>\n      <td>0a1a03306fb2f62164c2a439b38c0caa64b40deaae8687...</td>\n    </tr>\n  </tbody>\n</table>\n<p>1371980 rows × 7 columns</p>\n</div>"
     },
     "execution_count": 279,
     "metadata": {},
     "output_type": "execute_result"
    }
   ],
   "source": [
    "df_customers_clean_test\n"
   ],
   "metadata": {
    "collapsed": false,
    "pycharm": {
     "name": "#%%\n"
    }
   }
  },
  {
   "cell_type": "code",
   "execution_count": 280,
   "outputs": [],
   "source": [
    "df_customers_clean_test = clean_Active(df_customers_clean_test)\n"
   ],
   "metadata": {
    "collapsed": false,
    "pycharm": {
     "name": "#%%\n"
    }
   }
  },
  {
   "cell_type": "code",
   "execution_count": 281,
   "outputs": [
    {
     "data": {
      "text/plain": "customer_id               0\nFN                        0\nclub_member_status        0\nfashion_news_frequency    0\nage                       0\npostal_code               0\ndtype: int64"
     },
     "execution_count": 281,
     "metadata": {},
     "output_type": "execute_result"
    }
   ],
   "source": [
    "df_customers_clean_test.isnull().sum()\n"
   ],
   "metadata": {
    "collapsed": false,
    "pycharm": {
     "name": "#%%\n"
    }
   }
  },
  {
   "cell_type": "code",
   "execution_count": null,
   "outputs": [],
   "source": [],
   "metadata": {
    "collapsed": false,
    "pycharm": {
     "name": "#%%\n"
    }
   }
  }
 ],
 "metadata": {
  "kernelspec": {
   "display_name": "Python 3",
   "language": "python",
   "name": "python3"
  },
  "language_info": {
   "codemirror_mode": {
    "name": "ipython",
    "version": 2
   },
   "file_extension": ".py",
   "mimetype": "text/x-python",
   "name": "python",
   "nbconvert_exporter": "python",
   "pygments_lexer": "ipython2",
   "version": "2.7.6"
  }
 },
 "nbformat": 4,
 "nbformat_minor": 0
}